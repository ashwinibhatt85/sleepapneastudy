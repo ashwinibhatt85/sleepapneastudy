Section 1. Business Understanding
For this project on writing a data science blog post, I have chosen a dataset on Sleep Apnea from VA Medical Center - Detroit. This dataset has Sleep Apnea Architecture and metrics along with other info about the patients. To help better understand the data I have the following questions.

Questions

1)	What are the Preventable factors and their impacts over the Sleep Apnea
2)	What are non-Preventable factors and their impacts over sleep apnea
3)	Can it be cured/ or even controlled over time? If Yes, How?

# Import libraries needed
import numpy as np
import pandas as pd
import matplotlib.pyplot as plt
import seaborn as sns
%matplotlib inline


Section 2: Data understanding
Access Data
Data is read using the Pandas read_csv() function and stored in df

df=pd.read_csv("Sleep_Apnea_Data.csv")
df.head(3) # preview dataframe
