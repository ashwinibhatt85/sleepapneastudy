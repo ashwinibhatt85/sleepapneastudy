{
 "cells": [
  {
   "cell_type": "markdown",
   "metadata": {},
   "source": [
    "## Section 1. Business Understanding"
   ]
  },
  {
   "cell_type": "markdown",
   "metadata": {},
   "source": [
    "For this project on writing a data science blog post, I have chosen a dataset on Sleep Apnea from VA Medical Center - Detroit. This dataset has Sleep apnea Architecture and metrics along with other info about the patients. To help better understand the data I have the following questions. \n",
    "\n",
    "Questions\n",
    " \n",
    "* What role does Race play over the Preventable factors and their impacts over Sleep Apnea?\n",
    "* What affect does Race have in the non-Preventable factors and their impacts over Sleep Apnea?\n",
    "* Can Sleep Apnea be cured or for that matter even controlled/managed over time? If yes, how?\n",
    "* How are these factors influencing the severity of the disease and its treatment?\n"
   ]
  },
  {
   "cell_type": "code",
   "execution_count": 1,
   "metadata": {},
   "outputs": [],
   "source": [
    "# Import libraries needed\n",
    "import numpy as np\n",
    "import pandas as pd\n",
    "import matplotlib.pyplot as plt\n",
    "import seaborn as sns\n",
    "%matplotlib inline"
   ]
  },
  {
   "cell_type": "markdown",
   "metadata": {},
   "source": [
    "## Section 2: Data understanding"
   ]
  },
  {
   "cell_type": "markdown",
   "metadata": {},
   "source": [
    "##### Access Data"
   ]
  },
  {
   "cell_type": "markdown",
   "metadata": {},
   "source": [
    "Data is read using the Pandas read_csv() function and stored in df "
   ]
  },
  {
   "cell_type": "code",
   "execution_count": 2,
   "metadata": {
    "scrolled": true
   },
   "outputs": [
    {
     "data": {
      "text/html": [
       "<div>\n",
       "<style scoped>\n",
       "    .dataframe tbody tr th:only-of-type {\n",
       "        vertical-align: middle;\n",
       "    }\n",
       "\n",
       "    .dataframe tbody tr th {\n",
       "        vertical-align: top;\n",
       "    }\n",
       "\n",
       "    .dataframe thead th {\n",
       "        text-align: right;\n",
       "    }\n",
       "</style>\n",
       "<table border=\"1\" class=\"dataframe\">\n",
       "  <thead>\n",
       "    <tr style=\"text-align: right;\">\n",
       "      <th></th>\n",
       "      <th>Participant Coded</th>\n",
       "      <th>Age(Yrs)</th>\n",
       "      <th>Race</th>\n",
       "      <th>Socio-Economic Status</th>\n",
       "      <th>Presence of OSA associated gene-Serotonin receptor encoding gene (HTR2A)</th>\n",
       "      <th>BMI</th>\n",
       "      <th>Obesity</th>\n",
       "      <th>Education</th>\n",
       "      <th>Type of Meals</th>\n",
       "      <th>Diabetic</th>\n",
       "      <th>...</th>\n",
       "      <th>Hypertension</th>\n",
       "      <th>Lowest Oxygen Desaturation(%) -hypoxic burden/stress</th>\n",
       "      <th>Average Apnea Duration(seconds)- sleep apnea architecture</th>\n",
       "      <th>Arousal Index(Number of Arousals/Hour)- sleep fragmentation</th>\n",
       "      <th>% NREM Sleep-Sleep Quality</th>\n",
       "      <th>Average CPAP use(hours/night) -CPAP compliance/adherance</th>\n",
       "      <th>Apnea Hypopnea Index AHI-After 12 weeks of CPAP Use</th>\n",
       "      <th>Reduction in Snoring-After 12 weeks of CPAP Use</th>\n",
       "      <th>Reduction in Tiredness-After 12 weeks of CPAP Use</th>\n",
       "      <th>Reduction in Daytime Sleepiness-After 12 weeks of CPAP Use</th>\n",
       "    </tr>\n",
       "  </thead>\n",
       "  <tbody>\n",
       "    <tr>\n",
       "      <th>0</th>\n",
       "      <td>AB</td>\n",
       "      <td>44</td>\n",
       "      <td>AA</td>\n",
       "      <td>Middle</td>\n",
       "      <td>Y</td>\n",
       "      <td>29.8</td>\n",
       "      <td>N</td>\n",
       "      <td>UG</td>\n",
       "      <td>P</td>\n",
       "      <td>N</td>\n",
       "      <td>...</td>\n",
       "      <td>Y</td>\n",
       "      <td>81.3</td>\n",
       "      <td>25.4</td>\n",
       "      <td>27.40</td>\n",
       "      <td>0.95</td>\n",
       "      <td>3.42</td>\n",
       "      <td>42.1</td>\n",
       "      <td>1</td>\n",
       "      <td>1</td>\n",
       "      <td>1</td>\n",
       "    </tr>\n",
       "    <tr>\n",
       "      <th>1</th>\n",
       "      <td>AL</td>\n",
       "      <td>49</td>\n",
       "      <td>AA</td>\n",
       "      <td>Middle</td>\n",
       "      <td>Y</td>\n",
       "      <td>37.8</td>\n",
       "      <td>Y</td>\n",
       "      <td>UG</td>\n",
       "      <td>F</td>\n",
       "      <td>N</td>\n",
       "      <td>...</td>\n",
       "      <td>Y</td>\n",
       "      <td>81.2</td>\n",
       "      <td>29.2</td>\n",
       "      <td>28.08</td>\n",
       "      <td>0.91</td>\n",
       "      <td>4.30</td>\n",
       "      <td>74.3</td>\n",
       "      <td>1</td>\n",
       "      <td>1</td>\n",
       "      <td>1</td>\n",
       "    </tr>\n",
       "    <tr>\n",
       "      <th>2</th>\n",
       "      <td>AM</td>\n",
       "      <td>36</td>\n",
       "      <td>AA</td>\n",
       "      <td>Middle</td>\n",
       "      <td>Y</td>\n",
       "      <td>34.1</td>\n",
       "      <td>Y</td>\n",
       "      <td>UG</td>\n",
       "      <td>F</td>\n",
       "      <td>N</td>\n",
       "      <td>...</td>\n",
       "      <td>Y</td>\n",
       "      <td>77.4</td>\n",
       "      <td>43.7</td>\n",
       "      <td>22.52</td>\n",
       "      <td>0.79</td>\n",
       "      <td>3.44</td>\n",
       "      <td>33.4</td>\n",
       "      <td>1</td>\n",
       "      <td>2</td>\n",
       "      <td>1</td>\n",
       "    </tr>\n",
       "    <tr>\n",
       "      <th>3</th>\n",
       "      <td>AO</td>\n",
       "      <td>37</td>\n",
       "      <td>AA</td>\n",
       "      <td>Low</td>\n",
       "      <td>Y</td>\n",
       "      <td>38.6</td>\n",
       "      <td>Y</td>\n",
       "      <td>HS</td>\n",
       "      <td>P</td>\n",
       "      <td>N</td>\n",
       "      <td>...</td>\n",
       "      <td>Y</td>\n",
       "      <td>80.2</td>\n",
       "      <td>24.6</td>\n",
       "      <td>21.08</td>\n",
       "      <td>0.70</td>\n",
       "      <td>3.72</td>\n",
       "      <td>41.5</td>\n",
       "      <td>2</td>\n",
       "      <td>1</td>\n",
       "      <td>1</td>\n",
       "    </tr>\n",
       "  </tbody>\n",
       "</table>\n",
       "<p>4 rows × 25 columns</p>\n",
       "</div>"
      ],
      "text/plain": [
       "  Participant Coded  Age(Yrs) Race Socio-Economic Status  \\\n",
       "0                AB        44   AA                Middle   \n",
       "1                AL        49   AA                Middle   \n",
       "2                AM        36   AA                Middle   \n",
       "3                AO        37   AA                   Low   \n",
       "\n",
       "  Presence of OSA associated gene-Serotonin receptor encoding gene (HTR2A)  \\\n",
       "0                                                  Y                         \n",
       "1                                                  Y                         \n",
       "2                                                  Y                         \n",
       "3                                                  Y                         \n",
       "\n",
       "    BMI Obesity Education Type of Meals Diabetic  ... Hypertension  \\\n",
       "0  29.8       N        UG             P        N  ...            Y   \n",
       "1  37.8       Y        UG             F        N  ...            Y   \n",
       "2  34.1       Y        UG             F        N  ...            Y   \n",
       "3  38.6       Y        HS             P        N  ...            Y   \n",
       "\n",
       "   Lowest Oxygen Desaturation(%) -hypoxic burden/stress  \\\n",
       "0                                               81.3      \n",
       "1                                               81.2      \n",
       "2                                               77.4      \n",
       "3                                               80.2      \n",
       "\n",
       "  Average Apnea Duration(seconds)- sleep apnea architecture  \\\n",
       "0                                               25.4          \n",
       "1                                               29.2          \n",
       "2                                               43.7          \n",
       "3                                               24.6          \n",
       "\n",
       "   Arousal Index(Number of Arousals/Hour)- sleep fragmentation  \\\n",
       "0                                              27.40             \n",
       "1                                              28.08             \n",
       "2                                              22.52             \n",
       "3                                              21.08             \n",
       "\n",
       "   % NREM Sleep-Sleep Quality  \\\n",
       "0                        0.95   \n",
       "1                        0.91   \n",
       "2                        0.79   \n",
       "3                        0.70   \n",
       "\n",
       "  Average CPAP use(hours/night) -CPAP compliance/adherance  \\\n",
       "0                                               3.42         \n",
       "1                                               4.30         \n",
       "2                                               3.44         \n",
       "3                                               3.72         \n",
       "\n",
       "   Apnea Hypopnea Index AHI-After 12 weeks of CPAP Use  \\\n",
       "0                                               42.1     \n",
       "1                                               74.3     \n",
       "2                                               33.4     \n",
       "3                                               41.5     \n",
       "\n",
       "   Reduction in Snoring-After 12 weeks of CPAP Use  \\\n",
       "0                                                1   \n",
       "1                                                1   \n",
       "2                                                1   \n",
       "3                                                2   \n",
       "\n",
       "   Reduction in Tiredness-After 12 weeks of CPAP Use  \\\n",
       "0                                                  1   \n",
       "1                                                  1   \n",
       "2                                                  2   \n",
       "3                                                  1   \n",
       "\n",
       "   Reduction in Daytime Sleepiness-After 12 weeks of CPAP Use  \n",
       "0                                                  1           \n",
       "1                                                  1           \n",
       "2                                                  1           \n",
       "3                                                  1           \n",
       "\n",
       "[4 rows x 25 columns]"
      ]
     },
     "execution_count": 2,
     "metadata": {},
     "output_type": "execute_result"
    }
   ],
   "source": [
    "df=pd.read_csv(\"Sleep_Apnea_Data.csv\")\n",
    "df.head(4) # preview dataframe"
   ]
  },
  {
   "cell_type": "markdown",
   "metadata": {},
   "source": [
    "##### Explore Data"
   ]
  },
  {
   "cell_type": "code",
   "execution_count": 3,
   "metadata": {},
   "outputs": [
    {
     "name": "stdout",
     "output_type": "stream",
     "text": [
      "<class 'pandas.core.frame.DataFrame'>\n",
      "RangeIndex: 208 entries, 0 to 207\n",
      "Data columns (total 25 columns):\n",
      " #   Column                                                                    Non-Null Count  Dtype  \n",
      "---  ------                                                                    --------------  -----  \n",
      " 0   Participant Coded                                                         208 non-null    object \n",
      " 1   Age(Yrs)                                                                  208 non-null    int64  \n",
      " 2   Race                                                                      208 non-null    object \n",
      " 3   Socio-Economic Status                                                     208 non-null    object \n",
      " 4   Presence of OSA associated gene-Serotonin receptor encoding gene (HTR2A)  208 non-null    object \n",
      " 5   BMI                                                                       208 non-null    float64\n",
      " 6   Obesity                                                                   208 non-null    object \n",
      " 7   Education                                                                 208 non-null    object \n",
      " 8   Type of Meals                                                             208 non-null    object \n",
      " 9   Diabetic                                                                  208 non-null    object \n",
      " 10  Smoking                                                                   208 non-null    object \n",
      " 11  Exercise Duration(Minutes/day)                                            208 non-null    float64\n",
      " 12  Lifestyle                                                                 208 non-null    object \n",
      " 13  Physical health Index(SF-36 Questionnaire)                                201 non-null    float64\n",
      " 14  Apnea Hypopnea Index (Severity of OSA)                                    208 non-null    float64\n",
      " 15  Hypertension                                                              208 non-null    object \n",
      " 16  Lowest Oxygen Desaturation(%) -hypoxic burden/stress                      208 non-null    float64\n",
      " 17  Average Apnea Duration(seconds)- sleep apnea architecture                 208 non-null    float64\n",
      " 18  Arousal Index(Number of Arousals/Hour)- sleep fragmentation               208 non-null    float64\n",
      " 19  % NREM Sleep-Sleep Quality                                                208 non-null    float64\n",
      " 20  Average CPAP use(hours/night) -CPAP compliance/adherance                  208 non-null    float64\n",
      " 21  Apnea Hypopnea Index AHI-After 12 weeks of CPAP Use                       208 non-null    float64\n",
      " 22  Reduction in Snoring-After 12 weeks of CPAP Use                           208 non-null    int64  \n",
      " 23  Reduction in Tiredness-After 12 weeks of CPAP Use                         208 non-null    int64  \n",
      " 24  Reduction in Daytime Sleepiness-After 12 weeks of CPAP Use                208 non-null    int64  \n",
      "dtypes: float64(10), int64(4), object(11)\n",
      "memory usage: 40.8+ KB\n"
     ]
    }
   ],
   "source": [
    "# Let's look at number of columns, column labels, column data types, memory usage, range index, \n",
    "# and the number of cells in each column (non-null values)\n",
    "df.info()"
   ]
  },
  {
   "cell_type": "markdown",
   "metadata": {},
   "source": [
    "> A look at the dataframe's schema gives us this info: \n",
    "* The dataframe consists of 208 observations and 25 columns.\n",
    "* The only column that has some Null values is Physical Health Index, which has 208-201=7 records/observations with Null values.\n",
    "* The column name for % NREM Sleep- Sleep Quality does not seem to be consistent with other column names in the dataframe\n",
    "* The column names for Column number 4 and columns 16-24 could be revisited to be renamed for better use.\n",
    "* The file can be optimized for memory by converting columns to more approporiate data types and removing columns that may not provide any value to analysis. "
   ]
  },
  {
   "cell_type": "code",
   "execution_count": 4,
   "metadata": {},
   "outputs": [
    {
     "data": {
      "text/html": [
       "<div>\n",
       "<style scoped>\n",
       "    .dataframe tbody tr th:only-of-type {\n",
       "        vertical-align: middle;\n",
       "    }\n",
       "\n",
       "    .dataframe tbody tr th {\n",
       "        vertical-align: top;\n",
       "    }\n",
       "\n",
       "    .dataframe thead th {\n",
       "        text-align: right;\n",
       "    }\n",
       "</style>\n",
       "<table border=\"1\" class=\"dataframe\">\n",
       "  <thead>\n",
       "    <tr style=\"text-align: right;\">\n",
       "      <th></th>\n",
       "      <th>Participant Coded</th>\n",
       "      <th>Age(Yrs)</th>\n",
       "      <th>Race</th>\n",
       "      <th>Socio-Economic Status</th>\n",
       "      <th>Presence of OSA associated gene-Serotonin receptor encoding gene (HTR2A)</th>\n",
       "      <th>BMI</th>\n",
       "      <th>Obesity</th>\n",
       "      <th>Education</th>\n",
       "      <th>Type of Meals</th>\n",
       "      <th>Diabetic</th>\n",
       "      <th>...</th>\n",
       "      <th>Hypertension</th>\n",
       "      <th>Lowest Oxygen Desaturation(%) -hypoxic burden/stress</th>\n",
       "      <th>Average Apnea Duration(seconds)- sleep apnea architecture</th>\n",
       "      <th>Arousal Index(Number of Arousals/Hour)- sleep fragmentation</th>\n",
       "      <th>% NREM Sleep-Sleep Quality</th>\n",
       "      <th>Average CPAP use(hours/night) -CPAP compliance/adherance</th>\n",
       "      <th>Apnea Hypopnea Index AHI-After 12 weeks of CPAP Use</th>\n",
       "      <th>Reduction in Snoring-After 12 weeks of CPAP Use</th>\n",
       "      <th>Reduction in Tiredness-After 12 weeks of CPAP Use</th>\n",
       "      <th>Reduction in Daytime Sleepiness-After 12 weeks of CPAP Use</th>\n",
       "    </tr>\n",
       "  </thead>\n",
       "  <tbody>\n",
       "    <tr>\n",
       "      <th>37</th>\n",
       "      <td>LQ</td>\n",
       "      <td>37</td>\n",
       "      <td>AA</td>\n",
       "      <td>Low</td>\n",
       "      <td>N</td>\n",
       "      <td>21.0</td>\n",
       "      <td>N</td>\n",
       "      <td>HS</td>\n",
       "      <td>P</td>\n",
       "      <td>N</td>\n",
       "      <td>...</td>\n",
       "      <td>Y</td>\n",
       "      <td>88.4</td>\n",
       "      <td>17.1</td>\n",
       "      <td>27.14</td>\n",
       "      <td>0.65</td>\n",
       "      <td>3.98</td>\n",
       "      <td>30.0</td>\n",
       "      <td>2</td>\n",
       "      <td>1</td>\n",
       "      <td>1</td>\n",
       "    </tr>\n",
       "    <tr>\n",
       "      <th>207</th>\n",
       "      <td>ZW</td>\n",
       "      <td>33</td>\n",
       "      <td>Cauc</td>\n",
       "      <td>Middle</td>\n",
       "      <td>Y</td>\n",
       "      <td>30.0</td>\n",
       "      <td>Y</td>\n",
       "      <td>PG</td>\n",
       "      <td>P</td>\n",
       "      <td>N</td>\n",
       "      <td>...</td>\n",
       "      <td>N</td>\n",
       "      <td>91.7</td>\n",
       "      <td>35.2</td>\n",
       "      <td>11.06</td>\n",
       "      <td>0.84</td>\n",
       "      <td>5.54</td>\n",
       "      <td>18.4</td>\n",
       "      <td>4</td>\n",
       "      <td>3</td>\n",
       "      <td>5</td>\n",
       "    </tr>\n",
       "    <tr>\n",
       "      <th>95</th>\n",
       "      <td>YR</td>\n",
       "      <td>33</td>\n",
       "      <td>AA</td>\n",
       "      <td>Low</td>\n",
       "      <td>Y</td>\n",
       "      <td>32.6</td>\n",
       "      <td>Y</td>\n",
       "      <td>HS</td>\n",
       "      <td>P</td>\n",
       "      <td>N</td>\n",
       "      <td>...</td>\n",
       "      <td>Y</td>\n",
       "      <td>81.8</td>\n",
       "      <td>20.6</td>\n",
       "      <td>20.10</td>\n",
       "      <td>0.68</td>\n",
       "      <td>4.45</td>\n",
       "      <td>41.7</td>\n",
       "      <td>1</td>\n",
       "      <td>1</td>\n",
       "      <td>2</td>\n",
       "    </tr>\n",
       "  </tbody>\n",
       "</table>\n",
       "<p>3 rows × 25 columns</p>\n",
       "</div>"
      ],
      "text/plain": [
       "    Participant Coded  Age(Yrs)  Race Socio-Economic Status  \\\n",
       "37                 LQ        37    AA                   Low   \n",
       "207                ZW        33  Cauc                Middle   \n",
       "95                 YR        33    AA                   Low   \n",
       "\n",
       "    Presence of OSA associated gene-Serotonin receptor encoding gene (HTR2A)  \\\n",
       "37                                                   N                         \n",
       "207                                                  Y                         \n",
       "95                                                   Y                         \n",
       "\n",
       "      BMI Obesity Education Type of Meals Diabetic  ... Hypertension  \\\n",
       "37   21.0       N        HS             P        N  ...            Y   \n",
       "207  30.0       Y        PG             P        N  ...            N   \n",
       "95   32.6       Y        HS             P        N  ...            Y   \n",
       "\n",
       "     Lowest Oxygen Desaturation(%) -hypoxic burden/stress  \\\n",
       "37                                                88.4      \n",
       "207                                               91.7      \n",
       "95                                                81.8      \n",
       "\n",
       "    Average Apnea Duration(seconds)- sleep apnea architecture  \\\n",
       "37                                                17.1          \n",
       "207                                               35.2          \n",
       "95                                                20.6          \n",
       "\n",
       "     Arousal Index(Number of Arousals/Hour)- sleep fragmentation  \\\n",
       "37                                               27.14             \n",
       "207                                              11.06             \n",
       "95                                               20.10             \n",
       "\n",
       "     % NREM Sleep-Sleep Quality  \\\n",
       "37                         0.65   \n",
       "207                        0.84   \n",
       "95                         0.68   \n",
       "\n",
       "    Average CPAP use(hours/night) -CPAP compliance/adherance  \\\n",
       "37                                                3.98         \n",
       "207                                               5.54         \n",
       "95                                                4.45         \n",
       "\n",
       "     Apnea Hypopnea Index AHI-After 12 weeks of CPAP Use  \\\n",
       "37                                                30.0     \n",
       "207                                               18.4     \n",
       "95                                                41.7     \n",
       "\n",
       "     Reduction in Snoring-After 12 weeks of CPAP Use  \\\n",
       "37                                                 2   \n",
       "207                                                4   \n",
       "95                                                 1   \n",
       "\n",
       "     Reduction in Tiredness-After 12 weeks of CPAP Use  \\\n",
       "37                                                   1   \n",
       "207                                                  3   \n",
       "95                                                   1   \n",
       "\n",
       "     Reduction in Daytime Sleepiness-After 12 weeks of CPAP Use  \n",
       "37                                                   1           \n",
       "207                                                  5           \n",
       "95                                                   2           \n",
       "\n",
       "[3 rows x 25 columns]"
      ]
     },
     "execution_count": 4,
     "metadata": {},
     "output_type": "execute_result"
    }
   ],
   "source": [
    "# Display a sample of the dataframe\n",
    "df.sample(3)"
   ]
  },
  {
   "cell_type": "markdown",
   "metadata": {},
   "source": [
    "> There is Participant Coded,Age,Race,Socio-Economic Status,Presence of HTR2A gene,BMI,Obesity,Education,Type of Meals,Diabetic,Smoking,Exercise Duration,Lifestyle,Physical health Index,Apnea Hypopnea Index,Hypertension,Lowest Oxygen Desaturation,Average Apnea Duration,Arousal Index,Sleep Quality,Average CPAP Use,AHI-Post 12weeks CPAP Use,Reduction in Snoring-Post 12weeks CPAP Use,Reduction in Tiredness-Post 12weeks CPAP Use,Reduction in Daytime Sleepiness-Post 12weeks CPAP Use. All together there are 24 distinct metrics/measures for evaluating the patient."
   ]
  },
  {
   "cell_type": "code",
   "execution_count": 5,
   "metadata": {},
   "outputs": [
    {
     "data": {
      "text/plain": [
       "0    AA\n",
       "1    AA\n",
       "2    AA\n",
       "3    AA\n",
       "4    AA\n",
       "5    AA\n",
       "6    AA\n",
       "7    AA\n",
       "8    AA\n",
       "9    AA\n",
       "Name: Race, dtype: object"
      ]
     },
     "execution_count": 5,
     "metadata": {},
     "output_type": "execute_result"
    }
   ],
   "source": [
    "# Display the values in the Race column to take a close look at the values for classification\n",
    "df[\"Race\"].head(10)"
   ]
  },
  {
   "cell_type": "markdown",
   "metadata": {},
   "source": [
    "> The Race column appears to have values of only two types AA- African American and CAUC - Caucasion. Lets confirm this further"
   ]
  },
  {
   "cell_type": "code",
   "execution_count": 6,
   "metadata": {},
   "outputs": [
    {
     "data": {
      "text/plain": [
       "208"
      ]
     },
     "execution_count": 6,
     "metadata": {},
     "output_type": "execute_result"
    }
   ],
   "source": [
    "# Lets check for any duplicates in few of the Object type columns in our DF as listed earlier\n",
    "df.duplicated(subset=[\"Race\",\"Obesity\",\"Diabetic\",\"Smoking\"],keep = False).sum()"
   ]
  },
  {
   "cell_type": "markdown",
   "metadata": {},
   "source": [
    "> It says 208 duplicates?? This doesnt make much sense. Lets rather check for the distinct values in these columns."
   ]
  },
  {
   "cell_type": "code",
   "execution_count": 7,
   "metadata": {},
   "outputs": [
    {
     "data": {
      "text/plain": [
       "AA      104\n",
       "Cauc    104\n",
       "Name: Race, dtype: int64"
      ]
     },
     "execution_count": 7,
     "metadata": {},
     "output_type": "execute_result"
    }
   ],
   "source": [
    "# count the number of values in the category column\n",
    "df[\"Race\"].value_counts()"
   ]
  },
  {
   "cell_type": "code",
   "execution_count": 8,
   "metadata": {},
   "outputs": [
    {
     "data": {
      "text/plain": [
       "Y    120\n",
       "N     88\n",
       "Name: Obesity, dtype: int64"
      ]
     },
     "execution_count": 8,
     "metadata": {},
     "output_type": "execute_result"
    }
   ],
   "source": [
    "df[\"Obesity\"].value_counts()"
   ]
  },
  {
   "cell_type": "code",
   "execution_count": 9,
   "metadata": {},
   "outputs": [
    {
     "data": {
      "text/plain": [
       "N    208\n",
       "Name: Diabetic, dtype: int64"
      ]
     },
     "execution_count": 9,
     "metadata": {},
     "output_type": "execute_result"
    }
   ],
   "source": [
    "df[\"Diabetic\"].value_counts()"
   ]
  },
  {
   "cell_type": "code",
   "execution_count": 10,
   "metadata": {},
   "outputs": [
    {
     "data": {
      "text/plain": [
       "P    122\n",
       "F     86\n",
       "Name: Type of Meals, dtype: int64"
      ]
     },
     "execution_count": 10,
     "metadata": {},
     "output_type": "execute_result"
    }
   ],
   "source": [
    "df[\"Type of Meals\"].value_counts()"
   ]
  },
  {
   "cell_type": "code",
   "execution_count": 11,
   "metadata": {
    "scrolled": true
   },
   "outputs": [
    {
     "data": {
      "text/plain": [
       "N    208\n",
       "Name: Smoking, dtype: int64"
      ]
     },
     "execution_count": 11,
     "metadata": {},
     "output_type": "execute_result"
    }
   ],
   "source": [
    "# let's look for count of values in Smoking column\n",
    "df[\"Smoking\"].value_counts()"
   ]
  },
  {
   "cell_type": "markdown",
   "metadata": {},
   "source": [
    "> Race and Obesity columns each have 2 types of values in them, of which Race could be used as a major classification criteria."
   ]
  },
  {
   "cell_type": "markdown",
   "metadata": {},
   "source": [
    "So taking a closer look at the observations we can deduce that\n",
    "* The entire dataset is of participants who are Non-Smokers and also they dont have any type of Diabetes.\n",
    "* The columns Participant Coded, Diabetic and Smoking can be dropped without any loss of details; they do not provide any contrast value for analysis. \n",
    "* The Race column has though only two distinct values , but it has equal distribution of entire dataset into AA and CAUC.\n",
    "* The columns like Obesity, Presence of OSA Gene, Hypertension could be rather converted to Bool type, since they hold only Y/N values.\n",
    "* The dataset provides columns that could be used for different classifications or clusters"
   ]
  },
  {
   "cell_type": "markdown",
   "metadata": {},
   "source": [
    "## Section 3: Prepare Data"
   ]
  },
  {
   "cell_type": "markdown",
   "metadata": {},
   "source": [
    "##### Cleaning Data"
   ]
  },
  {
   "cell_type": "code",
   "execution_count": 12,
   "metadata": {
    "scrolled": false
   },
   "outputs": [
    {
     "name": "stdout",
     "output_type": "stream",
     "text": [
      "<class 'pandas.core.frame.DataFrame'>\n",
      "RangeIndex: 208 entries, 0 to 207\n",
      "Data columns (total 25 columns):\n",
      " #   Column                                                                    Non-Null Count  Dtype  \n",
      "---  ------                                                                    --------------  -----  \n",
      " 0   Participant Coded                                                         208 non-null    object \n",
      " 1   Age(Yrs)                                                                  208 non-null    int64  \n",
      " 2   Race                                                                      208 non-null    object \n",
      " 3   Socio-Economic Status                                                     208 non-null    object \n",
      " 4   Presence of OSA associated gene-Serotonin receptor encoding gene (HTR2A)  208 non-null    object \n",
      " 5   BMI                                                                       208 non-null    float64\n",
      " 6   Obesity                                                                   208 non-null    object \n",
      " 7   Education                                                                 208 non-null    object \n",
      " 8   Type of Meals                                                             208 non-null    object \n",
      " 9   Diabetic                                                                  208 non-null    object \n",
      " 10  Smoking                                                                   208 non-null    object \n",
      " 11  Exercise Duration(Minutes/day)                                            208 non-null    float64\n",
      " 12  Lifestyle                                                                 208 non-null    object \n",
      " 13  Physical health Index(SF-36 Questionnaire)                                201 non-null    float64\n",
      " 14  Apnea Hypopnea Index (Severity of OSA)                                    208 non-null    float64\n",
      " 15  Hypertension                                                              208 non-null    object \n",
      " 16  Lowest Oxygen Desaturation(%) -hypoxic burden/stress                      208 non-null    float64\n",
      " 17  Average Apnea Duration(seconds)- sleep apnea architecture                 208 non-null    float64\n",
      " 18  Arousal Index(Number of Arousals/Hour)- sleep fragmentation               208 non-null    float64\n",
      " 19  % NREM Sleep-Sleep Quality                                                208 non-null    float64\n",
      " 20  Average CPAP use(hours/night) -CPAP compliance/adherance                  208 non-null    float64\n",
      " 21  Apnea Hypopnea Index AHI-After 12 weeks of CPAP Use                       208 non-null    float64\n",
      " 22  Reduction in Snoring-After 12 weeks of CPAP Use                           208 non-null    int64  \n",
      " 23  Reduction in Tiredness-After 12 weeks of CPAP Use                         208 non-null    int64  \n",
      " 24  Reduction in Daytime Sleepiness-After 12 weeks of CPAP Use                208 non-null    int64  \n",
      "dtypes: float64(10), int64(4), object(11)\n",
      "memory usage: 40.8+ KB\n"
     ]
    }
   ],
   "source": [
    "# Let's take another look at number of columns, column labels, column data types, memory usage, \n",
    "# range index, and the number of cells in each column (non-null values)\n",
    "df.info()"
   ]
  },
  {
   "cell_type": "markdown",
   "metadata": {},
   "source": [
    "> The dataframe currently uses 40.8+ KB of memory , we can further optimize it for memory by using appropriate data types and dropping columns deemed unnecessary for analysis"
   ]
  },
  {
   "cell_type": "code",
   "execution_count": 13,
   "metadata": {
    "scrolled": true
   },
   "outputs": [
    {
     "data": {
      "text/plain": [
       "N    208\n",
       "Name: Smoking, dtype: int64"
      ]
     },
     "execution_count": 13,
     "metadata": {},
     "output_type": "execute_result"
    }
   ],
   "source": [
    "# let's look for count of values in Smoking column\n",
    "df[\"Smoking\"].value_counts()"
   ]
  },
  {
   "cell_type": "code",
   "execution_count": 14,
   "metadata": {},
   "outputs": [
    {
     "data": {
      "text/plain": [
       "N    208\n",
       "Name: Diabetic, dtype: int64"
      ]
     },
     "execution_count": 14,
     "metadata": {},
     "output_type": "execute_result"
    }
   ],
   "source": [
    "df[\"Diabetic\"].value_counts()"
   ]
  },
  {
   "cell_type": "markdown",
   "metadata": {},
   "source": [
    "> The Smoking column has only one value; the \"N\" Value. Dropping the Smoking column will not cause any loss in details.\n",
    "> Similar is the case for the Diabetic column, To compensate for removing these columns we can acknowledge in our comments and writeups, mentioning the fact that the Participants coded in this Data set are Non-Smokers and Non-Diabetic.\n",
    "> We have a numeric index created by pandas for our dataframe, so we can also safely drop Participant Coded column and not loose any details."
   ]
  },
  {
   "cell_type": "code",
   "execution_count": 15,
   "metadata": {},
   "outputs": [],
   "source": [
    "# drop the id and currency columns\n",
    "df=df.drop(columns=[\"Participant Coded\",\"Smoking\",\"Diabetic\"])"
   ]
  },
  {
   "cell_type": "code",
   "execution_count": 16,
   "metadata": {},
   "outputs": [
    {
     "data": {
      "text/html": [
       "<div>\n",
       "<style scoped>\n",
       "    .dataframe tbody tr th:only-of-type {\n",
       "        vertical-align: middle;\n",
       "    }\n",
       "\n",
       "    .dataframe tbody tr th {\n",
       "        vertical-align: top;\n",
       "    }\n",
       "\n",
       "    .dataframe thead th {\n",
       "        text-align: right;\n",
       "    }\n",
       "</style>\n",
       "<table border=\"1\" class=\"dataframe\">\n",
       "  <thead>\n",
       "    <tr style=\"text-align: right;\">\n",
       "      <th></th>\n",
       "      <th>Age(Yrs)</th>\n",
       "      <th>Race</th>\n",
       "      <th>Socio-Economic Status</th>\n",
       "      <th>Presence of HTR2A Gene</th>\n",
       "      <th>BMI</th>\n",
       "      <th>Obesity</th>\n",
       "      <th>Education</th>\n",
       "      <th>Type of Meals</th>\n",
       "      <th>Exercise Dur(Mins/day)</th>\n",
       "      <th>Lifestyle</th>\n",
       "      <th>...</th>\n",
       "      <th>Hypertension</th>\n",
       "      <th>Lowest Oxygen Desaturation(%) -hypoxic burden/stress</th>\n",
       "      <th>Avg Apnea Dur(Secs)</th>\n",
       "      <th>Arousal Index</th>\n",
       "      <th>Percent NREM Sleep</th>\n",
       "      <th>Avg CPAP Use(hrs/night)</th>\n",
       "      <th>AHI-Post 12wks CPAP Use</th>\n",
       "      <th>Reduced Snoring-Post 12wks CPAP Use</th>\n",
       "      <th>Reduced Tiredness-Post 12wks CPAP Use</th>\n",
       "      <th>Reduced Daytime Sleepiness-Post 12wks CPAP Use</th>\n",
       "    </tr>\n",
       "  </thead>\n",
       "  <tbody>\n",
       "    <tr>\n",
       "      <th>0</th>\n",
       "      <td>44</td>\n",
       "      <td>AA</td>\n",
       "      <td>Middle</td>\n",
       "      <td>Y</td>\n",
       "      <td>29.8</td>\n",
       "      <td>N</td>\n",
       "      <td>UG</td>\n",
       "      <td>P</td>\n",
       "      <td>56.4</td>\n",
       "      <td>A</td>\n",
       "      <td>...</td>\n",
       "      <td>Y</td>\n",
       "      <td>81.3</td>\n",
       "      <td>25.4</td>\n",
       "      <td>27.40</td>\n",
       "      <td>0.95</td>\n",
       "      <td>3.42</td>\n",
       "      <td>42.1</td>\n",
       "      <td>1</td>\n",
       "      <td>1</td>\n",
       "      <td>1</td>\n",
       "    </tr>\n",
       "    <tr>\n",
       "      <th>1</th>\n",
       "      <td>49</td>\n",
       "      <td>AA</td>\n",
       "      <td>Middle</td>\n",
       "      <td>Y</td>\n",
       "      <td>37.8</td>\n",
       "      <td>Y</td>\n",
       "      <td>UG</td>\n",
       "      <td>F</td>\n",
       "      <td>35.0</td>\n",
       "      <td>A</td>\n",
       "      <td>...</td>\n",
       "      <td>Y</td>\n",
       "      <td>81.2</td>\n",
       "      <td>29.2</td>\n",
       "      <td>28.08</td>\n",
       "      <td>0.91</td>\n",
       "      <td>4.30</td>\n",
       "      <td>74.3</td>\n",
       "      <td>1</td>\n",
       "      <td>1</td>\n",
       "      <td>1</td>\n",
       "    </tr>\n",
       "  </tbody>\n",
       "</table>\n",
       "<p>2 rows × 22 columns</p>\n",
       "</div>"
      ],
      "text/plain": [
       "   Age(Yrs) Race Socio-Economic Status Presence of HTR2A Gene   BMI Obesity  \\\n",
       "0        44   AA                Middle                      Y  29.8       N   \n",
       "1        49   AA                Middle                      Y  37.8       Y   \n",
       "\n",
       "  Education Type of Meals  Exercise Dur(Mins/day) Lifestyle  ...  \\\n",
       "0        UG             P                    56.4         A  ...   \n",
       "1        UG             F                    35.0         A  ...   \n",
       "\n",
       "   Hypertension  Lowest Oxygen Desaturation(%) -hypoxic burden/stress  \\\n",
       "0             Y                                               81.3      \n",
       "1             Y                                               81.2      \n",
       "\n",
       "  Avg Apnea Dur(Secs)  Arousal Index  Percent NREM Sleep  \\\n",
       "0                25.4          27.40                0.95   \n",
       "1                29.2          28.08                0.91   \n",
       "\n",
       "   Avg CPAP Use(hrs/night)  AHI-Post 12wks CPAP Use  \\\n",
       "0                     3.42                     42.1   \n",
       "1                     4.30                     74.3   \n",
       "\n",
       "   Reduced Snoring-Post 12wks CPAP Use  Reduced Tiredness-Post 12wks CPAP Use  \\\n",
       "0                                    1                                      1   \n",
       "1                                    1                                      1   \n",
       "\n",
       "   Reduced Daytime Sleepiness-Post 12wks CPAP Use  \n",
       "0                                               1  \n",
       "1                                               1  \n",
       "\n",
       "[2 rows x 22 columns]"
      ]
     },
     "execution_count": 16,
     "metadata": {},
     "output_type": "execute_result"
    }
   ],
   "source": [
    "# renaming few columns to more readable and presentable format\n",
    "df=df.rename(columns={\"Exercise Duration(Minutes/day)\":\"Exercise Dur(Mins/day)\",\n",
    "                      \"Presence of OSA associated gene-Serotonin receptor encoding gene (HTR2A)\":\n",
    "                      \"Presence of HTR2A Gene\",\"Physical health Index(SF-36 Questionnaire)\":\"Phy Hlth Index\",\n",
    "                      \"Apnea Hypopnea Index (Severity of OSA)\":\"AHI\",\n",
    "                      \"Average Apnea Duration(seconds)- sleep apnea architecture\":\"Avg Apnea Dur(Secs)\",\n",
    "                      \"Arousal Index(Number of Arousals/Hour)- sleep fragmentation\":\"Arousal Index\",\n",
    "                      \"% NREM Sleep-Sleep Quality\":\"Percent NREM Sleep\",\n",
    "                      \"Average CPAP use(hours/night) -CPAP compliance/adherance\":\"Avg CPAP Use(hrs/night)\",\n",
    "                     \"Apnea Hypopnea Index AHI-After 12 weeks of CPAP Use\":\"AHI-Post 12wks CPAP Use\",\n",
    "                     \"Reduction in Snoring-After 12 weeks of CPAP Use\":\"Reduced Snoring-Post 12wks CPAP Use\",\n",
    "                     \"Reduction in Tiredness-After 12 weeks of CPAP Use\":\"Reduced Tiredness-Post 12wks CPAP Use\",\n",
    "                     \"Reduction in Daytime Sleepiness-After 12 weeks of CPAP Use\":\n",
    "                      \"Reduced Daytime Sleepiness-Post 12wks CPAP Use\"})\n",
    "df.head(2)"
   ]
  },
  {
   "cell_type": "markdown",
   "metadata": {},
   "source": [
    "> from the dataframe we can see Participant Coded, Diabetic, Smoking columns have been dropped and the Apnea Architecture/metrics related columns have been renamed"
   ]
  },
  {
   "cell_type": "code",
   "execution_count": 17,
   "metadata": {},
   "outputs": [
    {
     "data": {
      "text/plain": [
       "Middle    104\n",
       "Low        84\n",
       "High       20\n",
       "Name: Socio-Economic Status, dtype: int64"
      ]
     },
     "execution_count": 17,
     "metadata": {},
     "output_type": "execute_result"
    }
   ],
   "source": [
    "# Lets look at few column values\n",
    "df[\"Socio-Economic Status\"].value_counts()"
   ]
  },
  {
   "cell_type": "code",
   "execution_count": 18,
   "metadata": {},
   "outputs": [
    {
     "data": {
      "text/plain": [
       "HS    104\n",
       "UG     84\n",
       "PG     20\n",
       "Name: Education, dtype: int64"
      ]
     },
     "execution_count": 18,
     "metadata": {},
     "output_type": "execute_result"
    }
   ],
   "source": [
    "df[\"Education\"].value_counts()"
   ]
  },
  {
   "cell_type": "markdown",
   "metadata": {},
   "source": [
    "> As we can see there are just three categories, converting these columns to category datatype may save us memory"
   ]
  },
  {
   "cell_type": "code",
   "execution_count": 19,
   "metadata": {},
   "outputs": [],
   "source": [
    "# converting Race column's data type to category datatype\n",
    "df[\"Race\"]=df[\"Race\"].astype(\"category\")"
   ]
  },
  {
   "cell_type": "code",
   "execution_count": 20,
   "metadata": {},
   "outputs": [
    {
     "data": {
      "text/plain": [
       "S    110\n",
       "A     98\n",
       "Name: Lifestyle, dtype: int64"
      ]
     },
     "execution_count": 20,
     "metadata": {},
     "output_type": "execute_result"
    }
   ],
   "source": [
    "# lets look at the count of values in the Lifestyle column\n",
    "df[\"Lifestyle\"].value_counts()"
   ]
  },
  {
   "cell_type": "code",
   "execution_count": 21,
   "metadata": {},
   "outputs": [
    {
     "data": {
      "text/plain": [
       "P    122\n",
       "F     86\n",
       "Name: Type of Meals, dtype: int64"
      ]
     },
     "execution_count": 21,
     "metadata": {},
     "output_type": "execute_result"
    }
   ],
   "source": [
    "# lets look at the count of values in the Type of Meals column\n",
    "df[\"Type of Meals\"].value_counts()"
   ]
  },
  {
   "cell_type": "markdown",
   "metadata": {},
   "source": [
    "> We can see some single characters in the values of the Lifestyle,Type of meals columns. We need to convert all the values to a more readable format before we can actually make any use of them "
   ]
  },
  {
   "cell_type": "code",
   "execution_count": 22,
   "metadata": {},
   "outputs": [
    {
     "data": {
      "text/plain": [
       "Packed    122\n",
       "Fresh      86\n",
       "Name: Type of Meals, dtype: int64"
      ]
     },
     "execution_count": 22,
     "metadata": {},
     "output_type": "execute_result"
    }
   ],
   "source": [
    "# Replace all 'P' in the 'Type of Meals' column to the value 'Packed' and all 'F' to the value 'Fresh'\n",
    "df[\"Type of Meals\"] = df[\"Type of Meals\"].replace('P', 'Packed', regex=True)\n",
    "df[\"Type of Meals\"] = df[\"Type of Meals\"].replace('F', 'Fresh', regex=True)\n",
    "df[\"Type of Meals\"].value_counts()"
   ]
  },
  {
   "cell_type": "code",
   "execution_count": 23,
   "metadata": {},
   "outputs": [
    {
     "data": {
      "text/plain": [
       "Sedentary    110\n",
       "Active        98\n",
       "Name: Lifestyle, dtype: int64"
      ]
     },
     "execution_count": 23,
     "metadata": {},
     "output_type": "execute_result"
    }
   ],
   "source": [
    "# Replace all 'A' in the 'Lifestyle' column to the value 'Active' and all 'S' to the value 'Sedentary'\n",
    "df[\"Lifestyle\"] = df[\"Lifestyle\"].replace('A', 'Active', regex=True)\n",
    "df[\"Lifestyle\"] = df[\"Lifestyle\"].replace('S', 'Sedentary', regex=True)\n",
    "df[\"Lifestyle\"].value_counts()"
   ]
  },
  {
   "cell_type": "markdown",
   "metadata": {},
   "source": [
    "> We can see that value conversions took place with no errors, which is a sign that all the values in the columns are now updated to be more readable"
   ]
  },
  {
   "cell_type": "code",
   "execution_count": 24,
   "metadata": {},
   "outputs": [
    {
     "data": {
      "text/html": [
       "<div>\n",
       "<style scoped>\n",
       "    .dataframe tbody tr th:only-of-type {\n",
       "        vertical-align: middle;\n",
       "    }\n",
       "\n",
       "    .dataframe tbody tr th {\n",
       "        vertical-align: top;\n",
       "    }\n",
       "\n",
       "    .dataframe thead th {\n",
       "        text-align: right;\n",
       "    }\n",
       "</style>\n",
       "<table border=\"1\" class=\"dataframe\">\n",
       "  <thead>\n",
       "    <tr style=\"text-align: right;\">\n",
       "      <th></th>\n",
       "      <th>Age(Yrs)</th>\n",
       "      <th>Race</th>\n",
       "      <th>Socio-Economic Status</th>\n",
       "      <th>Presence of HTR2A Gene</th>\n",
       "      <th>BMI</th>\n",
       "      <th>Obesity</th>\n",
       "      <th>Education</th>\n",
       "      <th>Type of Meals</th>\n",
       "      <th>Exercise Dur(Mins/day)</th>\n",
       "      <th>Lifestyle</th>\n",
       "      <th>...</th>\n",
       "      <th>Hypertension</th>\n",
       "      <th>Lowest O2 Desaturation(%)</th>\n",
       "      <th>Avg Apnea Dur(Secs)</th>\n",
       "      <th>Arousal Index</th>\n",
       "      <th>Percent NREM Sleep</th>\n",
       "      <th>Avg CPAP Use(hrs/night)</th>\n",
       "      <th>AHI-Post 12wks CPAP Use</th>\n",
       "      <th>Reduced Snoring-Post 12wks CPAP Use</th>\n",
       "      <th>Reduced Tiredness-Post 12wks CPAP Use</th>\n",
       "      <th>Reduced Daytime Sleepiness-Post 12wks CPAP Use</th>\n",
       "    </tr>\n",
       "  </thead>\n",
       "  <tbody>\n",
       "    <tr>\n",
       "      <th>0</th>\n",
       "      <td>44</td>\n",
       "      <td>AA</td>\n",
       "      <td>Middle</td>\n",
       "      <td>Y</td>\n",
       "      <td>29.8</td>\n",
       "      <td>N</td>\n",
       "      <td>UG</td>\n",
       "      <td>Packed</td>\n",
       "      <td>56.4</td>\n",
       "      <td>Active</td>\n",
       "      <td>...</td>\n",
       "      <td>Y</td>\n",
       "      <td>81.3</td>\n",
       "      <td>25.4</td>\n",
       "      <td>27.40</td>\n",
       "      <td>0.95</td>\n",
       "      <td>3.42</td>\n",
       "      <td>42.1</td>\n",
       "      <td>1</td>\n",
       "      <td>1</td>\n",
       "      <td>1</td>\n",
       "    </tr>\n",
       "    <tr>\n",
       "      <th>1</th>\n",
       "      <td>49</td>\n",
       "      <td>AA</td>\n",
       "      <td>Middle</td>\n",
       "      <td>Y</td>\n",
       "      <td>37.8</td>\n",
       "      <td>Y</td>\n",
       "      <td>UG</td>\n",
       "      <td>Fresh</td>\n",
       "      <td>35.0</td>\n",
       "      <td>Active</td>\n",
       "      <td>...</td>\n",
       "      <td>Y</td>\n",
       "      <td>81.2</td>\n",
       "      <td>29.2</td>\n",
       "      <td>28.08</td>\n",
       "      <td>0.91</td>\n",
       "      <td>4.30</td>\n",
       "      <td>74.3</td>\n",
       "      <td>1</td>\n",
       "      <td>1</td>\n",
       "      <td>1</td>\n",
       "    </tr>\n",
       "  </tbody>\n",
       "</table>\n",
       "<p>2 rows × 22 columns</p>\n",
       "</div>"
      ],
      "text/plain": [
       "   Age(Yrs) Race Socio-Economic Status Presence of HTR2A Gene   BMI Obesity  \\\n",
       "0        44   AA                Middle                      Y  29.8       N   \n",
       "1        49   AA                Middle                      Y  37.8       Y   \n",
       "\n",
       "  Education Type of Meals  Exercise Dur(Mins/day) Lifestyle  ...  \\\n",
       "0        UG        Packed                    56.4    Active  ...   \n",
       "1        UG         Fresh                    35.0    Active  ...   \n",
       "\n",
       "   Hypertension  Lowest O2 Desaturation(%) Avg Apnea Dur(Secs)  Arousal Index  \\\n",
       "0             Y                       81.3                25.4          27.40   \n",
       "1             Y                       81.2                29.2          28.08   \n",
       "\n",
       "   Percent NREM Sleep  Avg CPAP Use(hrs/night)  AHI-Post 12wks CPAP Use  \\\n",
       "0                0.95                     3.42                     42.1   \n",
       "1                0.91                     4.30                     74.3   \n",
       "\n",
       "   Reduced Snoring-Post 12wks CPAP Use  Reduced Tiredness-Post 12wks CPAP Use  \\\n",
       "0                                    1                                      1   \n",
       "1                                    1                                      1   \n",
       "\n",
       "   Reduced Daytime Sleepiness-Post 12wks CPAP Use  \n",
       "0                                               1  \n",
       "1                                               1  \n",
       "\n",
       "[2 rows x 22 columns]"
      ]
     },
     "execution_count": 24,
     "metadata": {},
     "output_type": "execute_result"
    }
   ],
   "source": [
    "# lets now rename one more column before we see how the dataframe schema and stats looks now \n",
    "df=df.rename(columns={\"Lowest Oxygen Desaturation(%) -hypoxic burden/stress\":\"Lowest O2 Desaturation(%)\"})\n",
    "df.head(2)"
   ]
  },
  {
   "cell_type": "code",
   "execution_count": 25,
   "metadata": {},
   "outputs": [
    {
     "data": {
      "text/html": [
       "<div>\n",
       "<style scoped>\n",
       "    .dataframe tbody tr th:only-of-type {\n",
       "        vertical-align: middle;\n",
       "    }\n",
       "\n",
       "    .dataframe tbody tr th {\n",
       "        vertical-align: top;\n",
       "    }\n",
       "\n",
       "    .dataframe thead th {\n",
       "        text-align: right;\n",
       "    }\n",
       "</style>\n",
       "<table border=\"1\" class=\"dataframe\">\n",
       "  <thead>\n",
       "    <tr style=\"text-align: right;\">\n",
       "      <th></th>\n",
       "      <th>Age(Yrs)</th>\n",
       "      <th>Race</th>\n",
       "      <th>Socio-Economic Status</th>\n",
       "      <th>Presence of HTR2A Gene</th>\n",
       "      <th>BMI</th>\n",
       "      <th>Obesity</th>\n",
       "      <th>Education</th>\n",
       "      <th>Type of Meals</th>\n",
       "      <th>Exercise Dur(Mins/day)</th>\n",
       "      <th>Lifestyle</th>\n",
       "      <th>...</th>\n",
       "      <th>Hypertension</th>\n",
       "      <th>Lowest O2 Desaturation(%)</th>\n",
       "      <th>Avg Apnea Dur(Secs)</th>\n",
       "      <th>Arousal Index</th>\n",
       "      <th>Percent NREM Sleep</th>\n",
       "      <th>Avg CPAP Use(hrs/night)</th>\n",
       "      <th>AHI-Post 12wks CPAP Use</th>\n",
       "      <th>Reduced Snoring-Post 12wks CPAP Use</th>\n",
       "      <th>Reduced Tiredness-Post 12wks CPAP Use</th>\n",
       "      <th>Reduced Daytime Sleepiness-Post 12wks CPAP Use</th>\n",
       "    </tr>\n",
       "  </thead>\n",
       "  <tbody>\n",
       "    <tr>\n",
       "      <th>25</th>\n",
       "      <td>59</td>\n",
       "      <td>AA</td>\n",
       "      <td>Middle</td>\n",
       "      <td>Y</td>\n",
       "      <td>35.4</td>\n",
       "      <td>Y</td>\n",
       "      <td>UG</td>\n",
       "      <td>Fresh</td>\n",
       "      <td>30.0</td>\n",
       "      <td>Active</td>\n",
       "      <td>...</td>\n",
       "      <td>Y</td>\n",
       "      <td>82.9</td>\n",
       "      <td>27.8</td>\n",
       "      <td>23.08</td>\n",
       "      <td>0.83</td>\n",
       "      <td>4.55</td>\n",
       "      <td>72.4</td>\n",
       "      <td>2</td>\n",
       "      <td>1</td>\n",
       "      <td>2</td>\n",
       "    </tr>\n",
       "    <tr>\n",
       "      <th>31</th>\n",
       "      <td>59</td>\n",
       "      <td>AA</td>\n",
       "      <td>Low</td>\n",
       "      <td>Y</td>\n",
       "      <td>30.4</td>\n",
       "      <td>Y</td>\n",
       "      <td>HS</td>\n",
       "      <td>Packed</td>\n",
       "      <td>25.3</td>\n",
       "      <td>Sedentary</td>\n",
       "      <td>...</td>\n",
       "      <td>Y</td>\n",
       "      <td>82.9</td>\n",
       "      <td>25.0</td>\n",
       "      <td>31.86</td>\n",
       "      <td>0.66</td>\n",
       "      <td>3.42</td>\n",
       "      <td>30.1</td>\n",
       "      <td>2</td>\n",
       "      <td>1</td>\n",
       "      <td>1</td>\n",
       "    </tr>\n",
       "    <tr>\n",
       "      <th>80</th>\n",
       "      <td>59</td>\n",
       "      <td>AA</td>\n",
       "      <td>Low</td>\n",
       "      <td>Y</td>\n",
       "      <td>34.8</td>\n",
       "      <td>Y</td>\n",
       "      <td>HS</td>\n",
       "      <td>Packed</td>\n",
       "      <td>21.9</td>\n",
       "      <td>Sedentary</td>\n",
       "      <td>...</td>\n",
       "      <td>Y</td>\n",
       "      <td>76.1</td>\n",
       "      <td>42.7</td>\n",
       "      <td>32.34</td>\n",
       "      <td>0.90</td>\n",
       "      <td>3.40</td>\n",
       "      <td>82.2</td>\n",
       "      <td>1</td>\n",
       "      <td>1</td>\n",
       "      <td>2</td>\n",
       "    </tr>\n",
       "    <tr>\n",
       "      <th>73</th>\n",
       "      <td>57</td>\n",
       "      <td>AA</td>\n",
       "      <td>Low</td>\n",
       "      <td>Y</td>\n",
       "      <td>28.4</td>\n",
       "      <td>N</td>\n",
       "      <td>HS</td>\n",
       "      <td>Packed</td>\n",
       "      <td>21.7</td>\n",
       "      <td>Sedentary</td>\n",
       "      <td>...</td>\n",
       "      <td>Y</td>\n",
       "      <td>87.7</td>\n",
       "      <td>23.3</td>\n",
       "      <td>37.35</td>\n",
       "      <td>0.87</td>\n",
       "      <td>3.26</td>\n",
       "      <td>78.3</td>\n",
       "      <td>2</td>\n",
       "      <td>1</td>\n",
       "      <td>1</td>\n",
       "    </tr>\n",
       "    <tr>\n",
       "      <th>61</th>\n",
       "      <td>56</td>\n",
       "      <td>AA</td>\n",
       "      <td>Middle</td>\n",
       "      <td>Y</td>\n",
       "      <td>32.4</td>\n",
       "      <td>Y</td>\n",
       "      <td>UG</td>\n",
       "      <td>Packed</td>\n",
       "      <td>15.2</td>\n",
       "      <td>Sedentary</td>\n",
       "      <td>...</td>\n",
       "      <td>Y</td>\n",
       "      <td>86.9</td>\n",
       "      <td>17.8</td>\n",
       "      <td>25.53</td>\n",
       "      <td>0.94</td>\n",
       "      <td>3.54</td>\n",
       "      <td>35.5</td>\n",
       "      <td>1</td>\n",
       "      <td>1</td>\n",
       "      <td>2</td>\n",
       "    </tr>\n",
       "  </tbody>\n",
       "</table>\n",
       "<p>5 rows × 22 columns</p>\n",
       "</div>"
      ],
      "text/plain": [
       "    Age(Yrs) Race Socio-Economic Status Presence of HTR2A Gene   BMI Obesity  \\\n",
       "25        59   AA                Middle                      Y  35.4       Y   \n",
       "31        59   AA                   Low                      Y  30.4       Y   \n",
       "80        59   AA                   Low                      Y  34.8       Y   \n",
       "73        57   AA                   Low                      Y  28.4       N   \n",
       "61        56   AA                Middle                      Y  32.4       Y   \n",
       "\n",
       "   Education Type of Meals  Exercise Dur(Mins/day)  Lifestyle  ...  \\\n",
       "25        UG         Fresh                    30.0     Active  ...   \n",
       "31        HS        Packed                    25.3  Sedentary  ...   \n",
       "80        HS        Packed                    21.9  Sedentary  ...   \n",
       "73        HS        Packed                    21.7  Sedentary  ...   \n",
       "61        UG        Packed                    15.2  Sedentary  ...   \n",
       "\n",
       "    Hypertension  Lowest O2 Desaturation(%) Avg Apnea Dur(Secs)  \\\n",
       "25             Y                       82.9                27.8   \n",
       "31             Y                       82.9                25.0   \n",
       "80             Y                       76.1                42.7   \n",
       "73             Y                       87.7                23.3   \n",
       "61             Y                       86.9                17.8   \n",
       "\n",
       "    Arousal Index  Percent NREM Sleep  Avg CPAP Use(hrs/night)  \\\n",
       "25          23.08                0.83                     4.55   \n",
       "31          31.86                0.66                     3.42   \n",
       "80          32.34                0.90                     3.40   \n",
       "73          37.35                0.87                     3.26   \n",
       "61          25.53                0.94                     3.54   \n",
       "\n",
       "    AHI-Post 12wks CPAP Use  Reduced Snoring-Post 12wks CPAP Use  \\\n",
       "25                     72.4                                    2   \n",
       "31                     30.1                                    2   \n",
       "80                     82.2                                    1   \n",
       "73                     78.3                                    2   \n",
       "61                     35.5                                    1   \n",
       "\n",
       "    Reduced Tiredness-Post 12wks CPAP Use  \\\n",
       "25                                      1   \n",
       "31                                      1   \n",
       "80                                      1   \n",
       "73                                      1   \n",
       "61                                      1   \n",
       "\n",
       "    Reduced Daytime Sleepiness-Post 12wks CPAP Use  \n",
       "25                                               2  \n",
       "31                                               1  \n",
       "80                                               2  \n",
       "73                                               1  \n",
       "61                                               2  \n",
       "\n",
       "[5 rows x 22 columns]"
      ]
     },
     "execution_count": 25,
     "metadata": {},
     "output_type": "execute_result"
    }
   ],
   "source": [
    "# lets sort the dataframe so that the participants with specific Race are sorted as oldest at the top\n",
    "# Sort df by Age descending \n",
    "sorted_df = df.sort_values(by=[\"Race\",\"Age(Yrs)\"],ascending=[True,False])\n",
    "sorted_df.head()"
   ]
  },
  {
   "cell_type": "markdown",
   "metadata": {},
   "source": [
    "> Good! now we can see that the participants with higher age are on top and also categorized based on their Race"
   ]
  },
  {
   "cell_type": "code",
   "execution_count": 26,
   "metadata": {},
   "outputs": [],
   "source": [
    "#Update the df with the sorted df\n",
    "df=sorted_df"
   ]
  },
  {
   "cell_type": "code",
   "execution_count": 27,
   "metadata": {},
   "outputs": [
    {
     "name": "stdout",
     "output_type": "stream",
     "text": [
      "<class 'pandas.core.frame.DataFrame'>\n",
      "Int64Index: 208 entries, 25 to 188\n",
      "Data columns (total 22 columns):\n",
      " #   Column                                          Non-Null Count  Dtype   \n",
      "---  ------                                          --------------  -----   \n",
      " 0   Age(Yrs)                                        208 non-null    int64   \n",
      " 1   Race                                            208 non-null    category\n",
      " 2   Socio-Economic Status                           208 non-null    object  \n",
      " 3   Presence of HTR2A Gene                          208 non-null    object  \n",
      " 4   BMI                                             208 non-null    float64 \n",
      " 5   Obesity                                         208 non-null    object  \n",
      " 6   Education                                       208 non-null    object  \n",
      " 7   Type of Meals                                   208 non-null    object  \n",
      " 8   Exercise Dur(Mins/day)                          208 non-null    float64 \n",
      " 9   Lifestyle                                       208 non-null    object  \n",
      " 10  Phy Hlth Index                                  201 non-null    float64 \n",
      " 11  AHI                                             208 non-null    float64 \n",
      " 12  Hypertension                                    208 non-null    object  \n",
      " 13  Lowest O2 Desaturation(%)                       208 non-null    float64 \n",
      " 14  Avg Apnea Dur(Secs)                             208 non-null    float64 \n",
      " 15  Arousal Index                                   208 non-null    float64 \n",
      " 16  Percent NREM Sleep                              208 non-null    float64 \n",
      " 17  Avg CPAP Use(hrs/night)                         208 non-null    float64 \n",
      " 18  AHI-Post 12wks CPAP Use                         208 non-null    float64 \n",
      " 19  Reduced Snoring-Post 12wks CPAP Use             208 non-null    int64   \n",
      " 20  Reduced Tiredness-Post 12wks CPAP Use           208 non-null    int64   \n",
      " 21  Reduced Daytime Sleepiness-Post 12wks CPAP Use  208 non-null    int64   \n",
      "dtypes: category(1), float64(10), int64(4), object(7)\n",
      "memory usage: 36.1+ KB\n"
     ]
    }
   ],
   "source": [
    "# Lets again check to see how the dataframe schema and stats looks like \n",
    "df.info()"
   ]
  },
  {
   "cell_type": "markdown",
   "metadata": {},
   "source": [
    "> As we can see the columns now have the right data types and memory usage is reduced from 40.8+ KB to 36.1 KB, Column names have now been updated to more readable format and unnecessary columns have been dropped"
   ]
  },
  {
   "cell_type": "code",
   "execution_count": 28,
   "metadata": {},
   "outputs": [
    {
     "name": "stdout",
     "output_type": "stream",
     "text": [
      "<class 'pandas.core.frame.DataFrame'>\n",
      "Int64Index: 208 entries, 25 to 188\n",
      "Data columns (total 22 columns):\n",
      " #   Column                                          Non-Null Count  Dtype   \n",
      "---  ------                                          --------------  -----   \n",
      " 0   Age(Yrs)                                        208 non-null    int64   \n",
      " 1   Race                                            208 non-null    category\n",
      " 2   Socio-Economic Status                           208 non-null    object  \n",
      " 3   Presence of HTR2A Gene                          208 non-null    object  \n",
      " 4   BMI                                             208 non-null    float64 \n",
      " 5   Obesity                                         208 non-null    object  \n",
      " 6   Education                                       208 non-null    object  \n",
      " 7   Type of Meals                                   208 non-null    object  \n",
      " 8   Exercise Dur(Mins/day)                          208 non-null    float64 \n",
      " 9   Lifestyle                                       208 non-null    object  \n",
      " 10  Phy Hlth Index                                  201 non-null    float64 \n",
      " 11  AHI                                             208 non-null    float64 \n",
      " 12  Hypertension                                    208 non-null    object  \n",
      " 13  Lowest O2 Desaturation(%)                       208 non-null    float64 \n",
      " 14  Avg Apnea Dur(Secs)                             208 non-null    float64 \n",
      " 15  Arousal Index                                   208 non-null    float64 \n",
      " 16  Percent NREM Sleep                              208 non-null    float64 \n",
      " 17  Avg CPAP Use(hrs/night)                         208 non-null    float64 \n",
      " 18  AHI-Post 12wks CPAP Use                         208 non-null    float64 \n",
      " 19  Reduced Snoring-Post 12wks CPAP Use             208 non-null    int64   \n",
      " 20  Reduced Tiredness-Post 12wks CPAP Use           208 non-null    int64   \n",
      " 21  Reduced Daytime Sleepiness-Post 12wks CPAP Use  208 non-null    int64   \n",
      "dtypes: category(1), float64(10), int64(4), object(7)\n",
      "memory usage: 36.1+ KB\n"
     ]
    }
   ],
   "source": [
    "#Let's update the data type of few more columns\n",
    "df[\"Education\"]=df[\"Education\"].astype(\"object\")\n",
    "df[\"Socio-Economic Status\"]=df[\"Socio-Economic Status\"].astype(\"object\")\n",
    "df[\"Lifestyle\"] =df[\"Lifestyle\"].astype(\"object\")\n",
    "df[\"Type of Meals\"] =df[\"Type of Meals\"].astype(\"object\")\n",
    "df.info()"
   ]
  },
  {
   "cell_type": "code",
   "execution_count": 29,
   "metadata": {},
   "outputs": [
    {
     "data": {
      "text/html": [
       "<div>\n",
       "<style scoped>\n",
       "    .dataframe tbody tr th:only-of-type {\n",
       "        vertical-align: middle;\n",
       "    }\n",
       "\n",
       "    .dataframe tbody tr th {\n",
       "        vertical-align: top;\n",
       "    }\n",
       "\n",
       "    .dataframe thead th {\n",
       "        text-align: right;\n",
       "    }\n",
       "</style>\n",
       "<table border=\"1\" class=\"dataframe\">\n",
       "  <thead>\n",
       "    <tr style=\"text-align: right;\">\n",
       "      <th></th>\n",
       "      <th>Age(Yrs)</th>\n",
       "      <th>Race</th>\n",
       "      <th>Socio-Economic Status</th>\n",
       "      <th>Presence of HTR2A Gene</th>\n",
       "      <th>BMI</th>\n",
       "      <th>Obesity</th>\n",
       "      <th>Education</th>\n",
       "      <th>Type of Meals</th>\n",
       "      <th>Exercise Dur(Mins/day)</th>\n",
       "      <th>Lifestyle</th>\n",
       "      <th>...</th>\n",
       "      <th>Hypertension</th>\n",
       "      <th>Lowest O2 Desaturation(%)</th>\n",
       "      <th>Avg Apnea Dur(Secs)</th>\n",
       "      <th>Arousal Index</th>\n",
       "      <th>Percent NREM Sleep</th>\n",
       "      <th>Avg CPAP Use(hrs/night)</th>\n",
       "      <th>AHI-Post 12wks CPAP Use</th>\n",
       "      <th>Reduced Snoring-Post 12wks CPAP Use</th>\n",
       "      <th>Reduced Tiredness-Post 12wks CPAP Use</th>\n",
       "      <th>Reduced Daytime Sleepiness-Post 12wks CPAP Use</th>\n",
       "    </tr>\n",
       "  </thead>\n",
       "  <tbody>\n",
       "    <tr>\n",
       "      <th>147</th>\n",
       "      <td>34</td>\n",
       "      <td>Cauc</td>\n",
       "      <td>Low</td>\n",
       "      <td>Y</td>\n",
       "      <td>34.8</td>\n",
       "      <td>Y</td>\n",
       "      <td>HS</td>\n",
       "      <td>Packed</td>\n",
       "      <td>24.8</td>\n",
       "      <td>Sedentary</td>\n",
       "      <td>...</td>\n",
       "      <td>Y</td>\n",
       "      <td>86.8</td>\n",
       "      <td>19.3</td>\n",
       "      <td>15.59</td>\n",
       "      <td>0.95</td>\n",
       "      <td>5.75</td>\n",
       "      <td>13.7</td>\n",
       "      <td>4</td>\n",
       "      <td>4</td>\n",
       "      <td>4</td>\n",
       "    </tr>\n",
       "    <tr>\n",
       "      <th>105</th>\n",
       "      <td>34</td>\n",
       "      <td>Cauc</td>\n",
       "      <td>Middle</td>\n",
       "      <td>N</td>\n",
       "      <td>28.8</td>\n",
       "      <td>N</td>\n",
       "      <td>UG</td>\n",
       "      <td>Packed</td>\n",
       "      <td>24.0</td>\n",
       "      <td>Sedentary</td>\n",
       "      <td>...</td>\n",
       "      <td>N</td>\n",
       "      <td>88.8</td>\n",
       "      <td>16.1</td>\n",
       "      <td>14.77</td>\n",
       "      <td>0.95</td>\n",
       "      <td>6.32</td>\n",
       "      <td>20.3</td>\n",
       "      <td>4</td>\n",
       "      <td>4</td>\n",
       "      <td>4</td>\n",
       "    </tr>\n",
       "    <tr>\n",
       "      <th>199</th>\n",
       "      <td>38</td>\n",
       "      <td>Cauc</td>\n",
       "      <td>Middle</td>\n",
       "      <td>N</td>\n",
       "      <td>30.4</td>\n",
       "      <td>Y</td>\n",
       "      <td>HS</td>\n",
       "      <td>Fresh</td>\n",
       "      <td>43.6</td>\n",
       "      <td>Active</td>\n",
       "      <td>...</td>\n",
       "      <td>Y</td>\n",
       "      <td>90.8</td>\n",
       "      <td>22.1</td>\n",
       "      <td>17.12</td>\n",
       "      <td>0.90</td>\n",
       "      <td>5.88</td>\n",
       "      <td>28.8</td>\n",
       "      <td>4</td>\n",
       "      <td>4</td>\n",
       "      <td>4</td>\n",
       "    </tr>\n",
       "    <tr>\n",
       "      <th>153</th>\n",
       "      <td>48</td>\n",
       "      <td>Cauc</td>\n",
       "      <td>High</td>\n",
       "      <td>N</td>\n",
       "      <td>30.4</td>\n",
       "      <td>Y</td>\n",
       "      <td>PG</td>\n",
       "      <td>Fresh</td>\n",
       "      <td>90.0</td>\n",
       "      <td>Active</td>\n",
       "      <td>...</td>\n",
       "      <td>N</td>\n",
       "      <td>90.9</td>\n",
       "      <td>21.8</td>\n",
       "      <td>16.54</td>\n",
       "      <td>0.90</td>\n",
       "      <td>5.87</td>\n",
       "      <td>20.2</td>\n",
       "      <td>4</td>\n",
       "      <td>4</td>\n",
       "      <td>4</td>\n",
       "    </tr>\n",
       "    <tr>\n",
       "      <th>190</th>\n",
       "      <td>24</td>\n",
       "      <td>Cauc</td>\n",
       "      <td>High</td>\n",
       "      <td>N</td>\n",
       "      <td>26.0</td>\n",
       "      <td>N</td>\n",
       "      <td>PG</td>\n",
       "      <td>Fresh</td>\n",
       "      <td>60.0</td>\n",
       "      <td>Active</td>\n",
       "      <td>...</td>\n",
       "      <td>N</td>\n",
       "      <td>86.3</td>\n",
       "      <td>15.3</td>\n",
       "      <td>13.77</td>\n",
       "      <td>0.90</td>\n",
       "      <td>6.29</td>\n",
       "      <td>31.2</td>\n",
       "      <td>4</td>\n",
       "      <td>4</td>\n",
       "      <td>4</td>\n",
       "    </tr>\n",
       "  </tbody>\n",
       "</table>\n",
       "<p>5 rows × 22 columns</p>\n",
       "</div>"
      ],
      "text/plain": [
       "     Age(Yrs)  Race Socio-Economic Status Presence of HTR2A Gene   BMI  \\\n",
       "147        34  Cauc                   Low                      Y  34.8   \n",
       "105        34  Cauc                Middle                      N  28.8   \n",
       "199        38  Cauc                Middle                      N  30.4   \n",
       "153        48  Cauc                  High                      N  30.4   \n",
       "190        24  Cauc                  High                      N  26.0   \n",
       "\n",
       "    Obesity Education Type of Meals  Exercise Dur(Mins/day)  Lifestyle  ...  \\\n",
       "147       Y        HS        Packed                    24.8  Sedentary  ...   \n",
       "105       N        UG        Packed                    24.0  Sedentary  ...   \n",
       "199       Y        HS         Fresh                    43.6     Active  ...   \n",
       "153       Y        PG         Fresh                    90.0     Active  ...   \n",
       "190       N        PG         Fresh                    60.0     Active  ...   \n",
       "\n",
       "     Hypertension  Lowest O2 Desaturation(%) Avg Apnea Dur(Secs)  \\\n",
       "147             Y                       86.8                19.3   \n",
       "105             N                       88.8                16.1   \n",
       "199             Y                       90.8                22.1   \n",
       "153             N                       90.9                21.8   \n",
       "190             N                       86.3                15.3   \n",
       "\n",
       "     Arousal Index  Percent NREM Sleep  Avg CPAP Use(hrs/night)  \\\n",
       "147          15.59                0.95                     5.75   \n",
       "105          14.77                0.95                     6.32   \n",
       "199          17.12                0.90                     5.88   \n",
       "153          16.54                0.90                     5.87   \n",
       "190          13.77                0.90                     6.29   \n",
       "\n",
       "     AHI-Post 12wks CPAP Use  Reduced Snoring-Post 12wks CPAP Use  \\\n",
       "147                     13.7                                    4   \n",
       "105                     20.3                                    4   \n",
       "199                     28.8                                    4   \n",
       "153                     20.2                                    4   \n",
       "190                     31.2                                    4   \n",
       "\n",
       "     Reduced Tiredness-Post 12wks CPAP Use  \\\n",
       "147                                      4   \n",
       "105                                      4   \n",
       "199                                      4   \n",
       "153                                      4   \n",
       "190                                      4   \n",
       "\n",
       "     Reduced Daytime Sleepiness-Post 12wks CPAP Use  \n",
       "147                                               4  \n",
       "105                                               4  \n",
       "199                                               4  \n",
       "153                                               4  \n",
       "190                                               4  \n",
       "\n",
       "[5 rows x 22 columns]"
      ]
     },
     "execution_count": 29,
     "metadata": {},
     "output_type": "execute_result"
    }
   ],
   "source": [
    "# display a sample of 5 rows\n",
    "df.sample(5, random_state=8)"
   ]
  },
  {
   "cell_type": "markdown",
   "metadata": {},
   "source": [
    "> we can now see that Lifestyle, Type of Meals, SocioEconomic Status, Obesity, Hypertension columns all have the values populated correctly"
   ]
  },
  {
   "cell_type": "code",
   "execution_count": 30,
   "metadata": {},
   "outputs": [
    {
     "data": {
      "text/html": [
       "<div>\n",
       "<style scoped>\n",
       "    .dataframe tbody tr th:only-of-type {\n",
       "        vertical-align: middle;\n",
       "    }\n",
       "\n",
       "    .dataframe tbody tr th {\n",
       "        vertical-align: top;\n",
       "    }\n",
       "\n",
       "    .dataframe thead th {\n",
       "        text-align: right;\n",
       "    }\n",
       "</style>\n",
       "<table border=\"1\" class=\"dataframe\">\n",
       "  <thead>\n",
       "    <tr style=\"text-align: right;\">\n",
       "      <th></th>\n",
       "      <th>Age(Yrs)</th>\n",
       "      <th>Race</th>\n",
       "      <th>Socio-Economic Status</th>\n",
       "      <th>Presence of HTR2A Gene</th>\n",
       "      <th>BMI</th>\n",
       "      <th>Obesity</th>\n",
       "      <th>Education</th>\n",
       "      <th>Type of Meals</th>\n",
       "      <th>Exercise Dur(Mins/day)</th>\n",
       "      <th>Lifestyle</th>\n",
       "      <th>...</th>\n",
       "      <th>Hypertension</th>\n",
       "      <th>Lowest O2 Desaturation(%)</th>\n",
       "      <th>Avg Apnea Dur(Secs)</th>\n",
       "      <th>Arousal Index</th>\n",
       "      <th>Percent NREM Sleep</th>\n",
       "      <th>Avg CPAP Use(hrs/night)</th>\n",
       "      <th>AHI-Post 12wks CPAP Use</th>\n",
       "      <th>Reduced Snoring-Post 12wks CPAP Use</th>\n",
       "      <th>Reduced Tiredness-Post 12wks CPAP Use</th>\n",
       "      <th>Reduced Daytime Sleepiness-Post 12wks CPAP Use</th>\n",
       "    </tr>\n",
       "  </thead>\n",
       "  <tbody>\n",
       "    <tr>\n",
       "      <th>120</th>\n",
       "      <td>34</td>\n",
       "      <td>Cauc</td>\n",
       "      <td>Low</td>\n",
       "      <td>Y</td>\n",
       "      <td>32.4</td>\n",
       "      <td>Y</td>\n",
       "      <td>HS</td>\n",
       "      <td>Packed</td>\n",
       "      <td>19.8</td>\n",
       "      <td>Sedentary</td>\n",
       "      <td>...</td>\n",
       "      <td>Y</td>\n",
       "      <td>88.5</td>\n",
       "      <td>17.9</td>\n",
       "      <td>12.89</td>\n",
       "      <td>0.94</td>\n",
       "      <td>5.93</td>\n",
       "      <td>15.0</td>\n",
       "      <td>4</td>\n",
       "      <td>4</td>\n",
       "      <td>4</td>\n",
       "    </tr>\n",
       "    <tr>\n",
       "      <th>66</th>\n",
       "      <td>51</td>\n",
       "      <td>AA</td>\n",
       "      <td>Middle</td>\n",
       "      <td>Y</td>\n",
       "      <td>33.0</td>\n",
       "      <td>Y</td>\n",
       "      <td>UG</td>\n",
       "      <td>Packed</td>\n",
       "      <td>60.4</td>\n",
       "      <td>Active</td>\n",
       "      <td>...</td>\n",
       "      <td>Y</td>\n",
       "      <td>86.0</td>\n",
       "      <td>21.4</td>\n",
       "      <td>34.51</td>\n",
       "      <td>0.81</td>\n",
       "      <td>3.88</td>\n",
       "      <td>55.9</td>\n",
       "      <td>1</td>\n",
       "      <td>2</td>\n",
       "      <td>1</td>\n",
       "    </tr>\n",
       "    <tr>\n",
       "      <th>52</th>\n",
       "      <td>33</td>\n",
       "      <td>AA</td>\n",
       "      <td>Low</td>\n",
       "      <td>Y</td>\n",
       "      <td>32.0</td>\n",
       "      <td>Y</td>\n",
       "      <td>HS</td>\n",
       "      <td>Packed</td>\n",
       "      <td>19.1</td>\n",
       "      <td>Sedentary</td>\n",
       "      <td>...</td>\n",
       "      <td>Y</td>\n",
       "      <td>81.7</td>\n",
       "      <td>44.6</td>\n",
       "      <td>15.39</td>\n",
       "      <td>0.82</td>\n",
       "      <td>3.90</td>\n",
       "      <td>45.6</td>\n",
       "      <td>2</td>\n",
       "      <td>1</td>\n",
       "      <td>2</td>\n",
       "    </tr>\n",
       "    <tr>\n",
       "      <th>60</th>\n",
       "      <td>24</td>\n",
       "      <td>AA</td>\n",
       "      <td>Low</td>\n",
       "      <td>Y</td>\n",
       "      <td>28.0</td>\n",
       "      <td>N</td>\n",
       "      <td>HS</td>\n",
       "      <td>Packed</td>\n",
       "      <td>10.5</td>\n",
       "      <td>Sedentary</td>\n",
       "      <td>...</td>\n",
       "      <td>Y</td>\n",
       "      <td>85.1</td>\n",
       "      <td>33.7</td>\n",
       "      <td>26.04</td>\n",
       "      <td>0.72</td>\n",
       "      <td>4.23</td>\n",
       "      <td>44.0</td>\n",
       "      <td>2</td>\n",
       "      <td>2</td>\n",
       "      <td>2</td>\n",
       "    </tr>\n",
       "    <tr>\n",
       "      <th>207</th>\n",
       "      <td>33</td>\n",
       "      <td>Cauc</td>\n",
       "      <td>Middle</td>\n",
       "      <td>Y</td>\n",
       "      <td>30.0</td>\n",
       "      <td>Y</td>\n",
       "      <td>PG</td>\n",
       "      <td>Packed</td>\n",
       "      <td>15.2</td>\n",
       "      <td>Sedentary</td>\n",
       "      <td>...</td>\n",
       "      <td>N</td>\n",
       "      <td>91.7</td>\n",
       "      <td>35.2</td>\n",
       "      <td>11.06</td>\n",
       "      <td>0.84</td>\n",
       "      <td>5.54</td>\n",
       "      <td>18.4</td>\n",
       "      <td>4</td>\n",
       "      <td>3</td>\n",
       "      <td>5</td>\n",
       "    </tr>\n",
       "    <tr>\n",
       "      <th>102</th>\n",
       "      <td>54</td>\n",
       "      <td>AA</td>\n",
       "      <td>Middle</td>\n",
       "      <td>Y</td>\n",
       "      <td>25.4</td>\n",
       "      <td>N</td>\n",
       "      <td>UG</td>\n",
       "      <td>Fresh</td>\n",
       "      <td>50.0</td>\n",
       "      <td>Active</td>\n",
       "      <td>...</td>\n",
       "      <td>Y</td>\n",
       "      <td>84.3</td>\n",
       "      <td>21.7</td>\n",
       "      <td>30.68</td>\n",
       "      <td>0.88</td>\n",
       "      <td>4.85</td>\n",
       "      <td>42.9</td>\n",
       "      <td>1</td>\n",
       "      <td>1</td>\n",
       "      <td>1</td>\n",
       "    </tr>\n",
       "  </tbody>\n",
       "</table>\n",
       "<p>6 rows × 22 columns</p>\n",
       "</div>"
      ],
      "text/plain": [
       "     Age(Yrs)  Race Socio-Economic Status Presence of HTR2A Gene   BMI  \\\n",
       "120        34  Cauc                   Low                      Y  32.4   \n",
       "66         51    AA                Middle                      Y  33.0   \n",
       "52         33    AA                   Low                      Y  32.0   \n",
       "60         24    AA                   Low                      Y  28.0   \n",
       "207        33  Cauc                Middle                      Y  30.0   \n",
       "102        54    AA                Middle                      Y  25.4   \n",
       "\n",
       "    Obesity Education Type of Meals  Exercise Dur(Mins/day)  Lifestyle  ...  \\\n",
       "120       Y        HS        Packed                    19.8  Sedentary  ...   \n",
       "66        Y        UG        Packed                    60.4     Active  ...   \n",
       "52        Y        HS        Packed                    19.1  Sedentary  ...   \n",
       "60        N        HS        Packed                    10.5  Sedentary  ...   \n",
       "207       Y        PG        Packed                    15.2  Sedentary  ...   \n",
       "102       N        UG         Fresh                    50.0     Active  ...   \n",
       "\n",
       "     Hypertension  Lowest O2 Desaturation(%) Avg Apnea Dur(Secs)  \\\n",
       "120             Y                       88.5                17.9   \n",
       "66              Y                       86.0                21.4   \n",
       "52              Y                       81.7                44.6   \n",
       "60              Y                       85.1                33.7   \n",
       "207             N                       91.7                35.2   \n",
       "102             Y                       84.3                21.7   \n",
       "\n",
       "     Arousal Index  Percent NREM Sleep  Avg CPAP Use(hrs/night)  \\\n",
       "120          12.89                0.94                     5.93   \n",
       "66           34.51                0.81                     3.88   \n",
       "52           15.39                0.82                     3.90   \n",
       "60           26.04                0.72                     4.23   \n",
       "207          11.06                0.84                     5.54   \n",
       "102          30.68                0.88                     4.85   \n",
       "\n",
       "     AHI-Post 12wks CPAP Use  Reduced Snoring-Post 12wks CPAP Use  \\\n",
       "120                     15.0                                    4   \n",
       "66                      55.9                                    1   \n",
       "52                      45.6                                    2   \n",
       "60                      44.0                                    2   \n",
       "207                     18.4                                    4   \n",
       "102                     42.9                                    1   \n",
       "\n",
       "     Reduced Tiredness-Post 12wks CPAP Use  \\\n",
       "120                                      4   \n",
       "66                                       2   \n",
       "52                                       1   \n",
       "60                                       2   \n",
       "207                                      3   \n",
       "102                                      1   \n",
       "\n",
       "     Reduced Daytime Sleepiness-Post 12wks CPAP Use  \n",
       "120                                               4  \n",
       "66                                                1  \n",
       "52                                                2  \n",
       "60                                                2  \n",
       "207                                               5  \n",
       "102                                               1  \n",
       "\n",
       "[6 rows x 22 columns]"
      ]
     },
     "execution_count": 30,
     "metadata": {},
     "output_type": "execute_result"
    }
   ],
   "source": [
    "# Lets check a sample size of even number of records\n",
    "df.sample(6, random_state=42)"
   ]
  },
  {
   "cell_type": "markdown",
   "metadata": {},
   "source": [
    "> As we can see now we have an even distribution of the column values amongst the columns to get better understanding of the data here in our df"
   ]
  },
  {
   "cell_type": "code",
   "execution_count": 31,
   "metadata": {},
   "outputs": [
    {
     "data": {
      "text/html": [
       "<div>\n",
       "<style scoped>\n",
       "    .dataframe tbody tr th:only-of-type {\n",
       "        vertical-align: middle;\n",
       "    }\n",
       "\n",
       "    .dataframe tbody tr th {\n",
       "        vertical-align: top;\n",
       "    }\n",
       "\n",
       "    .dataframe thead th {\n",
       "        text-align: right;\n",
       "    }\n",
       "</style>\n",
       "<table border=\"1\" class=\"dataframe\">\n",
       "  <thead>\n",
       "    <tr style=\"text-align: right;\">\n",
       "      <th></th>\n",
       "      <th>Race</th>\n",
       "      <th>Age(Yrs)</th>\n",
       "      <th>Socio-Economic Status</th>\n",
       "      <th>Presence of HTR2A Gene</th>\n",
       "      <th>Education</th>\n",
       "      <th>BMI</th>\n",
       "      <th>Obesity</th>\n",
       "      <th>Type of Meals</th>\n",
       "      <th>Exercise Dur(Mins/day)</th>\n",
       "      <th>Lifestyle</th>\n",
       "      <th>...</th>\n",
       "      <th>Hypertension</th>\n",
       "      <th>Lowest O2 Desaturation(%)</th>\n",
       "      <th>Avg Apnea Dur(Secs)</th>\n",
       "      <th>Arousal Index</th>\n",
       "      <th>Percent NREM Sleep</th>\n",
       "      <th>Avg CPAP Use(hrs/night)</th>\n",
       "      <th>AHI-Post 12wks CPAP Use</th>\n",
       "      <th>Reduced Snoring-Post 12wks CPAP Use</th>\n",
       "      <th>Reduced Tiredness-Post 12wks CPAP Use</th>\n",
       "      <th>Reduced Daytime Sleepiness-Post 12wks CPAP Use</th>\n",
       "    </tr>\n",
       "  </thead>\n",
       "  <tbody>\n",
       "    <tr>\n",
       "      <th>25</th>\n",
       "      <td>AA</td>\n",
       "      <td>59</td>\n",
       "      <td>Middle</td>\n",
       "      <td>Y</td>\n",
       "      <td>UG</td>\n",
       "      <td>35.4</td>\n",
       "      <td>Y</td>\n",
       "      <td>Fresh</td>\n",
       "      <td>30.0</td>\n",
       "      <td>Active</td>\n",
       "      <td>...</td>\n",
       "      <td>Y</td>\n",
       "      <td>82.9</td>\n",
       "      <td>27.8</td>\n",
       "      <td>23.08</td>\n",
       "      <td>0.83</td>\n",
       "      <td>4.55</td>\n",
       "      <td>72.4</td>\n",
       "      <td>2</td>\n",
       "      <td>1</td>\n",
       "      <td>2</td>\n",
       "    </tr>\n",
       "    <tr>\n",
       "      <th>31</th>\n",
       "      <td>AA</td>\n",
       "      <td>59</td>\n",
       "      <td>Low</td>\n",
       "      <td>Y</td>\n",
       "      <td>HS</td>\n",
       "      <td>30.4</td>\n",
       "      <td>Y</td>\n",
       "      <td>Packed</td>\n",
       "      <td>25.3</td>\n",
       "      <td>Sedentary</td>\n",
       "      <td>...</td>\n",
       "      <td>Y</td>\n",
       "      <td>82.9</td>\n",
       "      <td>25.0</td>\n",
       "      <td>31.86</td>\n",
       "      <td>0.66</td>\n",
       "      <td>3.42</td>\n",
       "      <td>30.1</td>\n",
       "      <td>2</td>\n",
       "      <td>1</td>\n",
       "      <td>1</td>\n",
       "    </tr>\n",
       "  </tbody>\n",
       "</table>\n",
       "<p>2 rows × 22 columns</p>\n",
       "</div>"
      ],
      "text/plain": [
       "   Race  Age(Yrs) Socio-Economic Status Presence of HTR2A Gene Education  \\\n",
       "25   AA        59                Middle                      Y        UG   \n",
       "31   AA        59                   Low                      Y        HS   \n",
       "\n",
       "     BMI Obesity Type of Meals  Exercise Dur(Mins/day)  Lifestyle  ...  \\\n",
       "25  35.4       Y         Fresh                    30.0     Active  ...   \n",
       "31  30.4       Y        Packed                    25.3  Sedentary  ...   \n",
       "\n",
       "    Hypertension  Lowest O2 Desaturation(%) Avg Apnea Dur(Secs)  \\\n",
       "25             Y                       82.9                27.8   \n",
       "31             Y                       82.9                25.0   \n",
       "\n",
       "    Arousal Index  Percent NREM Sleep  Avg CPAP Use(hrs/night)  \\\n",
       "25          23.08                0.83                     4.55   \n",
       "31          31.86                0.66                     3.42   \n",
       "\n",
       "    AHI-Post 12wks CPAP Use  Reduced Snoring-Post 12wks CPAP Use  \\\n",
       "25                     72.4                                    2   \n",
       "31                     30.1                                    2   \n",
       "\n",
       "    Reduced Tiredness-Post 12wks CPAP Use  \\\n",
       "25                                      1   \n",
       "31                                      1   \n",
       "\n",
       "    Reduced Daytime Sleepiness-Post 12wks CPAP Use  \n",
       "25                                               2  \n",
       "31                                               1  \n",
       "\n",
       "[2 rows x 22 columns]"
      ]
     },
     "execution_count": 31,
     "metadata": {},
     "output_type": "execute_result"
    }
   ],
   "source": [
    "# After the update to the column names, the values in few of them and also to the types of the few columns, \n",
    "# lets rearrange the columns position inside the dataframe\n",
    "df=df[[\"Race\",\"Age(Yrs)\",\"Socio-Economic Status\",\"Presence of HTR2A Gene\",\"Education\",\"BMI\",\"Obesity\",\n",
    "\"Type of Meals\",\"Exercise Dur(Mins/day)\",\"Lifestyle\",\"Phy Hlth Index\",\"AHI\",\"Hypertension\",\"Lowest O2 Desaturation(%)\"\n",
    ",\"Avg Apnea Dur(Secs)\",\"Arousal Index\",\"Percent NREM Sleep\",\"Avg CPAP Use(hrs/night)\",\"AHI-Post 12wks CPAP Use\",\n",
    "\"Reduced Snoring-Post 12wks CPAP Use\",\"Reduced Tiredness-Post 12wks CPAP Use\",\n",
    "       \"Reduced Daytime Sleepiness-Post 12wks CPAP Use\"]]\n",
    "df.head(2)"
   ]
  },
  {
   "cell_type": "markdown",
   "metadata": {},
   "source": [
    "> As we can see we now have the Race column as our first column which we would be using as a categorical elements and also other column positions have been rearranged "
   ]
  },
  {
   "cell_type": "code",
   "execution_count": 32,
   "metadata": {},
   "outputs": [
    {
     "name": "stdout",
     "output_type": "stream",
     "text": [
      "<class 'pandas.core.frame.DataFrame'>\n",
      "Int64Index: 208 entries, 25 to 188\n",
      "Data columns (total 22 columns):\n",
      " #   Column                                          Non-Null Count  Dtype   \n",
      "---  ------                                          --------------  -----   \n",
      " 0   Race                                            208 non-null    category\n",
      " 1   Age(Yrs)                                        208 non-null    int64   \n",
      " 2   Socio-Economic Status                           208 non-null    object  \n",
      " 3   Presence of HTR2A Gene                          208 non-null    object  \n",
      " 4   Education                                       208 non-null    object  \n",
      " 5   BMI                                             208 non-null    float64 \n",
      " 6   Obesity                                         208 non-null    object  \n",
      " 7   Type of Meals                                   208 non-null    object  \n",
      " 8   Exercise Dur(Mins/day)                          208 non-null    float64 \n",
      " 9   Lifestyle                                       208 non-null    object  \n",
      " 10  Phy Hlth Index                                  201 non-null    float64 \n",
      " 11  AHI                                             208 non-null    float64 \n",
      " 12  Hypertension                                    208 non-null    object  \n",
      " 13  Lowest O2 Desaturation(%)                       208 non-null    float64 \n",
      " 14  Avg Apnea Dur(Secs)                             208 non-null    float64 \n",
      " 15  Arousal Index                                   208 non-null    float64 \n",
      " 16  Percent NREM Sleep                              208 non-null    float64 \n",
      " 17  Avg CPAP Use(hrs/night)                         208 non-null    float64 \n",
      " 18  AHI-Post 12wks CPAP Use                         208 non-null    float64 \n",
      " 19  Reduced Snoring-Post 12wks CPAP Use             208 non-null    int64   \n",
      " 20  Reduced Tiredness-Post 12wks CPAP Use           208 non-null    int64   \n",
      " 21  Reduced Daytime Sleepiness-Post 12wks CPAP Use  208 non-null    int64   \n",
      "dtypes: category(1), float64(10), int64(4), object(7)\n",
      "memory usage: 36.1+ KB\n"
     ]
    }
   ],
   "source": [
    "# With the sorting, rearrangement, column updates in the df covered, \n",
    "# let's now concentrate on the columns that have missing (null) values \n",
    "# let's take another look at the new dataframe\n",
    "df.info()"
   ]
  },
  {
   "cell_type": "markdown",
   "metadata": {},
   "source": [
    "> We see that Phy Health Index column which is important for a part of data analysis has null values.\n",
    "> One way of the handling the null values for Phy Hlth Index column is by finding the mean, mode and mode of Phy Health Index values for each category of Race (African-American, Caucasian).Then use the appropriate value to fill the missing Phy Health Index values in each category\n",
    "> But before deciding on using the mean or mode or median values to fill null Phy Health Index values, we need to check if there are too many outliers in each category"
   ]
  },
  {
   "cell_type": "code",
   "execution_count": 33,
   "metadata": {},
   "outputs": [],
   "source": [
    "# group the dataset using the Race (category) column\n",
    "category_group=df.groupby(by=\"Race\")"
   ]
  },
  {
   "cell_type": "code",
   "execution_count": 34,
   "metadata": {},
   "outputs": [
    {
     "data": {
      "text/plain": [
       "3"
      ]
     },
     "execution_count": 34,
     "metadata": {},
     "output_type": "execute_result"
    }
   ],
   "source": [
    "# find null values for Physical Health Index in each group\n",
    "category_group.get_group(\"AA\")[\"Phy Hlth Index\"].isnull().sum()"
   ]
  },
  {
   "cell_type": "markdown",
   "metadata": {},
   "source": [
    "> We have 3 null Phy Health Index values in \"AA\" Race category"
   ]
  },
  {
   "cell_type": "code",
   "execution_count": 35,
   "metadata": {},
   "outputs": [
    {
     "data": {
      "text/plain": [
       "7"
      ]
     },
     "execution_count": 35,
     "metadata": {},
     "output_type": "execute_result"
    }
   ],
   "source": [
    "# the total null values for Physical Health Index in the dataframe\n",
    "df[\"Phy Hlth Index\"].isnull().sum()"
   ]
  },
  {
   "cell_type": "markdown",
   "metadata": {},
   "source": [
    "> We have a total 7 null Phy Health Index values in the whole dataset. So we do have some missing Phy Health Index values belonging to \"CAUC\" Race too. Lets see what the distribution of the Phy Health Index in each category looks like."
   ]
  },
  {
   "cell_type": "code",
   "execution_count": 36,
   "metadata": {},
   "outputs": [],
   "source": [
    "# lets create a function that takes group name and the column name as arguments and returns a hist chart \n",
    "# with the value counts\n",
    "\n",
    "def histplot(group_name,column_name):\n",
    "    '''\n",
    "    This function provides the counts of values in a column of a specific group and plot it in hist plot\n",
    "    Inputs: group_name, column_name\n",
    "    Output: plot a hist plot of value counts of a column in a specific group\n",
    "    '''\n",
    "    category_group.get_group(group_name)[column_name].plot(kind=\"hist\")\n",
    "    plt.title(column_name)"
   ]
  },
  {
   "cell_type": "code",
   "execution_count": 37,
   "metadata": {},
   "outputs": [
    {
     "data": {
      "image/png": "[encoded data removed]",
      "text/plain": [
       "<Figure size 432x288 with 1 Axes>"
      ]
     },
     "metadata": {
      "needs_background": "light"
     },
     "output_type": "display_data"
    }
   ],
   "source": [
    "# lets call the histplot function and pass \"AA\",\"Phy Hlth Index\" as its first arguments for group and column names\n",
    "histplot(\"AA\",\"Phy Hlth Index\")"
   ]
  },
  {
   "cell_type": "markdown",
   "metadata": {},
   "source": [
    "> As we can see the histrogram is being skewed by two large values (shows presence of outliers).Therefore, in this situation, we would like to have a better measure of central tendency. We can use either the mean or median value to fill the missing values in Physical Health Index column "
   ]
  },
  {
   "cell_type": "code",
   "execution_count": 38,
   "metadata": {},
   "outputs": [
    {
     "data": {
      "image/png": "[encoded data removed]",
      "text/plain": [
       "<Figure size 432x288 with 1 Axes>"
      ]
     },
     "metadata": {
      "needs_background": "light"
     },
     "output_type": "display_data"
    }
   ],
   "source": [
    "# lets call the histplot function and pass \"Cauc\",\"Phy Hlth Index\" as its Second arguments for group and column names\n",
    "histplot(\"Cauc\",\"Phy Hlth Index\")"
   ]
  },
  {
   "cell_type": "markdown",
   "metadata": {},
   "source": [
    "> As we can see the histrogram is somewhat right skewed (but not completely). We can again use either the mean or median value to fill the missing values in Physical Health Index column "
   ]
  },
  {
   "cell_type": "code",
   "execution_count": 39,
   "metadata": {},
   "outputs": [
    {
     "data": {
      "text/plain": [
       "2.12"
      ]
     },
     "execution_count": 39,
     "metadata": {},
     "output_type": "execute_result"
    }
   ],
   "source": [
    "# calculate the mode for \"AA\" Physical Health Index\n",
    "category_group.get_group(\"AA\")[\"Phy Hlth Index\"].mode()[0]"
   ]
  },
  {
   "cell_type": "code",
   "execution_count": 40,
   "metadata": {},
   "outputs": [
    {
     "data": {
      "text/plain": [
       "1.43"
      ]
     },
     "execution_count": 40,
     "metadata": {},
     "output_type": "execute_result"
    }
   ],
   "source": [
    "# calculate the median for \"AA\" Physical Health Index\n",
    "category_group.get_group(\"AA\")[\"Phy Hlth Index\"].median()"
   ]
  },
  {
   "cell_type": "code",
   "execution_count": 41,
   "metadata": {},
   "outputs": [
    {
     "data": {
      "text/plain": [
       "1.553861386138614"
      ]
     },
     "execution_count": 41,
     "metadata": {},
     "output_type": "execute_result"
    }
   ],
   "source": [
    "# calculate the mean for \"AA\" Physical Health Index\n",
    "category_group.get_group(\"AA\")[\"Phy Hlth Index\"].mean()"
   ]
  },
  {
   "cell_type": "markdown",
   "metadata": {},
   "source": [
    "> The mean and median for Physical Health Index in AA group is 1.554,1.43"
   ]
  },
  {
   "cell_type": "code",
   "execution_count": 42,
   "metadata": {},
   "outputs": [
    {
     "data": {
      "text/plain": [
       "1.39"
      ]
     },
     "execution_count": 42,
     "metadata": {},
     "output_type": "execute_result"
    }
   ],
   "source": [
    "# calculate the mode for \"Cauc\" Physical Health Index\n",
    "category_group.get_group(\"Cauc\")[\"Phy Hlth Index\"].mode()[0]"
   ]
  },
  {
   "cell_type": "code",
   "execution_count": 43,
   "metadata": {},
   "outputs": [
    {
     "data": {
      "text/plain": [
       "2.115"
      ]
     },
     "execution_count": 43,
     "metadata": {},
     "output_type": "execute_result"
    }
   ],
   "source": [
    "# calculate the median for \"Cauc\" Physical Health Index\n",
    "category_group.get_group(\"Cauc\")[\"Phy Hlth Index\"].median()"
   ]
  },
  {
   "cell_type": "code",
   "execution_count": 44,
   "metadata": {},
   "outputs": [
    {
     "data": {
      "text/plain": [
       "2.0305"
      ]
     },
     "execution_count": 44,
     "metadata": {},
     "output_type": "execute_result"
    }
   ],
   "source": [
    "# calculate the mean for \"Cauc\" Physical Health Index\n",
    "category_group.get_group(\"Cauc\")[\"Phy Hlth Index\"].mean()"
   ]
  },
  {
   "cell_type": "markdown",
   "metadata": {},
   "source": [
    "> The mean and median for Physical Health Index in Cauc group is 2.0305,2.115\n",
    "\n",
    "> We see that the median and mean value is pretty close by for each of these categories. So we can just use the mean values to fill the missing values in Phy Hlth Index "
   ]
  },
  {
   "cell_type": "code",
   "execution_count": 45,
   "metadata": {},
   "outputs": [],
   "source": [
    "# fill the null values in Phy Hlth Index using the mean value of each category\n",
    "df[\"Phy Hlth Index\"]=df.groupby(\"Race\")[\"Phy Hlth Index\"].apply(lambda x: x.fillna(x.mean()))"
   ]
  },
  {
   "cell_type": "code",
   "execution_count": 46,
   "metadata": {},
   "outputs": [
    {
     "name": "stdout",
     "output_type": "stream",
     "text": [
      "<class 'pandas.core.series.Series'>\n",
      "Int64Index: 208 entries, 25 to 188\n",
      "Series name: Phy Hlth Index\n",
      "Non-Null Count  Dtype  \n",
      "--------------  -----  \n",
      "208 non-null    float64\n",
      "dtypes: float64(1)\n",
      "memory usage: 3.2 KB\n"
     ]
    }
   ],
   "source": [
    "# check to see if there are any null valuesleft after fillna() operation to our column\n",
    "df[\"Phy Hlth Index\"].info()"
   ]
  },
  {
   "cell_type": "markdown",
   "metadata": {},
   "source": [
    ">Good! There are no more missing values in Phy Hlth Index column"
   ]
  },
  {
   "cell_type": "markdown",
   "metadata": {},
   "source": [
    "## Section 4. Evaluation"
   ]
  },
  {
   "cell_type": "markdown",
   "metadata": {},
   "source": [
    "#### Question 1:  Is race a determinant of severity of sleep apnea?"
   ]
  },
  {
   "cell_type": "markdown",
   "metadata": {},
   "source": [
    "Severity of the Sleep Apnea is determined by the AHI value, the higher the AHI the severe is the case of the sleep apnea. \n",
    "The severity of Sleep Apnea can be categorised as below:\n",
    "\n",
    "1) Mild (AHI between 5-15 per hr) \\\n",
    "2) Medium (AHI between 15-30 per hr) \\\n",
    "3) Severe (AHI > 30 per hr)"
   ]
  },
  {
   "cell_type": "code",
   "execution_count": 47,
   "metadata": {},
   "outputs": [
    {
     "data": {
      "text/plain": [
       "Race\n",
       "AA      27.2\n",
       "Cauc    13.6\n",
       "Name: AHI, dtype: float64"
      ]
     },
     "execution_count": 47,
     "metadata": {},
     "output_type": "execute_result"
    }
   ],
   "source": [
    "#Let's first find the Minimum and Maximum values of AHI amongst both the races\n",
    "df.groupby(by=[\"Race\"])[\"AHI\"].min()"
   ]
  },
  {
   "cell_type": "code",
   "execution_count": 48,
   "metadata": {
    "scrolled": true
   },
   "outputs": [
    {
     "data": {
      "text/plain": [
       "Race\n",
       "AA      91.8\n",
       "Cauc    57.5\n",
       "Name: AHI, dtype: float64"
      ]
     },
     "execution_count": 48,
     "metadata": {},
     "output_type": "execute_result"
    }
   ],
   "source": [
    "df.groupby(by=[\"Race\"])[\"AHI\"].max()"
   ]
  },
  {
   "cell_type": "code",
   "execution_count": 49,
   "metadata": {
    "scrolled": true
   },
   "outputs": [],
   "source": [
    "#Now lets get the counts from both the Race groups for Mild, Medium, Severe Sleep Apnea Cases\n",
    "#and put them in distinct lists for printing\n",
    "\n",
    "cc_mild=((df[\"Race\"]=='Cauc')&(df[\"AHI\"]<15)&(df[\"AHI\"]>5)).value_counts().to_list()\n",
    "cc_med=((df[\"Race\"]=='Cauc')&(df[\"AHI\"]<=30)&(df[\"AHI\"]>15)).value_counts().to_list()\n",
    "cc_severe=((df[\"Race\"]=='Cauc')&(df[\"AHI\"]>30)).value_counts().to_list()\n",
    "\n",
    "aa_mild=(((df[\"Race\"]=='AA')&(df[\"AHI\"]<15)&(df[\"AHI\"]>5)).value_counts()-208).to_list()\n",
    "aa_med=((df[\"Race\"]=='AA')&(df[\"AHI\"]<=30)&(df[\"AHI\"]>15)).value_counts().to_list()\n",
    "aa_severe=((df[\"Race\"]=='AA')&(df[\"AHI\"]>30)).value_counts().to_list()"
   ]
  },
  {
   "cell_type": "code",
   "execution_count": 50,
   "metadata": {},
   "outputs": [
    {
     "name": "stdout",
     "output_type": "stream",
     "text": [
      "For the AA group, there are       \n",
      " 0 cases of Mild Sleep Apnea,       \n",
      " 2 cases of Medium Sleep Apnea       \n",
      " and 102 cases of Severe Sleep Apnea \n",
      "\n",
      "For the Cauc group, there are       \n",
      " 1 cases of Mild Sleep Apnea,       \n",
      " 43 cases of Medium Sleep Apnea       \n",
      " and 60 cases of Severe Sleep Apnea \n"
     ]
    }
   ],
   "source": [
    "print('For the AA group, there are \\\n",
    "      \\n {} cases of Mild Sleep Apnea, \\\n",
    "      \\n {} cases of Medium Sleep Apnea \\\n",
    "      \\n and {} cases of Severe Sleep Apnea \\n'.format(aa_mild[0],aa_med[1],aa_severe[1]))\n",
    "print('For the Cauc group, there are \\\n",
    "      \\n {} cases of Mild Sleep Apnea, \\\n",
    "      \\n {} cases of Medium Sleep Apnea \\\n",
    "      \\n and {} cases of Severe Sleep Apnea '.format(cc_mild[1],cc_med[1],cc_severe[1]))"
   ]
  },
  {
   "cell_type": "code",
   "execution_count": 51,
   "metadata": {},
   "outputs": [
    {
     "data": {
      "image/png": "[encoded data removed]",
      "text/plain": [
       "<Figure size 432x288 with 1 Axes>"
      ]
     },
     "metadata": {
      "needs_background": "light"
     },
     "output_type": "display_data"
    }
   ],
   "source": [
    "#Let's put these result sets in a dedicated dictionary for further use\n",
    "dict_ahi = {'aa_mild': aa_mild[0], 'aa_med': aa_med[1], 'aa_severe': aa_severe[1],\n",
    "            'cc_mild': cc_mild[1], 'cc_med': cc_med[1], 'cc_severe': cc_severe[1]}\n",
    "\n",
    "#Let's display these result sets in a more presentable format using a bar chart\n",
    "plt.bar(list(dict_ahi.keys()), dict_ahi.values(), color=['g','y','r'])\n",
    "plt.show()"
   ]
  },
  {
   "cell_type": "markdown",
   "metadata": {},
   "source": [
    "> Based on the above histogram, it can deduced that most of the participants of AA group had Severe form of Sleep Apnea (higher AHI) than the participants in the Cauc group. More than 95% of the AA participants had Severe form of Sleep Apnea."
   ]
  },
  {
   "cell_type": "markdown",
   "metadata": {},
   "source": [
    "#### Question 2:  Does race influence the presence/ magnitude of preventable and non-preventable risk factors of sleep apnea?"
   ]
  },
  {
   "cell_type": "markdown",
   "metadata": {},
   "source": [
    "#### <U> Non-Preventable Factors"
   ]
  },
  {
   "cell_type": "code",
   "execution_count": 52,
   "metadata": {
    "scrolled": false
   },
   "outputs": [
    {
     "data": {
      "text/html": [
       "<div>\n",
       "<style scoped>\n",
       "    .dataframe tbody tr th:only-of-type {\n",
       "        vertical-align: middle;\n",
       "    }\n",
       "\n",
       "    .dataframe tbody tr th {\n",
       "        vertical-align: top;\n",
       "    }\n",
       "\n",
       "    .dataframe thead th {\n",
       "        text-align: right;\n",
       "    }\n",
       "</style>\n",
       "<table border=\"1\" class=\"dataframe\">\n",
       "  <thead>\n",
       "    <tr style=\"text-align: right;\">\n",
       "      <th></th>\n",
       "      <th>Race</th>\n",
       "      <th>Age(Yrs)</th>\n",
       "      <th>Socio-Economic Status</th>\n",
       "      <th>Presence of HTR2A Gene</th>\n",
       "      <th>AHI</th>\n",
       "      <th>Hypertension</th>\n",
       "      <th>Education</th>\n",
       "    </tr>\n",
       "  </thead>\n",
       "  <tbody>\n",
       "    <tr>\n",
       "      <th>25</th>\n",
       "      <td>AA</td>\n",
       "      <td>59</td>\n",
       "      <td>Middle</td>\n",
       "      <td>Y</td>\n",
       "      <td>76.1</td>\n",
       "      <td>Y</td>\n",
       "      <td>UG</td>\n",
       "    </tr>\n",
       "    <tr>\n",
       "      <th>31</th>\n",
       "      <td>AA</td>\n",
       "      <td>59</td>\n",
       "      <td>Low</td>\n",
       "      <td>Y</td>\n",
       "      <td>33.7</td>\n",
       "      <td>Y</td>\n",
       "      <td>HS</td>\n",
       "    </tr>\n",
       "    <tr>\n",
       "      <th>80</th>\n",
       "      <td>AA</td>\n",
       "      <td>59</td>\n",
       "      <td>Low</td>\n",
       "      <td>Y</td>\n",
       "      <td>84.8</td>\n",
       "      <td>Y</td>\n",
       "      <td>HS</td>\n",
       "    </tr>\n",
       "    <tr>\n",
       "      <th>73</th>\n",
       "      <td>AA</td>\n",
       "      <td>57</td>\n",
       "      <td>Low</td>\n",
       "      <td>Y</td>\n",
       "      <td>82.7</td>\n",
       "      <td>Y</td>\n",
       "      <td>HS</td>\n",
       "    </tr>\n",
       "    <tr>\n",
       "      <th>61</th>\n",
       "      <td>AA</td>\n",
       "      <td>56</td>\n",
       "      <td>Middle</td>\n",
       "      <td>Y</td>\n",
       "      <td>37.2</td>\n",
       "      <td>Y</td>\n",
       "      <td>UG</td>\n",
       "    </tr>\n",
       "    <tr>\n",
       "      <th>...</th>\n",
       "      <td>...</td>\n",
       "      <td>...</td>\n",
       "      <td>...</td>\n",
       "      <td>...</td>\n",
       "      <td>...</td>\n",
       "      <td>...</td>\n",
       "      <td>...</td>\n",
       "    </tr>\n",
       "    <tr>\n",
       "      <th>148</th>\n",
       "      <td>Cauc</td>\n",
       "      <td>22</td>\n",
       "      <td>Middle</td>\n",
       "      <td>N</td>\n",
       "      <td>22.4</td>\n",
       "      <td>N</td>\n",
       "      <td>UG</td>\n",
       "    </tr>\n",
       "    <tr>\n",
       "      <th>183</th>\n",
       "      <td>Cauc</td>\n",
       "      <td>22</td>\n",
       "      <td>Middle</td>\n",
       "      <td>N</td>\n",
       "      <td>18.9</td>\n",
       "      <td>N</td>\n",
       "      <td>UG</td>\n",
       "    </tr>\n",
       "    <tr>\n",
       "      <th>130</th>\n",
       "      <td>Cauc</td>\n",
       "      <td>21</td>\n",
       "      <td>High</td>\n",
       "      <td>N</td>\n",
       "      <td>19.7</td>\n",
       "      <td>N</td>\n",
       "      <td>PG</td>\n",
       "    </tr>\n",
       "    <tr>\n",
       "      <th>132</th>\n",
       "      <td>Cauc</td>\n",
       "      <td>21</td>\n",
       "      <td>High</td>\n",
       "      <td>N</td>\n",
       "      <td>30.6</td>\n",
       "      <td>Y</td>\n",
       "      <td>UG</td>\n",
       "    </tr>\n",
       "    <tr>\n",
       "      <th>188</th>\n",
       "      <td>Cauc</td>\n",
       "      <td>20</td>\n",
       "      <td>Low</td>\n",
       "      <td>N</td>\n",
       "      <td>21.5</td>\n",
       "      <td>N</td>\n",
       "      <td>HS</td>\n",
       "    </tr>\n",
       "  </tbody>\n",
       "</table>\n",
       "<p>208 rows × 7 columns</p>\n",
       "</div>"
      ],
      "text/plain": [
       "     Race  Age(Yrs) Socio-Economic Status Presence of HTR2A Gene   AHI  \\\n",
       "25     AA        59                Middle                      Y  76.1   \n",
       "31     AA        59                   Low                      Y  33.7   \n",
       "80     AA        59                   Low                      Y  84.8   \n",
       "73     AA        57                   Low                      Y  82.7   \n",
       "61     AA        56                Middle                      Y  37.2   \n",
       "..    ...       ...                   ...                    ...   ...   \n",
       "148  Cauc        22                Middle                      N  22.4   \n",
       "183  Cauc        22                Middle                      N  18.9   \n",
       "130  Cauc        21                  High                      N  19.7   \n",
       "132  Cauc        21                  High                      N  30.6   \n",
       "188  Cauc        20                   Low                      N  21.5   \n",
       "\n",
       "    Hypertension Education  \n",
       "25             Y        UG  \n",
       "31             Y        HS  \n",
       "80             Y        HS  \n",
       "73             Y        HS  \n",
       "61             Y        UG  \n",
       "..           ...       ...  \n",
       "148            N        UG  \n",
       "183            N        UG  \n",
       "130            N        PG  \n",
       "132            Y        UG  \n",
       "188            N        HS  \n",
       "\n",
       "[208 rows x 7 columns]"
      ]
     },
     "execution_count": 52,
     "metadata": {},
     "output_type": "execute_result"
    }
   ],
   "source": [
    "#Non-Preventable Factors \n",
    "# Let's first select the columns with values for the Non-Preventable factors for each Race Category\n",
    "df[[\"Race\",\"Age(Yrs)\",\"Socio-Economic Status\",\"Presence of HTR2A Gene\",\"AHI\",\"Hypertension\",\"Education\"]]"
   ]
  },
  {
   "cell_type": "code",
   "execution_count": 53,
   "metadata": {
    "scrolled": false
   },
   "outputs": [
    {
     "data": {
      "text/plain": [
       "array([<AxesSubplot:title={'center':'AA'}, ylabel='Frequency'>,\n",
       "       <AxesSubplot:title={'center':'Cauc'}, ylabel='Frequency'>],\n",
       "      dtype=object)"
      ]
     },
     "execution_count": 53,
     "metadata": {},
     "output_type": "execute_result"
    },
    {
     "data": {
      "image/png": "[encoded data removed]",
      "text/plain": [
       "<Figure size 432x432 with 2 Axes>"
      ]
     },
     "metadata": {
      "needs_background": "light"
     },
     "output_type": "display_data"
    }
   ],
   "source": [
    "# Let's first pick Age(Yrs) for analysis and try to plot a graph using the existing data\n",
    "df.plot.hist(column=[\"Age(Yrs)\"],by=\"Race\", figsize=(6,6))"
   ]
  },
  {
   "cell_type": "markdown",
   "metadata": {},
   "source": [
    "> Based on the above histograms, we see that larger number of participants from African-American Race have Sleep Apnea in the Age group of 35-45 and they also had a spike in the Age group of around 50-55. Whereas for the participants from Caucasian group, majority of them have Sleep Apnea between the Age group of 27.5-42.5.\n",
    "\n",
    "> But this doesn't give us a clear picture to post. let's dig into the numbers more and see what we find. Let's first see the max and min values in the Age column for each of the Race groups."
   ]
  },
  {
   "cell_type": "code",
   "execution_count": 54,
   "metadata": {},
   "outputs": [
    {
     "data": {
      "text/plain": [
       "Race\n",
       "AA      59\n",
       "Cauc    57\n",
       "Name: Age(Yrs), dtype: int64"
      ]
     },
     "execution_count": 54,
     "metadata": {},
     "output_type": "execute_result"
    }
   ],
   "source": [
    "df.groupby(by=[\"Race\"])[\"Age(Yrs)\"].max()"
   ]
  },
  {
   "cell_type": "code",
   "execution_count": 55,
   "metadata": {},
   "outputs": [
    {
     "data": {
      "text/plain": [
       "Race\n",
       "AA      19\n",
       "Cauc    20\n",
       "Name: Age(Yrs), dtype: int64"
      ]
     },
     "execution_count": 55,
     "metadata": {},
     "output_type": "execute_result"
    }
   ],
   "source": [
    "df.groupby(by=[\"Race\"])[\"Age(Yrs)\"].min()"
   ]
  },
  {
   "cell_type": "code",
   "execution_count": 56,
   "metadata": {
    "scrolled": true
   },
   "outputs": [],
   "source": [
    "#Now lets get the counts of Sleep Apnea Cases from both the Race groups for below listed age groups\n",
    "# Teens:              Under 20\n",
    "# Young Adults:       Between 20-40\n",
    "# Middle Age Adults:  Between 40-60\n",
    "# Senior Adults:      Above 60\n",
    "# and put them in distinct lists for printing\n",
    "\n",
    "cc_teen=(((df[\"Race\"]=='Cauc')&(df[\"Age(Yrs)\"]<20)).value_counts()-208).to_list()\n",
    "cc_adult=((df[\"Race\"]=='Cauc')&(df[\"Age(Yrs)\"]<40)&(df[\"Age(Yrs)\"]>=20)).value_counts().to_list()\n",
    "cc_mid_adult=((df[\"Race\"]=='Cauc')&(df[\"Age(Yrs)\"]<60)&(df[\"Age(Yrs)\"]>=40)).value_counts().to_list()\n",
    "cc_snr_adult=(((df[\"Race\"]=='Cauc')&(df[\"Age(Yrs)\"]>=60)).value_counts()-208).to_list()\n",
    "\n",
    "aa_teen=((df[\"Race\"]=='AA')&(df[\"Age(Yrs)\"]<20)).value_counts().to_list()\n",
    "aa_adult=((df[\"Race\"]=='AA')&(df[\"Age(Yrs)\"]<40)&(df[\"Age(Yrs)\"]>=20)).value_counts().to_list()\n",
    "aa_mid_adult=((df[\"Race\"]=='AA')&(df[\"Age(Yrs)\"]<60)&(df[\"Age(Yrs)\"]>=40)).value_counts().to_list()\n",
    "aa_snr_adult=(((df[\"Race\"]=='AA')&(df[\"Age(Yrs)\"]>=60)).value_counts()-208).to_list()"
   ]
  },
  {
   "cell_type": "code",
   "execution_count": 57,
   "metadata": {
    "scrolled": true
   },
   "outputs": [
    {
     "name": "stdout",
     "output_type": "stream",
     "text": [
      "For the AA group, there are       \n",
      " 1 cases of Sleep Apnea for Teens group,       \n",
      " 54 cases of Sleep Apnea for Young Adults group       \n",
      " 49 cases of Sleep Apnea for Middle Age Adults group       \n",
      " and 0 cases of Sleep Apnea for Senior Adults group \n",
      "\n",
      "For the Cauc group, there are       \n",
      " 0 cases of Sleep Apnea for Teens group,       \n",
      " 71 cases of Sleep Apnea for Young Adults group       \n",
      " 33 cases of Sleep Apnea for Middle Age Adults group       \n",
      " and 0 cases of Sleep Apnea for Senior Adults group \n"
     ]
    }
   ],
   "source": [
    "print('For the AA group, there are \\\n",
    "      \\n {} cases of Sleep Apnea for Teens group, \\\n",
    "      \\n {} cases of Sleep Apnea for Young Adults group \\\n",
    "      \\n {} cases of Sleep Apnea for Middle Age Adults group \\\n",
    "      \\n and {} cases of Sleep Apnea for Senior Adults group \\n' \\\n",
    "      .format(aa_teen[1],aa_adult[1],aa_mid_adult[1], aa_snr_adult[0]))\n",
    "print('For the Cauc group, there are \\\n",
    "      \\n {} cases of Sleep Apnea for Teens group, \\\n",
    "      \\n {} cases of Sleep Apnea for Young Adults group \\\n",
    "      \\n {} cases of Sleep Apnea for Middle Age Adults group \\\n",
    "      \\n and {} cases of Sleep Apnea for Senior Adults group ' \\\n",
    "      .format(cc_teen[0],cc_adult[1],cc_mid_adult[1],cc_snr_adult[0]))"
   ]
  },
  {
   "cell_type": "code",
   "execution_count": 58,
   "metadata": {},
   "outputs": [
    {
     "data": {
      "image/png": "[encoded data removed]",
      "text/plain": [
       "<Figure size 432x288 with 1 Axes>"
      ]
     },
     "metadata": {
      "needs_background": "light"
     },
     "output_type": "display_data"
    }
   ],
   "source": [
    "#Let's put these result sets in a dedicated dictionary for further use\n",
    "dict_age = {'aa_<_20': aa_teen[1], 'aa_20-40': aa_adult[1], 'aa_40-60': aa_mid_adult[1],'aa_>_60':aa_snr_adult[0],\n",
    "            'cc_<_20': cc_teen[0], 'cc_20-40': cc_adult[1], 'cc_40-60': cc_mid_adult[1], 'cc_>_60':cc_snr_adult[0]}\n",
    "\n",
    "#Let's display these result sets in a more presentable format using a bar chart\n",
    "fig, ax = plt.subplots()\n",
    "plt.barh(list(dict_age.keys()), dict_age.values(), color=['b','r','y','g'])\n",
    "ax.set_xlabel('No. of Participants')\n",
    "ax.set_ylabel('Race & Age Groups')\n",
    "plt.show()"
   ]
  },
  {
   "cell_type": "markdown",
   "metadata": {},
   "source": [
    "> Based on the above histogram, it is evident that in both the racial groups, the larger number of participants were in the Young Adults Age group. But under the AA racial group, we see a participant who was in his Teens when diagnosed with Sleep Apnea. \n",
    "Based on the above, we could say that race and age do play a major role (if not equal) with Sleep apnea."
   ]
  },
  {
   "cell_type": "code",
   "execution_count": 59,
   "metadata": {},
   "outputs": [
    {
     "data": {
      "text/plain": [
       "<AxesSubplot:xlabel='Race,Socio-Economic Status'>"
      ]
     },
     "execution_count": 59,
     "metadata": {},
     "output_type": "execute_result"
    },
    {
     "data": {
      "image/png": "[encoded data removed]",
      "text/plain": [
       "<Figure size 432x288 with 1 Axes>"
      ]
     },
     "metadata": {
      "needs_background": "light"
     },
     "output_type": "display_data"
    }
   ],
   "source": [
    "#Let's now pick Socio-Economic Status for analysis and try to plot a graph using the existing data\n",
    "df.groupby(by=\"Race\")[\"Socio-Economic Status\"].value_counts().plot.bar(rot=45)"
   ]
  },
  {
   "cell_type": "code",
   "execution_count": 60,
   "metadata": {},
   "outputs": [
    {
     "data": {
      "text/plain": [
       "Race  Socio-Economic Status\n",
       "AA    Low                      65.384615\n",
       "      Middle                   34.615385\n",
       "Cauc  Middle                   65.384615\n",
       "      High                     19.230769\n",
       "      Low                      15.384615\n",
       "Name: Socio-Economic Status, dtype: float64"
      ]
     },
     "execution_count": 60,
     "metadata": {},
     "output_type": "execute_result"
    }
   ],
   "source": [
    "#Percentage of Participants in different Socio Economic Statuses under the racial groups\n",
    "(df.groupby(by=[\"Race\"])[\"Socio-Economic Status\"].value_counts()/104)*100"
   ]
  },
  {
   "cell_type": "markdown",
   "metadata": {},
   "source": [
    "> The above results show that the participants of AA group were only on the first two levels of the Socio Economic status, with the majority in the Low SES group. Whereas the participants of the Cauc group were on all three levels of the SES group, with the majority of them under Middle SES group."
   ]
  },
  {
   "cell_type": "code",
   "execution_count": 61,
   "metadata": {},
   "outputs": [
    {
     "data": {
      "text/plain": [
       "<AxesSubplot:xlabel='Race,Presence of HTR2A Gene'>"
      ]
     },
     "execution_count": 61,
     "metadata": {},
     "output_type": "execute_result"
    },
    {
     "data": {
      "image/png": "[encoded data removed]",
      "text/plain": [
       "<Figure size 432x288 with 1 Axes>"
      ]
     },
     "metadata": {
      "needs_background": "light"
     },
     "output_type": "display_data"
    }
   ],
   "source": [
    "#Let's pick 'The Presence of the HTR2A gene' for analysis and try to plot a graph using the existing data\n",
    "df.groupby(by=\"Race\")[\"Presence of HTR2A Gene\"].value_counts().sort_values().plot.bar(rot=45, color=['r','g'])"
   ]
  },
  {
   "cell_type": "code",
   "execution_count": 62,
   "metadata": {},
   "outputs": [
    {
     "data": {
      "text/plain": [
       "Race  Presence of HTR2A Gene\n",
       "AA    Y                         71.153846\n",
       "      N                         28.846154\n",
       "Cauc  N                         73.076923\n",
       "      Y                         26.923077\n",
       "Name: Presence of HTR2A Gene, dtype: float64"
      ]
     },
     "execution_count": 62,
     "metadata": {},
     "output_type": "execute_result"
    }
   ],
   "source": [
    "#Percentage of Participants under the racial groups having/not having the HTR2A gene\n",
    "(df.groupby(by=\"Race\")[\"Presence of HTR2A Gene\"].value_counts()/104)*100"
   ]
  },
  {
   "cell_type": "markdown",
   "metadata": {},
   "source": [
    "> The above two result sets again show that the participants from the AA group were more likely to have the Presence of HTR2A Gene(OSA Associated - Seratonin receptor encoding Gene) in them. They had a huge contrast in their numbers when compared with their Cauc counterparts in the study. \n",
    "About 71.1% of the AA participants were found with HTR2A gene as compared to 26.9% of the Cauc participants."
   ]
  },
  {
   "cell_type": "code",
   "execution_count": 63,
   "metadata": {},
   "outputs": [
    {
     "data": {
      "text/plain": [
       "<AxesSubplot:xlabel='Race,Hypertension'>"
      ]
     },
     "execution_count": 63,
     "metadata": {},
     "output_type": "execute_result"
    },
    {
     "data": {
      "image/png": "[encoded data removed]",
      "text/plain": [
       "<Figure size 432x288 with 1 Axes>"
      ]
     },
     "metadata": {
      "needs_background": "light"
     },
     "output_type": "display_data"
    }
   ],
   "source": [
    "# Next for analysis Let's pick 'Hypertension' and try to plot a graph using the existing data\n",
    "df.groupby(by=\"Race\")[\"Hypertension\"].value_counts().plot.bar(rot=45, color=['r','g'])"
   ]
  },
  {
   "cell_type": "code",
   "execution_count": 64,
   "metadata": {},
   "outputs": [
    {
     "data": {
      "text/plain": [
       "Race  Hypertension\n",
       "AA    Y               91.346154\n",
       "      N                8.653846\n",
       "Cauc  Y               58.653846\n",
       "      N               41.346154\n",
       "Name: Hypertension, dtype: float64"
      ]
     },
     "execution_count": 64,
     "metadata": {},
     "output_type": "execute_result"
    }
   ],
   "source": [
    "#Percentage of Participants under the racial groups being/not-being Hypertensive\n",
    "(df.groupby(by=\"Race\")[\"Hypertension\"].value_counts()/104)*100"
   ]
  },
  {
   "cell_type": "markdown",
   "metadata": {},
   "source": [
    ">AA participants were also the ones with higher numbers of Hypertensive cases, amongst the two racial groups."
   ]
  },
  {
   "cell_type": "markdown",
   "metadata": {},
   "source": [
    "#### <U>Preventable Factors"
   ]
  },
  {
   "cell_type": "code",
   "execution_count": 65,
   "metadata": {
    "scrolled": false
   },
   "outputs": [
    {
     "data": {
      "text/html": [
       "<div>\n",
       "<style scoped>\n",
       "    .dataframe tbody tr th:only-of-type {\n",
       "        vertical-align: middle;\n",
       "    }\n",
       "\n",
       "    .dataframe tbody tr th {\n",
       "        vertical-align: top;\n",
       "    }\n",
       "\n",
       "    .dataframe thead th {\n",
       "        text-align: right;\n",
       "    }\n",
       "</style>\n",
       "<table border=\"1\" class=\"dataframe\">\n",
       "  <thead>\n",
       "    <tr style=\"text-align: right;\">\n",
       "      <th></th>\n",
       "      <th>Race</th>\n",
       "      <th>BMI</th>\n",
       "      <th>Obesity</th>\n",
       "      <th>Type of Meals</th>\n",
       "      <th>Exercise Dur(Mins/day)</th>\n",
       "      <th>Lifestyle</th>\n",
       "      <th>Education</th>\n",
       "      <th>Phy Hlth Index</th>\n",
       "      <th>Avg CPAP Use(hrs/night)</th>\n",
       "    </tr>\n",
       "  </thead>\n",
       "  <tbody>\n",
       "    <tr>\n",
       "      <th>25</th>\n",
       "      <td>AA</td>\n",
       "      <td>35.4</td>\n",
       "      <td>Y</td>\n",
       "      <td>Fresh</td>\n",
       "      <td>30.0</td>\n",
       "      <td>Active</td>\n",
       "      <td>UG</td>\n",
       "      <td>0.87</td>\n",
       "      <td>4.55</td>\n",
       "    </tr>\n",
       "    <tr>\n",
       "      <th>31</th>\n",
       "      <td>AA</td>\n",
       "      <td>30.4</td>\n",
       "      <td>Y</td>\n",
       "      <td>Packed</td>\n",
       "      <td>25.3</td>\n",
       "      <td>Sedentary</td>\n",
       "      <td>HS</td>\n",
       "      <td>1.42</td>\n",
       "      <td>3.42</td>\n",
       "    </tr>\n",
       "    <tr>\n",
       "      <th>80</th>\n",
       "      <td>AA</td>\n",
       "      <td>34.8</td>\n",
       "      <td>Y</td>\n",
       "      <td>Packed</td>\n",
       "      <td>21.9</td>\n",
       "      <td>Sedentary</td>\n",
       "      <td>HS</td>\n",
       "      <td>1.23</td>\n",
       "      <td>3.40</td>\n",
       "    </tr>\n",
       "    <tr>\n",
       "      <th>73</th>\n",
       "      <td>AA</td>\n",
       "      <td>28.4</td>\n",
       "      <td>N</td>\n",
       "      <td>Packed</td>\n",
       "      <td>21.7</td>\n",
       "      <td>Sedentary</td>\n",
       "      <td>HS</td>\n",
       "      <td>0.99</td>\n",
       "      <td>3.26</td>\n",
       "    </tr>\n",
       "    <tr>\n",
       "      <th>61</th>\n",
       "      <td>AA</td>\n",
       "      <td>32.4</td>\n",
       "      <td>Y</td>\n",
       "      <td>Packed</td>\n",
       "      <td>15.2</td>\n",
       "      <td>Sedentary</td>\n",
       "      <td>UG</td>\n",
       "      <td>1.05</td>\n",
       "      <td>3.54</td>\n",
       "    </tr>\n",
       "    <tr>\n",
       "      <th>...</th>\n",
       "      <td>...</td>\n",
       "      <td>...</td>\n",
       "      <td>...</td>\n",
       "      <td>...</td>\n",
       "      <td>...</td>\n",
       "      <td>...</td>\n",
       "      <td>...</td>\n",
       "      <td>...</td>\n",
       "      <td>...</td>\n",
       "    </tr>\n",
       "    <tr>\n",
       "      <th>148</th>\n",
       "      <td>Cauc</td>\n",
       "      <td>25.4</td>\n",
       "      <td>N</td>\n",
       "      <td>Packed</td>\n",
       "      <td>19.0</td>\n",
       "      <td>Sedentary</td>\n",
       "      <td>UG</td>\n",
       "      <td>1.26</td>\n",
       "      <td>6.03</td>\n",
       "    </tr>\n",
       "    <tr>\n",
       "      <th>183</th>\n",
       "      <td>Cauc</td>\n",
       "      <td>26.0</td>\n",
       "      <td>N</td>\n",
       "      <td>Packed</td>\n",
       "      <td>15.6</td>\n",
       "      <td>Sedentary</td>\n",
       "      <td>UG</td>\n",
       "      <td>1.31</td>\n",
       "      <td>5.69</td>\n",
       "    </tr>\n",
       "    <tr>\n",
       "      <th>130</th>\n",
       "      <td>Cauc</td>\n",
       "      <td>29.0</td>\n",
       "      <td>N</td>\n",
       "      <td>Fresh</td>\n",
       "      <td>44.0</td>\n",
       "      <td>Active</td>\n",
       "      <td>PG</td>\n",
       "      <td>1.36</td>\n",
       "      <td>5.84</td>\n",
       "    </tr>\n",
       "    <tr>\n",
       "      <th>132</th>\n",
       "      <td>Cauc</td>\n",
       "      <td>31.7</td>\n",
       "      <td>Y</td>\n",
       "      <td>Fresh</td>\n",
       "      <td>45.0</td>\n",
       "      <td>Active</td>\n",
       "      <td>UG</td>\n",
       "      <td>2.47</td>\n",
       "      <td>6.08</td>\n",
       "    </tr>\n",
       "    <tr>\n",
       "      <th>188</th>\n",
       "      <td>Cauc</td>\n",
       "      <td>23.0</td>\n",
       "      <td>N</td>\n",
       "      <td>Packed</td>\n",
       "      <td>25.0</td>\n",
       "      <td>Sedentary</td>\n",
       "      <td>HS</td>\n",
       "      <td>1.61</td>\n",
       "      <td>5.72</td>\n",
       "    </tr>\n",
       "  </tbody>\n",
       "</table>\n",
       "<p>208 rows × 9 columns</p>\n",
       "</div>"
      ],
      "text/plain": [
       "     Race   BMI Obesity Type of Meals  Exercise Dur(Mins/day)  Lifestyle  \\\n",
       "25     AA  35.4       Y         Fresh                    30.0     Active   \n",
       "31     AA  30.4       Y        Packed                    25.3  Sedentary   \n",
       "80     AA  34.8       Y        Packed                    21.9  Sedentary   \n",
       "73     AA  28.4       N        Packed                    21.7  Sedentary   \n",
       "61     AA  32.4       Y        Packed                    15.2  Sedentary   \n",
       "..    ...   ...     ...           ...                     ...        ...   \n",
       "148  Cauc  25.4       N        Packed                    19.0  Sedentary   \n",
       "183  Cauc  26.0       N        Packed                    15.6  Sedentary   \n",
       "130  Cauc  29.0       N         Fresh                    44.0     Active   \n",
       "132  Cauc  31.7       Y         Fresh                    45.0     Active   \n",
       "188  Cauc  23.0       N        Packed                    25.0  Sedentary   \n",
       "\n",
       "    Education  Phy Hlth Index  Avg CPAP Use(hrs/night)  \n",
       "25         UG            0.87                     4.55  \n",
       "31         HS            1.42                     3.42  \n",
       "80         HS            1.23                     3.40  \n",
       "73         HS            0.99                     3.26  \n",
       "61         UG            1.05                     3.54  \n",
       "..        ...             ...                      ...  \n",
       "148        UG            1.26                     6.03  \n",
       "183        UG            1.31                     5.69  \n",
       "130        PG            1.36                     5.84  \n",
       "132        UG            2.47                     6.08  \n",
       "188        HS            1.61                     5.72  \n",
       "\n",
       "[208 rows x 9 columns]"
      ]
     },
     "execution_count": 65,
     "metadata": {},
     "output_type": "execute_result"
    }
   ],
   "source": [
    "#Lets pick the columns with values for the Preventable factors for each Race Category\n",
    "df[[\"Race\",\"BMI\",\"Obesity\",\"Type of Meals\",\"Exercise Dur(Mins/day)\",\"Lifestyle\",\"Education\",\n",
    "    \"Phy Hlth Index\",\"Avg CPAP Use(hrs/night)\"]]"
   ]
  },
  {
   "cell_type": "markdown",
   "metadata": {},
   "source": [
    " Let's first find the max and min values of BMIs in both the racial groups, to see what all BMI categories do they fall under."
   ]
  },
  {
   "cell_type": "code",
   "execution_count": 66,
   "metadata": {},
   "outputs": [
    {
     "data": {
      "text/plain": [
       "Race\n",
       "AA      40.6\n",
       "Cauc    39.0\n",
       "Name: BMI, dtype: float64"
      ]
     },
     "execution_count": 66,
     "metadata": {},
     "output_type": "execute_result"
    }
   ],
   "source": [
    "df.groupby(by=\"Race\")[\"BMI\"].max()"
   ]
  },
  {
   "cell_type": "code",
   "execution_count": 67,
   "metadata": {},
   "outputs": [
    {
     "data": {
      "text/plain": [
       "Race\n",
       "AA      21.0\n",
       "Cauc    22.5\n",
       "Name: BMI, dtype: float64"
      ]
     },
     "execution_count": 67,
     "metadata": {},
     "output_type": "execute_result"
    }
   ],
   "source": [
    "df.groupby(by=\"Race\")[\"BMI\"].min()"
   ]
  },
  {
   "cell_type": "code",
   "execution_count": 68,
   "metadata": {
    "scrolled": true
   },
   "outputs": [],
   "source": [
    "# Now lets get the counts from both the Race groups for Normal(19-24), Over(25-29), Obese(30-39), \n",
    "# Extremely-Obese(>=40) BMI categories and put them in distinct lists for printing\n",
    "\n",
    "cc_normal=((df[\"Race\"]=='Cauc')&(df[\"BMI\"]<25)&(df[\"BMI\"]>=19)).value_counts().to_list()\n",
    "cc_over=((df[\"Race\"]=='Cauc')&(df[\"BMI\"]<30)&(df[\"BMI\"]>=25)).value_counts().to_list()\n",
    "cc_obese=((df[\"Race\"]=='Cauc')&(df[\"BMI\"]<40)&(df[\"BMI\"]>=30)).value_counts().to_list()\n",
    "cc_ex_obese=(((df[\"Race\"]=='Cauc')&(df[\"BMI\"]>=40)).value_counts()-208).to_list()\n",
    "\n",
    "aa_normal=(((df[\"Race\"]=='AA')&(df[\"BMI\"]<25)&(df[\"BMI\"]>=19)).value_counts()).to_list()\n",
    "aa_over=((df[\"Race\"]=='AA')&(df[\"BMI\"]<30)&(df[\"BMI\"]>=25)).value_counts().to_list()\n",
    "aa_obese=((df[\"Race\"]=='AA')&(df[\"BMI\"]<40)&(df[\"BMI\"]>=30)).value_counts().to_list()\n",
    "aa_ex_obese=((df[\"Race\"]=='AA')&(df[\"BMI\"]>=40)).value_counts().to_list()"
   ]
  },
  {
   "cell_type": "code",
   "execution_count": 69,
   "metadata": {
    "scrolled": true
   },
   "outputs": [
    {
     "name": "stdout",
     "output_type": "stream",
     "text": [
      "For the AA group, there are       \n",
      " 8 cases of Sleep Apnea with Normal BMI,       \n",
      " 33 cases of Sleep Apnea with Overweight BMI       \n",
      " 62 cases of Sleep Apnea with Obese BMI       \n",
      " and 1 cases of Sleep Apnea with Extremely Obese BMI \n",
      "\n",
      "For the Cauc group, there are       \n",
      " 5 cases of Sleep Apnea with Normal BMI,       \n",
      " 41 cases of Sleep Apnea with Overweight BMI       \n",
      " 58 cases of Sleep Apnea with Obese BMI       \n",
      " and 0 cases of Sleep Apnea with Extremely Obese BMI \n"
     ]
    }
   ],
   "source": [
    "print('For the AA group, there are \\\n",
    "      \\n {} cases of Sleep Apnea with Normal BMI, \\\n",
    "      \\n {} cases of Sleep Apnea with Overweight BMI \\\n",
    "      \\n {} cases of Sleep Apnea with Obese BMI \\\n",
    "      \\n and {} cases of Sleep Apnea with Extremely Obese BMI \\n' \\\n",
    "      .format(aa_normal[1],aa_over[1],aa_obese[1],aa_ex_obese[1]))\n",
    "print('For the Cauc group, there are \\\n",
    "      \\n {} cases of Sleep Apnea with Normal BMI, \\\n",
    "      \\n {} cases of Sleep Apnea with Overweight BMI \\\n",
    "      \\n {} cases of Sleep Apnea with Obese BMI \\\n",
    "      \\n and {} cases of Sleep Apnea with Extremely Obese BMI ' \\\n",
    "      .format(cc_normal[1],cc_over[1],cc_obese[1],cc_ex_obese[0]))"
   ]
  },
  {
   "cell_type": "code",
   "execution_count": 70,
   "metadata": {
    "scrolled": true
   },
   "outputs": [
    {
     "data": {
      "image/png": "[encoded data removed]",
      "text/plain": [
       "<Figure size 432x288 with 1 Axes>"
      ]
     },
     "metadata": {
      "needs_background": "light"
     },
     "output_type": "display_data"
    }
   ],
   "source": [
    "#Let's put these result sets in a dedicated dictionary for further use\n",
    "dict_bmi = {'aa_normal': aa_normal[1], 'aa_overweight': aa_over[1], \n",
    "            'aa_obese': aa_obese[1], 'aa_ex_obese': aa_ex_obese[1],\n",
    "            'cc_normal': cc_normal[1], 'cc_overweight': cc_over[1],\n",
    "            'cc_obese': cc_obese[1], 'cc_ex_obese': cc_ex_obese[0]}\n",
    "\n",
    "# Now Let's display these result sets in a more presentable format using a bar chart\n",
    "fig, ax = plt.subplots()\n",
    "plt.barh(list(dict_bmi.keys()), dict_bmi.values(), color=['g','b','y','r'])\n",
    "ax.set_xlabel('No. of Participants')\n",
    "ax.set_ylabel('Race & BMI Groups ')\n",
    "plt.show()"
   ]
  },
  {
   "cell_type": "markdown",
   "metadata": {},
   "source": [
    "> Based on the above histogram plot, one could say that the larger number of participants from the Caucasian group have highe BMIS than their AA counterparts. \n",
    "\n",
    "> But on comparing the actual numbers, we see that about 60% of the AA participants fall under the Obese and Morbidly Obese groups; where as only 55% of the Cauc participants fall under Obese group. This is clearly confirmed in the next two code cells, where we are analyzing the Obesity column for each racial group."
   ]
  },
  {
   "cell_type": "code",
   "execution_count": 71,
   "metadata": {},
   "outputs": [
    {
     "data": {
      "text/plain": [
       "Race  Obesity\n",
       "AA    Y          59.615385\n",
       "      N          40.384615\n",
       "Cauc  Y          55.769231\n",
       "      N          44.230769\n",
       "Name: Obesity, dtype: float64"
      ]
     },
     "execution_count": 71,
     "metadata": {},
     "output_type": "execute_result"
    }
   ],
   "source": [
    "# Percentage of Participants under the racial groups having/not-having obesity as a condition\n",
    "(df.groupby(by=\"Race\")[\"Obesity\"].value_counts()/104)*100"
   ]
  },
  {
   "cell_type": "code",
   "execution_count": 72,
   "metadata": {
    "scrolled": true
   },
   "outputs": [
    {
     "data": {
      "text/plain": [
       "<AxesSubplot:xlabel='Race,Obesity'>"
      ]
     },
     "execution_count": 72,
     "metadata": {},
     "output_type": "execute_result"
    },
    {
     "data": {
      "image/png": "[encoded data removed]",
      "text/plain": [
       "<Figure size 432x288 with 1 Axes>"
      ]
     },
     "metadata": {
      "needs_background": "light"
     },
     "output_type": "display_data"
    }
   ],
   "source": [
    "# Let's pick 'Obesity' and picture the above results by plotting a graph using the existing data\n",
    "df.groupby(by=\"Race\")[\"Obesity\"].value_counts().plot.bar(rot=45)"
   ]
  },
  {
   "cell_type": "code",
   "execution_count": 73,
   "metadata": {},
   "outputs": [
    {
     "data": {
      "text/plain": [
       "Race  Type of Meals\n",
       "AA    Packed           71.153846\n",
       "      Fresh            28.846154\n",
       "Cauc  Fresh            53.846154\n",
       "      Packed           46.153846\n",
       "Name: Type of Meals, dtype: float64"
      ]
     },
     "execution_count": 73,
     "metadata": {},
     "output_type": "execute_result"
    }
   ],
   "source": [
    "# Percentage of Participants under the racial groups with different Types of Meal choices\n",
    "(df.groupby(by=[\"Race\"])[\"Type of Meals\"].value_counts()/104)*100"
   ]
  },
  {
   "cell_type": "code",
   "execution_count": 74,
   "metadata": {
    "scrolled": true
   },
   "outputs": [
    {
     "data": {
      "text/plain": [
       "<AxesSubplot:xlabel='Race,Type of Meals'>"
      ]
     },
     "execution_count": 74,
     "metadata": {},
     "output_type": "execute_result"
    },
    {
     "data": {
      "image/png": "[encoded data removed]",
      "text/plain": [
       "<Figure size 432x288 with 1 Axes>"
      ]
     },
     "metadata": {
      "needs_background": "light"
     },
     "output_type": "display_data"
    }
   ],
   "source": [
    "# Let's pick 'Type Of Meals' and see the above numbers by plotting a graph using the existing data\n",
    "df.groupby(by=[\"Race\"])[\"Type of Meals\"].value_counts().sort_values().plot.bar(rot=45, color=['g','r'])"
   ]
  },
  {
   "cell_type": "markdown",
   "metadata": {},
   "source": [
    "> With above calculations and graphical representation, we could see that about 71% of the AA participants ate packed meals, whereas more than 50% of the Cauc participants had Fresh meals by choice."
   ]
  },
  {
   "cell_type": "code",
   "execution_count": 75,
   "metadata": {},
   "outputs": [
    {
     "data": {
      "text/plain": [
       "Race\n",
       "AA      27.921538\n",
       "Cauc    36.644231\n",
       "Name: Exercise Dur(Mins/day), dtype: float64"
      ]
     },
     "execution_count": 75,
     "metadata": {},
     "output_type": "execute_result"
    }
   ],
   "source": [
    "# Average Exercise Durations in Mins/Day of Participants under the racial groups\n",
    "df.groupby(by=[\"Race\"])[\"Exercise Dur(Mins/day)\"].sum()/104"
   ]
  },
  {
   "cell_type": "code",
   "execution_count": 76,
   "metadata": {},
   "outputs": [
    {
     "data": {
      "text/plain": [
       "Race  Lifestyle\n",
       "AA    Sedentary    63.461538\n",
       "      Active       36.538462\n",
       "Cauc  Active       57.692308\n",
       "      Sedentary    42.307692\n",
       "Name: Lifestyle, dtype: float64"
      ]
     },
     "execution_count": 76,
     "metadata": {},
     "output_type": "execute_result"
    }
   ],
   "source": [
    "# Percentage of Participants under the racial groups with different Lifestyle choices\n",
    "(df.groupby(by=\"Race\")[\"Lifestyle\"].value_counts()/104)*100"
   ]
  },
  {
   "cell_type": "code",
   "execution_count": 77,
   "metadata": {},
   "outputs": [
    {
     "data": {
      "text/plain": [
       "<AxesSubplot:xlabel='Race,Lifestyle'>"
      ]
     },
     "execution_count": 77,
     "metadata": {},
     "output_type": "execute_result"
    },
    {
     "data": {
      "image/png": "[encoded data removed]",
      "text/plain": [
       "<Figure size 432x288 with 1 Axes>"
      ]
     },
     "metadata": {
      "needs_background": "light"
     },
     "output_type": "display_data"
    }
   ],
   "source": [
    "# Let's pick 'Lifestyle' and see the above numbers by plotting a graph using the existing data\n",
    "df.groupby(by=\"Race\")[\"Lifestyle\"].value_counts().sort_values().plot.bar(rot=45, color=['g','r'])"
   ]
  },
  {
   "cell_type": "markdown",
   "metadata": {},
   "source": [
    "> Based on the above analysis, we could see that more partipants of Caucasian decent spent more amount of time exercising/day on an average as compared to AA participants. Also the partipants from Cauc group had a more active lifestyle than their AA counterparts. About more than 57% of the Cauc participants had Active lifestyle, whereas only 36.5% of the AA participants followed the same."
   ]
  },
  {
   "cell_type": "code",
   "execution_count": 78,
   "metadata": {
    "scrolled": true
   },
   "outputs": [
    {
     "data": {
      "text/plain": [
       "Race\n",
       "AA      1.553861\n",
       "Cauc    2.030500\n",
       "Name: Phy Hlth Index, dtype: float64"
      ]
     },
     "execution_count": 78,
     "metadata": {},
     "output_type": "execute_result"
    }
   ],
   "source": [
    "# Average Physical Health Index of Participants under the racial groups\n",
    "df.groupby(by=[\"Race\"])[\"Phy Hlth Index\"].sum()/104"
   ]
  },
  {
   "cell_type": "markdown",
   "metadata": {},
   "source": [
    "> Again based on the previous analysis of type of meals, lifestyles, exercise duration/day: it was quite obvious that the average Physical health index of the AA participants would be lower than that of their Cauc counterparts. This is proven by numbers in the above code cell."
   ]
  },
  {
   "cell_type": "code",
   "execution_count": 79,
   "metadata": {},
   "outputs": [
    {
     "data": {
      "text/plain": [
       "Race  Education\n",
       "AA    HS           64\n",
       "      UG           40\n",
       "Cauc  UG           44\n",
       "      HS           40\n",
       "      PG           20\n",
       "Name: Education, dtype: int64"
      ]
     },
     "execution_count": 79,
     "metadata": {},
     "output_type": "execute_result"
    }
   ],
   "source": [
    "# Number of Participants under the racial groups in the three Education class groups\n",
    "df.groupby(by=\"Race\")[\"Education\"].value_counts()"
   ]
  },
  {
   "cell_type": "code",
   "execution_count": 80,
   "metadata": {
    "scrolled": false
   },
   "outputs": [
    {
     "data": {
      "text/plain": [
       "<AxesSubplot:xlabel='Race,Education'>"
      ]
     },
     "execution_count": 80,
     "metadata": {},
     "output_type": "execute_result"
    },
    {
     "data": {
      "image/png": "[encoded data removed]",
      "text/plain": [
       "<Figure size 432x288 with 1 Axes>"
      ]
     },
     "metadata": {
      "needs_background": "light"
     },
     "output_type": "display_data"
    }
   ],
   "source": [
    "# Let's pick 'Education' and see the above numbers by plotting a graph using the existing data\n",
    "df.groupby(by=\"Race\")[\"Education\"].value_counts().plot.bar(rot=45)"
   ]
  },
  {
   "cell_type": "markdown",
   "metadata": {},
   "source": [
    "Education in my opinion is something that could be treated both ways as Preventable Factor and/or Non-Preventable Factor. So, I would leave it to you to decide.\n",
    "\n",
    "But clearly we can see the higher number of AA participants have High School as their highest form of education, whereas the Cauc particpants were majorly Under Graduates and nearly about 20% were Post Graduates as well. "
   ]
  },
  {
   "cell_type": "markdown",
   "metadata": {},
   "source": [
    "#### Question 3:  Is sleep apnea manageable? Do any racial disparities exist for sleep apnea treatment and outcomes?"
   ]
  },
  {
   "cell_type": "markdown",
   "metadata": {},
   "source": [
    "> To answer this question we need to analyze the dataset for the Quality of Sleep, participants from both the Race had, again what was their Avg use of CPAP device, and how well they were able to reduce the most common symptoms of Sleep Apnea."
   ]
  },
  {
   "cell_type": "code",
   "execution_count": 81,
   "metadata": {
    "scrolled": false
   },
   "outputs": [
    {
     "data": {
      "text/plain": [
       "Race\n",
       "AA      4.130481\n",
       "Cauc    5.729423\n",
       "Name: Avg CPAP Use(hrs/night), dtype: float64"
      ]
     },
     "execution_count": 81,
     "metadata": {},
     "output_type": "execute_result"
    }
   ],
   "source": [
    "# Let's check the average of number of hours of CPAP Use(hrs/night) for both racial groups\n",
    "df.groupby(by=\"Race\")[\"Avg CPAP Use(hrs/night)\"].sum()/104"
   ]
  },
  {
   "cell_type": "code",
   "execution_count": 82,
   "metadata": {
    "scrolled": false
   },
   "outputs": [
    {
     "data": {
      "text/plain": [
       "Race\n",
       "AA      0.781250\n",
       "Cauc    0.878462\n",
       "Name: Percent NREM Sleep, dtype: float64"
      ]
     },
     "execution_count": 82,
     "metadata": {},
     "output_type": "execute_result"
    }
   ],
   "source": [
    "# Similarly Let's check the average of quality of sleep the participants had in both racial groups\"Percent NREM Sleep\"\n",
    "df.groupby(by=\"Race\")[\"Percent NREM Sleep\"].sum()/104"
   ]
  },
  {
   "cell_type": "markdown",
   "metadata": {},
   "source": [
    "> The Above two sets of results show that among the two Race groups participants, Caucasians had better quality sleep than the participants of AA group. Which upon comparing their number of hours/night use of CPAP device, show that Cauc group participants had higher values than the AA group. This could help us clearly predict the fact that OSA could be cured/controlled by longer use of CPAP device.\n",
    "\n",
    "> Now lets check the reviews for the changes/reductions in different symptoms of the Sleep Apnea in both racial groups."
   ]
  },
  {
   "cell_type": "code",
   "execution_count": 83,
   "metadata": {},
   "outputs": [
    {
     "data": {
      "text/plain": [
       "<AxesSubplot:xlabel='Race,Reduced Snoring-Post 12wks CPAP Use'>"
      ]
     },
     "execution_count": 83,
     "metadata": {},
     "output_type": "execute_result"
    },
    {
     "data": {
      "image/png": "[encoded data removed]",
      "text/plain": [
       "<Figure size 432x288 with 1 Axes>"
      ]
     },
     "metadata": {
      "needs_background": "light"
     },
     "output_type": "display_data"
    }
   ],
   "source": [
    "df.groupby(by=\"Race\")[\"Reduced Snoring-Post 12wks CPAP Use\"].value_counts().plot.bar(rot=45)"
   ]
  },
  {
   "cell_type": "code",
   "execution_count": 84,
   "metadata": {},
   "outputs": [
    {
     "data": {
      "text/plain": [
       "<AxesSubplot:xlabel='Race,Reduced Tiredness-Post 12wks CPAP Use'>"
      ]
     },
     "execution_count": 84,
     "metadata": {},
     "output_type": "execute_result"
    },
    {
     "data": {
      "image/png": "[encoded data removed]",
      "text/plain": [
       "<Figure size 432x288 with 1 Axes>"
      ]
     },
     "metadata": {
      "needs_background": "light"
     },
     "output_type": "display_data"
    }
   ],
   "source": [
    "df.groupby(by=\"Race\")[\"Reduced Tiredness-Post 12wks CPAP Use\"].value_counts().plot.bar(rot=45)"
   ]
  },
  {
   "cell_type": "code",
   "execution_count": 85,
   "metadata": {},
   "outputs": [
    {
     "data": {
      "text/plain": [
       "<AxesSubplot:xlabel='Race,Reduced Daytime Sleepiness-Post 12wks CPAP Use'>"
      ]
     },
     "execution_count": 85,
     "metadata": {},
     "output_type": "execute_result"
    },
    {
     "data": {
      "image/png": "[encoded data removed]",
      "text/plain": [
       "<Figure size 432x288 with 1 Axes>"
      ]
     },
     "metadata": {
      "needs_background": "light"
     },
     "output_type": "display_data"
    }
   ],
   "source": [
    "df.groupby(by=\"Race\")[\"Reduced Daytime Sleepiness-Post 12wks CPAP Use\"].value_counts().plot.bar(rot=45)"
   ]
  },
  {
   "cell_type": "markdown",
   "metadata": {},
   "source": [
    "> Finally the Above sets of Histograms show that among the two Race groups participants, Caucasians had better responses than the participants of AA group, for all the syptoms of Sleep Apnea. Which again can be directly related to the number of hours/night use of CPAP device among the two groups. The histograms clearly show that Cauc group participants had higher values than the AA group, since their reponses on the Likert Scale were always higher for feeling better Post 12 weeks CPAP use review. This could help us clearly answer the question, that OSA could be cured or at the least controlled by longer use of CPAP device."
   ]
  },
  {
   "cell_type": "code",
   "execution_count": 86,
   "metadata": {
    "scrolled": true
   },
   "outputs": [],
   "source": [
    "#Now lets get the counts from both the Race groups for Mild, Medium, Severe Sleep Apnea Cases\n",
    "#and put them in distinct lists for printing for both Pre and Post 12 weeks CPAP Use\n",
    "\n",
    "cc_mild=((df[\"Race\"]=='Cauc')&(df[\"AHI\"]<15)&(df[\"AHI\"]>5)).value_counts().to_list()\n",
    "cc_med=((df[\"Race\"]=='Cauc')&(df[\"AHI\"]<=30)&(df[\"AHI\"]>15)).value_counts().to_list()\n",
    "cc_severe=((df[\"Race\"]=='Cauc')&(df[\"AHI\"]>30)).value_counts().to_list()\n",
    "\n",
    "aa_mild=(((df[\"Race\"]=='AA')&(df[\"AHI\"]<15)&(df[\"AHI\"]>5)).value_counts()-208).to_list()\n",
    "aa_med=((df[\"Race\"]=='AA')&(df[\"AHI\"]<=30)&(df[\"AHI\"]>15)).value_counts().to_list()\n",
    "aa_severe=((df[\"Race\"]=='AA')&(df[\"AHI\"]>30)).value_counts().to_list()\n",
    "\n",
    "cc_mild_post=((df[\"Race\"]=='Cauc')&(df[\"AHI-Post 12wks CPAP Use\"]<15)&(df[\"AHI-Post 12wks CPAP Use\"]>5)\n",
    "             ).value_counts().to_list()\n",
    "cc_med_post=((df[\"Race\"]=='Cauc')&(df[\"AHI-Post 12wks CPAP Use\"]<=30)&(df[\"AHI-Post 12wks CPAP Use\"]>15)\n",
    "            ).value_counts().to_list()\n",
    "cc_severe_post=((df[\"Race\"]=='Cauc')&(df[\"AHI-Post 12wks CPAP Use\"]>30)).value_counts().to_list()\n",
    "\n",
    "aa_mild_post=(((df[\"Race\"]=='AA')&(df[\"AHI-Post 12wks CPAP Use\"]<15)&(df[\"AHI-Post 12wks CPAP Use\"]>5)\n",
    "              ).value_counts()-208).to_list()\n",
    "aa_med_post=((df[\"Race\"]=='AA')&(df[\"AHI-Post 12wks CPAP Use\"]<=30)&(df[\"AHI-Post 12wks CPAP Use\"]>15)\n",
    "            ).value_counts().to_list()\n",
    "aa_severe_post=((df[\"Race\"]=='AA')&(df[\"AHI-Post 12wks CPAP Use\"]>30)).value_counts().to_list()"
   ]
  },
  {
   "cell_type": "code",
   "execution_count": 87,
   "metadata": {},
   "outputs": [
    {
     "name": "stdout",
     "output_type": "stream",
     "text": [
      "Before 12 week CPAP use, For the AA group, there are       \n",
      " 0 cases of Mild Sleep Apnea,       \n",
      " 2 cases of Medium Sleep Apnea       \n",
      " and 102 cases of Severe Sleep Apnea \n",
      "\n",
      "Before 12 week CPAP use, For the Cauc group, there are       \n",
      " 1 cases of Mild Sleep Apnea,       \n",
      " 43 cases of Medium Sleep Apnea       \n",
      " and 60 cases of Severe Sleep Apnea \n",
      "Post 12 week CPAP use, For the AA group, there are       \n",
      " 0 cases of Mild Sleep Apnea,       \n",
      " 5 cases of Medium Sleep Apnea       \n",
      " and 99 cases of Severe Sleep Apnea \n",
      "\n",
      "Post 12 week CPAP use, For the Cauc group, there are       \n",
      " 20 cases of Mild Sleep Apnea,       \n",
      " 58 cases of Medium Sleep Apnea       \n",
      " and 25 cases of Severe Sleep Apnea \n"
     ]
    }
   ],
   "source": [
    "print('Before 12 week CPAP use, For the AA group, there are \\\n",
    "      \\n {} cases of Mild Sleep Apnea, \\\n",
    "      \\n {} cases of Medium Sleep Apnea \\\n",
    "      \\n and {} cases of Severe Sleep Apnea \\n'.format(aa_mild[0],aa_med[1],aa_severe[1]))\n",
    "print('Before 12 week CPAP use, For the Cauc group, there are \\\n",
    "      \\n {} cases of Mild Sleep Apnea, \\\n",
    "      \\n {} cases of Medium Sleep Apnea \\\n",
    "      \\n and {} cases of Severe Sleep Apnea '.format(cc_mild[1],cc_med[1],cc_severe[1]))\n",
    "print('Post 12 week CPAP use, For the AA group, there are \\\n",
    "      \\n {} cases of Mild Sleep Apnea, \\\n",
    "      \\n {} cases of Medium Sleep Apnea \\\n",
    "      \\n and {} cases of Severe Sleep Apnea \\n'.format(aa_mild_post[0],aa_med_post[1],aa_severe_post[1]))\n",
    "print('Post 12 week CPAP use, For the Cauc group, there are \\\n",
    "      \\n {} cases of Mild Sleep Apnea, \\\n",
    "      \\n {} cases of Medium Sleep Apnea \\\n",
    "      \\n and {} cases of Severe Sleep Apnea '.format(cc_mild_post[1],cc_med_post[1],cc_severe_post[1]))"
   ]
  },
  {
   "cell_type": "code",
   "execution_count": 88,
   "metadata": {
    "scrolled": true
   },
   "outputs": [
    {
     "data": {
      "image/png": "[encoded data removed]",
      "text/plain": [
       "<Figure size 432x288 with 1 Axes>"
      ]
     },
     "metadata": {
      "needs_background": "light"
     },
     "output_type": "display_data"
    }
   ],
   "source": [
    "# Let's try to plot the above findings into a bar graph to see \n",
    "# how much of the difference in AHI did the CPAP use make for each type of racial groups\n",
    "\n",
    "labels = ['CC_Mild', 'CC_Med', 'CC_Sev', 'AA_Mild', 'AA_Med', 'AA_Sev']\n",
    "pre_ahi = [cc_mild[1], cc_med[1],cc_severe[1], aa_mild[0],aa_med[1],aa_severe[1]]\n",
    "post_ahi = [cc_mild_post[1],cc_med_post[1],cc_severe_post[1], aa_mild_post[0],aa_med_post[1],aa_severe_post[1]]\n",
    "\n",
    "x = np.arange(len(labels))  # the label locations\n",
    "width = 0.35  # the width of the bars\n",
    "\n",
    "fig, ax = plt.subplots()\n",
    "rects1 = ax.bar(x - width/2, pre_ahi, width, label='AHI-Pre CPAP')\n",
    "rects2 = ax.bar(x + width/2, post_ahi, width, label='AHI-Post CPAP')\n",
    "\n",
    "# Add some text for labels, title and custom x-axis tick labels, etc.\n",
    "ax.set_ylabel('AHI')\n",
    "ax.set_title('AHI Pre Post CPAP Use')\n",
    "ax.set_xticks(x, labels)\n",
    "ax.legend()\n",
    "\n",
    "ax.bar_label(rects1, padding=3)\n",
    "ax.bar_label(rects2, padding=3)\n",
    "\n",
    "fig.tight_layout()\n",
    "\n",
    "plt.show()"
   ]
  },
  {
   "cell_type": "code",
   "execution_count": 89,
   "metadata": {},
   "outputs": [],
   "source": [
    "#Let's Calculate the Average AHI for both the racial groups for Pre and Post CPAP use.\n",
    "\n",
    "pre_ahi=(df.groupby(by=\"Race\")[\"AHI\"].sum()/104).to_list()\n",
    "post_ahi=(df.groupby(by=\"Race\")[\"AHI-Post 12wks CPAP Use\"].sum()/104).to_list()"
   ]
  },
  {
   "cell_type": "code",
   "execution_count": 90,
   "metadata": {},
   "outputs": [
    {
     "data": {
      "text/plain": [
       "[53.026923076923076, 33.57692307692308]"
      ]
     },
     "execution_count": 90,
     "metadata": {},
     "output_type": "execute_result"
    }
   ],
   "source": [
    "pre_ahi"
   ]
  },
  {
   "cell_type": "code",
   "execution_count": 91,
   "metadata": {},
   "outputs": [
    {
     "data": {
      "image/png": "[encoded data removed]",
      "text/plain": [
       "<Figure size 432x288 with 1 Axes>"
      ]
     },
     "metadata": {
      "needs_background": "light"
     },
     "output_type": "display_data"
    },
    {
     "data": {
      "text/plain": [
       "<AxesSubplot:xlabel='Race'>"
      ]
     },
     "execution_count": 91,
     "metadata": {},
     "output_type": "execute_result"
    },
    {
     "data": {
      "image/png": "[encoded data removed]",
      "text/plain": [
       "<Figure size 432x288 with 1 Axes>"
      ]
     },
     "metadata": {
      "needs_background": "light"
     },
     "output_type": "display_data"
    }
   ],
   "source": [
    "# Let's try to plot the above findings into a bar graph to see \n",
    "# the difference in the Average AHI did the CPAP use make for each type of racial groups\n",
    "\n",
    "labels = ['African-American', 'Caucasian']\n",
    "pre_ahi = [pre_ahi[0], pre_ahi[1]]\n",
    "post_ahi = [post_ahi[0],post_ahi[1]]\n",
    "\n",
    "x = np.arange(len(labels))  # the label locations\n",
    "width = 0.35  # the width of the bars\n",
    "\n",
    "fig, ax = plt.subplots()\n",
    "rects1 = ax.bar(x - width/2, pre_ahi, width, label='AHI-Pre CPAP')\n",
    "rects2 = ax.bar(x + width/2, post_ahi, width, label='AHI-Post CPAP')\n",
    "\n",
    "# Lets set the X label and Y label and add the legend and try to put as much details as we can.\n",
    "ax.set_ylabel('Avg. AHI')\n",
    "ax.set_title('AHI Pre Post CPAP Use')\n",
    "ax.set_xticks(x, labels)\n",
    "ax.legend()\n",
    "\n",
    "ax.bar_label(rects1, padding=3)\n",
    "ax.bar_label(rects2, padding=3)\n",
    "\n",
    "fig.tight_layout()\n",
    "plt.show()\n",
    "\n",
    "#And just to show the difference in the Average CPAP use between the two racial groups\n",
    "(df.groupby(by=\"Race\")[\"Avg CPAP Use(hrs/night)\"].sum()/100).plot.bar(rot=45, color='g')"
   ]
  },
  {
   "cell_type": "markdown",
   "metadata": {},
   "source": [
    "> As a final visualization for the entire data set comparisons for the Pre and Post 12 weeks AHI values, we can see that for sure there is some reduction in the AHI values post proper and regular use of CPAP devices."
   ]
  }
 ],
 "metadata": {
  "interpreter": {
   "hash": "26de051ba29f2982a8de78e945f0abaf191376122a1563185a90213a26c5da77"
  },
  "kernelspec": {
   "display_name": "Python 3 (ipykernel)",
   "language": "python",
   "name": "python3"
  },
  "language_info": {
   "codemirror_mode": {
    "name": "ipython",
    "version": 3
   },
   "file_extension": ".py",
   "mimetype": "text/x-python",
   "name": "python",
   "nbconvert_exporter": "python",
   "pygments_lexer": "ipython3",
   "version": "3.10.5"
  }
 },
 "nbformat": 4,
 "nbformat_minor": 2
}
