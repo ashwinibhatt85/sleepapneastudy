{
 "cells": [
  {
   "cell_type": "markdown",
   "metadata": {},
   "source": [
    "#### Section 1. Business Understanding"
   ]
  },
  {
   "cell_type": "markdown",
   "metadata": {},
   "source": [
    "For this project on writing a data science blog post, I have chosen a dataset on Sleep Apnea from VA Medical Center - Detroit. This dataset has Sleep apnea Architecture and metrics along with other info about the patients. To help better understand the data I have the following questions. \n",
    "\n",
    "Questions\n",
    " \n",
    "* What are the preventable factors and their impacts over the Sleep Apnea?\n",
    "* What are the non-preventable factors and their impacts over Sleep Apnea?\n",
    "* How are these factors influencing the severity of the disease and its treatment?\n",
    "* How are these factors influencing each other?\n",
    "* Can Sleep Apnea be cured or even managed over time?"
   ]
  },
  {
   "cell_type": "code",
   "execution_count": 1,
   "metadata": {},
   "outputs": [],
   "source": [
    "# Import libraries needed\n",
    "import numpy as np\n",
    "import pandas as pd\n",
    "import matplotlib.pyplot as plt\n",
    "import seaborn as sns\n",
    "%matplotlib inline"
   ]
  },
  {
   "cell_type": "markdown",
   "metadata": {},
   "source": [
    "#### Section 2: Data understanding"
   ]
  },
  {
   "cell_type": "markdown",
   "metadata": {},
   "source": [
    "##### Access Data"
   ]
  },
  {
   "cell_type": "markdown",
   "metadata": {},
   "source": [
    "Data is read using the Pandas read_csv() function and stored in df "
   ]
  },
  {
   "cell_type": "code",
   "execution_count": 2,
   "metadata": {
    "scrolled": true
   },
   "outputs": [
    {
     "data": {
      "text/html": [
       "<div>\n",
       "<style scoped>\n",
       "    .dataframe tbody tr th:only-of-type {\n",
       "        vertical-align: middle;\n",
       "    }\n",
       "\n",
       "    .dataframe tbody tr th {\n",
       "        vertical-align: top;\n",
       "    }\n",
       "\n",
       "    .dataframe thead th {\n",
       "        text-align: right;\n",
       "    }\n",
       "</style>\n",
       "<table border=\"1\" class=\"dataframe\">\n",
       "  <thead>\n",
       "    <tr style=\"text-align: right;\">\n",
       "      <th></th>\n",
       "      <th>Participant Coded</th>\n",
       "      <th>Age(Yrs)</th>\n",
       "      <th>Race</th>\n",
       "      <th>Socio-Economic Status</th>\n",
       "      <th>Presence of OSA associated gene-Serotonin receptor encoding gene (HTR2A)</th>\n",
       "      <th>BMI</th>\n",
       "      <th>Obesity</th>\n",
       "      <th>Education</th>\n",
       "      <th>Type of Meals</th>\n",
       "      <th>Diabetic</th>\n",
       "      <th>...</th>\n",
       "      <th>Hypertension</th>\n",
       "      <th>Lowest Oxygen Desaturation(%) -hypoxic burden/stress</th>\n",
       "      <th>Average Apnea Duration(seconds)- sleep apnea architecture</th>\n",
       "      <th>Arousal Index(Number of Arousals/Hour)- sleep fragmentation</th>\n",
       "      <th>% NREM Sleep-Sleep Quality</th>\n",
       "      <th>Average CPAP use(hours/night) -CPAP compliance/adherance</th>\n",
       "      <th>Apnea Hypopnea Index AHI-After 12 weeks of CPAP Use</th>\n",
       "      <th>Reduction in Snoring-After 12 weeks of CPAP Use</th>\n",
       "      <th>Reduction in Tiredness-After 12 weeks of CPAP Use</th>\n",
       "      <th>Reduction in Daytime Sleepiness-After 12 weeks of CPAP Use</th>\n",
       "    </tr>\n",
       "  </thead>\n",
       "  <tbody>\n",
       "    <tr>\n",
       "      <th>0</th>\n",
       "      <td>AB</td>\n",
       "      <td>44</td>\n",
       "      <td>AA</td>\n",
       "      <td>Middle</td>\n",
       "      <td>Y</td>\n",
       "      <td>29.8</td>\n",
       "      <td>N</td>\n",
       "      <td>UG</td>\n",
       "      <td>P</td>\n",
       "      <td>N</td>\n",
       "      <td>...</td>\n",
       "      <td>Y</td>\n",
       "      <td>81.3</td>\n",
       "      <td>25.4</td>\n",
       "      <td>27.40</td>\n",
       "      <td>0.95</td>\n",
       "      <td>5.42</td>\n",
       "      <td>38.0</td>\n",
       "      <td>1</td>\n",
       "      <td>1</td>\n",
       "      <td>1</td>\n",
       "    </tr>\n",
       "    <tr>\n",
       "      <th>1</th>\n",
       "      <td>AF</td>\n",
       "      <td>57</td>\n",
       "      <td>Cauc</td>\n",
       "      <td>Middle</td>\n",
       "      <td>N</td>\n",
       "      <td>27.8</td>\n",
       "      <td>N</td>\n",
       "      <td>UG</td>\n",
       "      <td>P</td>\n",
       "      <td>N</td>\n",
       "      <td>...</td>\n",
       "      <td>N</td>\n",
       "      <td>90.9</td>\n",
       "      <td>14.4</td>\n",
       "      <td>14.77</td>\n",
       "      <td>0.97</td>\n",
       "      <td>5.85</td>\n",
       "      <td>12.9</td>\n",
       "      <td>4</td>\n",
       "      <td>4</td>\n",
       "      <td>3</td>\n",
       "    </tr>\n",
       "    <tr>\n",
       "      <th>2</th>\n",
       "      <td>AK</td>\n",
       "      <td>34</td>\n",
       "      <td>Cauc</td>\n",
       "      <td>Middle</td>\n",
       "      <td>N</td>\n",
       "      <td>28.8</td>\n",
       "      <td>N</td>\n",
       "      <td>UG</td>\n",
       "      <td>P</td>\n",
       "      <td>N</td>\n",
       "      <td>...</td>\n",
       "      <td>N</td>\n",
       "      <td>88.8</td>\n",
       "      <td>16.1</td>\n",
       "      <td>14.77</td>\n",
       "      <td>0.95</td>\n",
       "      <td>6.32</td>\n",
       "      <td>20.3</td>\n",
       "      <td>4</td>\n",
       "      <td>4</td>\n",
       "      <td>4</td>\n",
       "    </tr>\n",
       "    <tr>\n",
       "      <th>3</th>\n",
       "      <td>AL</td>\n",
       "      <td>49</td>\n",
       "      <td>AA</td>\n",
       "      <td>Middle</td>\n",
       "      <td>Y</td>\n",
       "      <td>37.8</td>\n",
       "      <td>Y</td>\n",
       "      <td>UG</td>\n",
       "      <td>F</td>\n",
       "      <td>N</td>\n",
       "      <td>...</td>\n",
       "      <td>Y</td>\n",
       "      <td>81.2</td>\n",
       "      <td>29.2</td>\n",
       "      <td>28.08</td>\n",
       "      <td>0.91</td>\n",
       "      <td>4.30</td>\n",
       "      <td>68.3</td>\n",
       "      <td>1</td>\n",
       "      <td>1</td>\n",
       "      <td>1</td>\n",
       "    </tr>\n",
       "  </tbody>\n",
       "</table>\n",
       "<p>4 rows × 25 columns</p>\n",
       "</div>"
      ],
      "text/plain": [
       "  Participant Coded  Age(Yrs)  Race Socio-Economic Status  \\\n",
       "0                AB        44    AA                Middle   \n",
       "1                AF        57  Cauc                Middle   \n",
       "2                AK        34  Cauc                Middle   \n",
       "3                AL        49    AA                Middle   \n",
       "\n",
       "  Presence of OSA associated gene-Serotonin receptor encoding gene (HTR2A)  \\\n",
       "0                                                  Y                         \n",
       "1                                                  N                         \n",
       "2                                                  N                         \n",
       "3                                                  Y                         \n",
       "\n",
       "    BMI Obesity Education Type of Meals Diabetic  ... Hypertension  \\\n",
       "0  29.8       N        UG             P        N  ...            Y   \n",
       "1  27.8       N        UG             P        N  ...            N   \n",
       "2  28.8       N        UG             P        N  ...            N   \n",
       "3  37.8       Y        UG             F        N  ...            Y   \n",
       "\n",
       "   Lowest Oxygen Desaturation(%) -hypoxic burden/stress  \\\n",
       "0                                               81.3      \n",
       "1                                               90.9      \n",
       "2                                               88.8      \n",
       "3                                               81.2      \n",
       "\n",
       "  Average Apnea Duration(seconds)- sleep apnea architecture  \\\n",
       "0                                               25.4          \n",
       "1                                               14.4          \n",
       "2                                               16.1          \n",
       "3                                               29.2          \n",
       "\n",
       "   Arousal Index(Number of Arousals/Hour)- sleep fragmentation  \\\n",
       "0                                              27.40             \n",
       "1                                              14.77             \n",
       "2                                              14.77             \n",
       "3                                              28.08             \n",
       "\n",
       "   % NREM Sleep-Sleep Quality  \\\n",
       "0                        0.95   \n",
       "1                        0.97   \n",
       "2                        0.95   \n",
       "3                        0.91   \n",
       "\n",
       "  Average CPAP use(hours/night) -CPAP compliance/adherance  \\\n",
       "0                                               5.42         \n",
       "1                                               5.85         \n",
       "2                                               6.32         \n",
       "3                                               4.30         \n",
       "\n",
       "   Apnea Hypopnea Index AHI-After 12 weeks of CPAP Use  \\\n",
       "0                                               38.0     \n",
       "1                                               12.9     \n",
       "2                                               20.3     \n",
       "3                                               68.3     \n",
       "\n",
       "   Reduction in Snoring-After 12 weeks of CPAP Use  \\\n",
       "0                                                1   \n",
       "1                                                4   \n",
       "2                                                4   \n",
       "3                                                1   \n",
       "\n",
       "   Reduction in Tiredness-After 12 weeks of CPAP Use  \\\n",
       "0                                                  1   \n",
       "1                                                  4   \n",
       "2                                                  4   \n",
       "3                                                  1   \n",
       "\n",
       "   Reduction in Daytime Sleepiness-After 12 weeks of CPAP Use  \n",
       "0                                                  1           \n",
       "1                                                  3           \n",
       "2                                                  4           \n",
       "3                                                  1           \n",
       "\n",
       "[4 rows x 25 columns]"
      ]
     },
     "execution_count": 2,
     "metadata": {},
     "output_type": "execute_result"
    }
   ],
   "source": [
    "df=pd.read_csv(\"Sleep_Apnea_Data.csv\")\n",
    "df.head(4) # preview dataframe"
   ]
  },
  {
   "cell_type": "markdown",
   "metadata": {},
   "source": [
    "##### Explore Data"
   ]
  },
  {
   "cell_type": "code",
   "execution_count": 3,
   "metadata": {},
   "outputs": [
    {
     "name": "stdout",
     "output_type": "stream",
     "text": [
      "<class 'pandas.core.frame.DataFrame'>\n",
      "RangeIndex: 208 entries, 0 to 207\n",
      "Data columns (total 25 columns):\n",
      " #   Column                                                                    Non-Null Count  Dtype  \n",
      "---  ------                                                                    --------------  -----  \n",
      " 0   Participant Coded                                                         208 non-null    object \n",
      " 1   Age(Yrs)                                                                  208 non-null    int64  \n",
      " 2   Race                                                                      208 non-null    object \n",
      " 3   Socio-Economic Status                                                     208 non-null    object \n",
      " 4   Presence of OSA associated gene-Serotonin receptor encoding gene (HTR2A)  208 non-null    object \n",
      " 5   BMI                                                                       208 non-null    float64\n",
      " 6   Obesity                                                                   208 non-null    object \n",
      " 7   Education                                                                 208 non-null    object \n",
      " 8   Type of Meals                                                             208 non-null    object \n",
      " 9   Diabetic                                                                  208 non-null    object \n",
      " 10  Smoking                                                                   208 non-null    object \n",
      " 11  Exercise Duration(Minutes/day)                                            208 non-null    float64\n",
      " 12  Lifestyle                                                                 208 non-null    object \n",
      " 13  Physical health Index(SF-36 Questionnaire)                                201 non-null    float64\n",
      " 14  Apnea Hypopnea Index (Severity of OSA)                                    208 non-null    float64\n",
      " 15  Hypertension                                                              208 non-null    object \n",
      " 16  Lowest Oxygen Desaturation(%) -hypoxic burden/stress                      208 non-null    float64\n",
      " 17  Average Apnea Duration(seconds)- sleep apnea architecture                 208 non-null    float64\n",
      " 18  Arousal Index(Number of Arousals/Hour)- sleep fragmentation               208 non-null    float64\n",
      " 19  % NREM Sleep-Sleep Quality                                                208 non-null    float64\n",
      " 20  Average CPAP use(hours/night) -CPAP compliance/adherance                  208 non-null    float64\n",
      " 21  Apnea Hypopnea Index AHI-After 12 weeks of CPAP Use                       208 non-null    float64\n",
      " 22  Reduction in Snoring-After 12 weeks of CPAP Use                           208 non-null    int64  \n",
      " 23  Reduction in Tiredness-After 12 weeks of CPAP Use                         208 non-null    int64  \n",
      " 24  Reduction in Daytime Sleepiness-After 12 weeks of CPAP Use                208 non-null    int64  \n",
      "dtypes: float64(10), int64(4), object(11)\n",
      "memory usage: 40.8+ KB\n"
     ]
    }
   ],
   "source": [
    "# Let's look at number of columns, column labels, column data types, memory usage, range index, \n",
    "# and the number of cells in each column (non-null values)\n",
    "df.info()"
   ]
  },
  {
   "cell_type": "markdown",
   "metadata": {},
   "source": [
    "> A look at the dataframe's schema gives us this info: \n",
    "* The dataframe consists of 208 observations and 25 columns.\n",
    "* The only column that has some Null values is Physical Health Index, which has 208-201=7 records/observations with Null values.\n",
    "* The column name for % NREM Sleep- Sleep Quality does not seem to be consistent with other column names in the dataframe\n",
    "* The column names for Column number 4 and columns 16-24 could be revisited to be renamed for better use.\n",
    "* The file can be optimized for memory by converting columns to more approporiate data types and removing columns that may not provide any value to analysis. "
   ]
  },
  {
   "cell_type": "code",
   "execution_count": 4,
   "metadata": {},
   "outputs": [
    {
     "data": {
      "text/html": [
       "<div>\n",
       "<style scoped>\n",
       "    .dataframe tbody tr th:only-of-type {\n",
       "        vertical-align: middle;\n",
       "    }\n",
       "\n",
       "    .dataframe tbody tr th {\n",
       "        vertical-align: top;\n",
       "    }\n",
       "\n",
       "    .dataframe thead th {\n",
       "        text-align: right;\n",
       "    }\n",
       "</style>\n",
       "<table border=\"1\" class=\"dataframe\">\n",
       "  <thead>\n",
       "    <tr style=\"text-align: right;\">\n",
       "      <th></th>\n",
       "      <th>Participant Coded</th>\n",
       "      <th>Age(Yrs)</th>\n",
       "      <th>Race</th>\n",
       "      <th>Socio-Economic Status</th>\n",
       "      <th>Presence of OSA associated gene-Serotonin receptor encoding gene (HTR2A)</th>\n",
       "      <th>BMI</th>\n",
       "      <th>Obesity</th>\n",
       "      <th>Education</th>\n",
       "      <th>Type of Meals</th>\n",
       "      <th>Diabetic</th>\n",
       "      <th>...</th>\n",
       "      <th>Hypertension</th>\n",
       "      <th>Lowest Oxygen Desaturation(%) -hypoxic burden/stress</th>\n",
       "      <th>Average Apnea Duration(seconds)- sleep apnea architecture</th>\n",
       "      <th>Arousal Index(Number of Arousals/Hour)- sleep fragmentation</th>\n",
       "      <th>% NREM Sleep-Sleep Quality</th>\n",
       "      <th>Average CPAP use(hours/night) -CPAP compliance/adherance</th>\n",
       "      <th>Apnea Hypopnea Index AHI-After 12 weeks of CPAP Use</th>\n",
       "      <th>Reduction in Snoring-After 12 weeks of CPAP Use</th>\n",
       "      <th>Reduction in Tiredness-After 12 weeks of CPAP Use</th>\n",
       "      <th>Reduction in Daytime Sleepiness-After 12 weeks of CPAP Use</th>\n",
       "    </tr>\n",
       "  </thead>\n",
       "  <tbody>\n",
       "    <tr>\n",
       "      <th>128</th>\n",
       "      <td>RW</td>\n",
       "      <td>29</td>\n",
       "      <td>Cauc</td>\n",
       "      <td>High</td>\n",
       "      <td>N</td>\n",
       "      <td>31.4</td>\n",
       "      <td>Y</td>\n",
       "      <td>UG</td>\n",
       "      <td>F</td>\n",
       "      <td>N</td>\n",
       "      <td>...</td>\n",
       "      <td>Y</td>\n",
       "      <td>88.5</td>\n",
       "      <td>15.6</td>\n",
       "      <td>22.88</td>\n",
       "      <td>0.94</td>\n",
       "      <td>5.61</td>\n",
       "      <td>11.8</td>\n",
       "      <td>5</td>\n",
       "      <td>4</td>\n",
       "      <td>5</td>\n",
       "    </tr>\n",
       "    <tr>\n",
       "      <th>103</th>\n",
       "      <td>NW</td>\n",
       "      <td>19</td>\n",
       "      <td>AA</td>\n",
       "      <td>Low</td>\n",
       "      <td>N</td>\n",
       "      <td>28.0</td>\n",
       "      <td>N</td>\n",
       "      <td>HS</td>\n",
       "      <td>P</td>\n",
       "      <td>N</td>\n",
       "      <td>...</td>\n",
       "      <td>N</td>\n",
       "      <td>84.2</td>\n",
       "      <td>16.6</td>\n",
       "      <td>27.45</td>\n",
       "      <td>0.89</td>\n",
       "      <td>3.99</td>\n",
       "      <td>43.0</td>\n",
       "      <td>1</td>\n",
       "      <td>1</td>\n",
       "      <td>2</td>\n",
       "    </tr>\n",
       "    <tr>\n",
       "      <th>169</th>\n",
       "      <td>WR</td>\n",
       "      <td>44</td>\n",
       "      <td>AA</td>\n",
       "      <td>Middle</td>\n",
       "      <td>Y</td>\n",
       "      <td>31.5</td>\n",
       "      <td>Y</td>\n",
       "      <td>UG</td>\n",
       "      <td>F</td>\n",
       "      <td>N</td>\n",
       "      <td>...</td>\n",
       "      <td>Y</td>\n",
       "      <td>83.4</td>\n",
       "      <td>26.1</td>\n",
       "      <td>25.60</td>\n",
       "      <td>0.74</td>\n",
       "      <td>6.02</td>\n",
       "      <td>55.2</td>\n",
       "      <td>1</td>\n",
       "      <td>1</td>\n",
       "      <td>1</td>\n",
       "    </tr>\n",
       "  </tbody>\n",
       "</table>\n",
       "<p>3 rows × 25 columns</p>\n",
       "</div>"
      ],
      "text/plain": [
       "    Participant Coded  Age(Yrs)  Race Socio-Economic Status  \\\n",
       "128                RW        29  Cauc                  High   \n",
       "103                NW        19    AA                   Low   \n",
       "169                WR        44    AA                Middle   \n",
       "\n",
       "    Presence of OSA associated gene-Serotonin receptor encoding gene (HTR2A)  \\\n",
       "128                                                  N                         \n",
       "103                                                  N                         \n",
       "169                                                  Y                         \n",
       "\n",
       "      BMI Obesity Education Type of Meals Diabetic  ... Hypertension  \\\n",
       "128  31.4       Y        UG             F        N  ...            Y   \n",
       "103  28.0       N        HS             P        N  ...            N   \n",
       "169  31.5       Y        UG             F        N  ...            Y   \n",
       "\n",
       "     Lowest Oxygen Desaturation(%) -hypoxic burden/stress  \\\n",
       "128                                               88.5      \n",
       "103                                               84.2      \n",
       "169                                               83.4      \n",
       "\n",
       "    Average Apnea Duration(seconds)- sleep apnea architecture  \\\n",
       "128                                               15.6          \n",
       "103                                               16.6          \n",
       "169                                               26.1          \n",
       "\n",
       "     Arousal Index(Number of Arousals/Hour)- sleep fragmentation  \\\n",
       "128                                              22.88             \n",
       "103                                              27.45             \n",
       "169                                              25.60             \n",
       "\n",
       "     % NREM Sleep-Sleep Quality  \\\n",
       "128                        0.94   \n",
       "103                        0.89   \n",
       "169                        0.74   \n",
       "\n",
       "    Average CPAP use(hours/night) -CPAP compliance/adherance  \\\n",
       "128                                               5.61         \n",
       "103                                               3.99         \n",
       "169                                               6.02         \n",
       "\n",
       "     Apnea Hypopnea Index AHI-After 12 weeks of CPAP Use  \\\n",
       "128                                               11.8     \n",
       "103                                               43.0     \n",
       "169                                               55.2     \n",
       "\n",
       "     Reduction in Snoring-After 12 weeks of CPAP Use  \\\n",
       "128                                                5   \n",
       "103                                                1   \n",
       "169                                                1   \n",
       "\n",
       "     Reduction in Tiredness-After 12 weeks of CPAP Use  \\\n",
       "128                                                  4   \n",
       "103                                                  1   \n",
       "169                                                  1   \n",
       "\n",
       "     Reduction in Daytime Sleepiness-After 12 weeks of CPAP Use  \n",
       "128                                                  5           \n",
       "103                                                  2           \n",
       "169                                                  1           \n",
       "\n",
       "[3 rows x 25 columns]"
      ]
     },
     "execution_count": 4,
     "metadata": {},
     "output_type": "execute_result"
    }
   ],
   "source": [
    "# Display a sample of the dataframe\n",
    "df.sample(3)"
   ]
  },
  {
   "cell_type": "markdown",
   "metadata": {},
   "source": [
    "> There is Participant Coded,Age,Race,Socio-Economic Status,Presence of HTR2A gene,BMI,Obesity,Education,Type of Meals,Diabetic,Smoking,Exercise Duration,Lifestyle,Physical health Index,Apnea Hypopnea Index,Hypertension,Lowest Oxygen Desaturation,Average Apnea Duration,Arousal Index,Sleep Quality,Average CPAP Use,AHI-Post 12weeks CPAP Use,Reduction in Snoring-Post 12weeks CPAP Use,Reduction in Tiredness-Post 12weeks CPAP Use,Reduction in Daytime Sleepiness-Post 12weeks CPAP Use. All together there are 24 distinct metrics/measures for evaluating the patient."
   ]
  },
  {
   "cell_type": "code",
   "execution_count": 5,
   "metadata": {},
   "outputs": [
    {
     "data": {
      "text/plain": [
       "0      AA\n",
       "1    Cauc\n",
       "2    Cauc\n",
       "3      AA\n",
       "4      AA\n",
       "5      AA\n",
       "6      AA\n",
       "7    Cauc\n",
       "8    Cauc\n",
       "9      AA\n",
       "Name: Race, dtype: object"
      ]
     },
     "execution_count": 5,
     "metadata": {},
     "output_type": "execute_result"
    }
   ],
   "source": [
    "# Display the values in the Race column to take a close look at the values for classification\n",
    "df[\"Race\"].head(10)"
   ]
  },
  {
   "cell_type": "markdown",
   "metadata": {},
   "source": [
    "> The Race column appears to have values of only two types AA- African American and CAUC - Caucasion. Lets confirm this further"
   ]
  },
  {
   "cell_type": "code",
   "execution_count": 6,
   "metadata": {},
   "outputs": [
    {
     "data": {
      "text/plain": [
       "208"
      ]
     },
     "execution_count": 6,
     "metadata": {},
     "output_type": "execute_result"
    }
   ],
   "source": [
    "# Lets check for any duplicates in few of the Object type columns in our DF as listed earlier\n",
    "df.duplicated(subset=[\"Race\",\"Obesity\",\"Diabetic\",\"Smoking\"],keep = False).sum()"
   ]
  },
  {
   "cell_type": "markdown",
   "metadata": {},
   "source": [
    "> It says 208 duplicates?? This doesnt make much sense. Lets rather check for the distinct values in these columns."
   ]
  },
  {
   "cell_type": "code",
   "execution_count": 7,
   "metadata": {},
   "outputs": [
    {
     "data": {
      "text/plain": [
       "AA      104\n",
       "Cauc    104\n",
       "Name: Race, dtype: int64"
      ]
     },
     "execution_count": 7,
     "metadata": {},
     "output_type": "execute_result"
    }
   ],
   "source": [
    "# count the number of values in the category column\n",
    "df[\"Race\"].value_counts()"
   ]
  },
  {
   "cell_type": "code",
   "execution_count": 8,
   "metadata": {},
   "outputs": [
    {
     "data": {
      "text/plain": [
       "Y    120\n",
       "N     88\n",
       "Name: Obesity, dtype: int64"
      ]
     },
     "execution_count": 8,
     "metadata": {},
     "output_type": "execute_result"
    }
   ],
   "source": [
    "df[\"Obesity\"].value_counts()"
   ]
  },
  {
   "cell_type": "code",
   "execution_count": 9,
   "metadata": {},
   "outputs": [
    {
     "data": {
      "text/plain": [
       "N    208\n",
       "Name: Diabetic, dtype: int64"
      ]
     },
     "execution_count": 9,
     "metadata": {},
     "output_type": "execute_result"
    }
   ],
   "source": [
    "df[\"Diabetic\"].value_counts()"
   ]
  },
  {
   "cell_type": "code",
   "execution_count": 10,
   "metadata": {},
   "outputs": [
    {
     "data": {
      "text/plain": [
       "P    122\n",
       "F     86\n",
       "Name: Type of Meals, dtype: int64"
      ]
     },
     "execution_count": 10,
     "metadata": {},
     "output_type": "execute_result"
    }
   ],
   "source": [
    "df[\"Type of Meals\"].value_counts()"
   ]
  },
  {
   "cell_type": "markdown",
   "metadata": {},
   "source": [
    "> Race and Obesity columns each have 2 types of values in them, of which Race could be used as a major classification criteria."
   ]
  },
  {
   "cell_type": "markdown",
   "metadata": {},
   "source": [
    "So taking a closer look at the observations we can deduce that\n",
    "* The entire dataset is of participants who are Non-Smokers and also they dont have any type of Diabetes.\n",
    "* The columns Participant Coded, Diabetic and Smoking can be dropped without any loss of details; they do not provide any contrast value for analysis. \n",
    "* The Race column has though only two distinct values , but it has equal distribution of entire dataset into AA and CAUC.\n",
    "* The columns like Obesity, Presence of OSA Gene, Hypertension could be rather converted to Bool type, since they hold only Y/N values.\n",
    "* The dataset provides columns that could be used for different classifications or clusters"
   ]
  },
  {
   "cell_type": "markdown",
   "metadata": {},
   "source": [
    "#### Section 3: Prepare Data"
   ]
  },
  {
   "cell_type": "markdown",
   "metadata": {},
   "source": [
    "Cleaning Data"
   ]
  },
  {
   "cell_type": "code",
   "execution_count": 11,
   "metadata": {},
   "outputs": [
    {
     "name": "stdout",
     "output_type": "stream",
     "text": [
      "<class 'pandas.core.frame.DataFrame'>\n",
      "RangeIndex: 208 entries, 0 to 207\n",
      "Data columns (total 25 columns):\n",
      " #   Column                                                                    Non-Null Count  Dtype  \n",
      "---  ------                                                                    --------------  -----  \n",
      " 0   Participant Coded                                                         208 non-null    object \n",
      " 1   Age(Yrs)                                                                  208 non-null    int64  \n",
      " 2   Race                                                                      208 non-null    object \n",
      " 3   Socio-Economic Status                                                     208 non-null    object \n",
      " 4   Presence of OSA associated gene-Serotonin receptor encoding gene (HTR2A)  208 non-null    object \n",
      " 5   BMI                                                                       208 non-null    float64\n",
      " 6   Obesity                                                                   208 non-null    object \n",
      " 7   Education                                                                 208 non-null    object \n",
      " 8   Type of Meals                                                             208 non-null    object \n",
      " 9   Diabetic                                                                  208 non-null    object \n",
      " 10  Smoking                                                                   208 non-null    object \n",
      " 11  Exercise Duration(Minutes/day)                                            208 non-null    float64\n",
      " 12  Lifestyle                                                                 208 non-null    object \n",
      " 13  Physical health Index(SF-36 Questionnaire)                                201 non-null    float64\n",
      " 14  Apnea Hypopnea Index (Severity of OSA)                                    208 non-null    float64\n",
      " 15  Hypertension                                                              208 non-null    object \n",
      " 16  Lowest Oxygen Desaturation(%) -hypoxic burden/stress                      208 non-null    float64\n",
      " 17  Average Apnea Duration(seconds)- sleep apnea architecture                 208 non-null    float64\n",
      " 18  Arousal Index(Number of Arousals/Hour)- sleep fragmentation               208 non-null    float64\n",
      " 19  % NREM Sleep-Sleep Quality                                                208 non-null    float64\n",
      " 20  Average CPAP use(hours/night) -CPAP compliance/adherance                  208 non-null    float64\n",
      " 21  Apnea Hypopnea Index AHI-After 12 weeks of CPAP Use                       208 non-null    float64\n",
      " 22  Reduction in Snoring-After 12 weeks of CPAP Use                           208 non-null    int64  \n",
      " 23  Reduction in Tiredness-After 12 weeks of CPAP Use                         208 non-null    int64  \n",
      " 24  Reduction in Daytime Sleepiness-After 12 weeks of CPAP Use                208 non-null    int64  \n",
      "dtypes: float64(10), int64(4), object(11)\n",
      "memory usage: 40.8+ KB\n"
     ]
    }
   ],
   "source": [
    "# Let's take another look at number of columns, column labels, column data types, memory usage, \n",
    "# range index, and the number of cells in each column (non-null values)\n",
    "df.info()"
   ]
  },
  {
   "cell_type": "markdown",
   "metadata": {},
   "source": [
    "> The dataframe currently uses 40.8+ KB of memory , we can further optimize it for memory by using appropriate data types and dropping columns deemed unnecessary for analysis"
   ]
  },
  {
   "cell_type": "code",
   "execution_count": 12,
   "metadata": {
    "scrolled": true
   },
   "outputs": [
    {
     "data": {
      "text/plain": [
       "N    208\n",
       "Name: Smoking, dtype: int64"
      ]
     },
     "execution_count": 12,
     "metadata": {},
     "output_type": "execute_result"
    }
   ],
   "source": [
    "# let's look for count of values in Smoking column\n",
    "df[\"Smoking\"].value_counts()"
   ]
  },
  {
   "cell_type": "markdown",
   "metadata": {},
   "source": [
    "> The Smoking column has only one value; the \"N\" Value. Dropping the Smoking column will not cause any loss in details.\n",
    "> Similar is the case for the Diabetic column, To compensate for removing these columns we can acknowledge in our comments and writeups, mentioning the fact that the Participants coded in this Data set are Non-Smokers and Non-Diabetic.\n",
    "> We have a numeric index created by pandas for our dataframe, so we can also safely drop Participant Coded column and not loose any details."
   ]
  },
  {
   "cell_type": "code",
   "execution_count": 13,
   "metadata": {},
   "outputs": [],
   "source": [
    "# drop the id and currency columns\n",
    "df=df.drop(columns=[\"Participant Coded\",\"Smoking\",\"Diabetic\"])"
   ]
  },
  {
   "cell_type": "code",
   "execution_count": 14,
   "metadata": {},
   "outputs": [
    {
     "data": {
      "text/html": [
       "<div>\n",
       "<style scoped>\n",
       "    .dataframe tbody tr th:only-of-type {\n",
       "        vertical-align: middle;\n",
       "    }\n",
       "\n",
       "    .dataframe tbody tr th {\n",
       "        vertical-align: top;\n",
       "    }\n",
       "\n",
       "    .dataframe thead th {\n",
       "        text-align: right;\n",
       "    }\n",
       "</style>\n",
       "<table border=\"1\" class=\"dataframe\">\n",
       "  <thead>\n",
       "    <tr style=\"text-align: right;\">\n",
       "      <th></th>\n",
       "      <th>Age(Yrs)</th>\n",
       "      <th>Race</th>\n",
       "      <th>Socio-Economic Status</th>\n",
       "      <th>Presence of HTR2A Gene</th>\n",
       "      <th>BMI</th>\n",
       "      <th>Obesity</th>\n",
       "      <th>Education</th>\n",
       "      <th>Type of Meals</th>\n",
       "      <th>Exercise Dur(Mins/day)</th>\n",
       "      <th>Lifestyle</th>\n",
       "      <th>...</th>\n",
       "      <th>Hypertension</th>\n",
       "      <th>Lowest Oxygen Desaturation(%) -hypoxic burden/stress</th>\n",
       "      <th>Avg Apnea Dur(Secs)</th>\n",
       "      <th>Arousal Index</th>\n",
       "      <th>Percent NREM Sleep</th>\n",
       "      <th>Avg CPAP Use(hrs/night)</th>\n",
       "      <th>AHI-Post 12wks CPAP Use</th>\n",
       "      <th>Reduced Snoring-Post 12wks CPAP Use</th>\n",
       "      <th>Reduced Tiredness-Post 12wks CPAP Use</th>\n",
       "      <th>Reduced Daytime Sleepiness-Post 12wks CPAP Use</th>\n",
       "    </tr>\n",
       "  </thead>\n",
       "  <tbody>\n",
       "    <tr>\n",
       "      <th>0</th>\n",
       "      <td>44</td>\n",
       "      <td>AA</td>\n",
       "      <td>Middle</td>\n",
       "      <td>Y</td>\n",
       "      <td>29.8</td>\n",
       "      <td>N</td>\n",
       "      <td>UG</td>\n",
       "      <td>P</td>\n",
       "      <td>56.4</td>\n",
       "      <td>A</td>\n",
       "      <td>...</td>\n",
       "      <td>Y</td>\n",
       "      <td>81.3</td>\n",
       "      <td>25.4</td>\n",
       "      <td>27.40</td>\n",
       "      <td>0.95</td>\n",
       "      <td>5.42</td>\n",
       "      <td>38.0</td>\n",
       "      <td>1</td>\n",
       "      <td>1</td>\n",
       "      <td>1</td>\n",
       "    </tr>\n",
       "    <tr>\n",
       "      <th>1</th>\n",
       "      <td>57</td>\n",
       "      <td>Cauc</td>\n",
       "      <td>Middle</td>\n",
       "      <td>N</td>\n",
       "      <td>27.8</td>\n",
       "      <td>N</td>\n",
       "      <td>UG</td>\n",
       "      <td>P</td>\n",
       "      <td>24.0</td>\n",
       "      <td>S</td>\n",
       "      <td>...</td>\n",
       "      <td>N</td>\n",
       "      <td>90.9</td>\n",
       "      <td>14.4</td>\n",
       "      <td>14.77</td>\n",
       "      <td>0.97</td>\n",
       "      <td>5.85</td>\n",
       "      <td>12.9</td>\n",
       "      <td>4</td>\n",
       "      <td>4</td>\n",
       "      <td>3</td>\n",
       "    </tr>\n",
       "  </tbody>\n",
       "</table>\n",
       "<p>2 rows × 22 columns</p>\n",
       "</div>"
      ],
      "text/plain": [
       "   Age(Yrs)  Race Socio-Economic Status Presence of HTR2A Gene   BMI Obesity  \\\n",
       "0        44    AA                Middle                      Y  29.8       N   \n",
       "1        57  Cauc                Middle                      N  27.8       N   \n",
       "\n",
       "  Education Type of Meals  Exercise Dur(Mins/day) Lifestyle  ...  \\\n",
       "0        UG             P                    56.4         A  ...   \n",
       "1        UG             P                    24.0         S  ...   \n",
       "\n",
       "   Hypertension  Lowest Oxygen Desaturation(%) -hypoxic burden/stress  \\\n",
       "0             Y                                               81.3      \n",
       "1             N                                               90.9      \n",
       "\n",
       "  Avg Apnea Dur(Secs)  Arousal Index  Percent NREM Sleep  \\\n",
       "0                25.4          27.40                0.95   \n",
       "1                14.4          14.77                0.97   \n",
       "\n",
       "   Avg CPAP Use(hrs/night)  AHI-Post 12wks CPAP Use  \\\n",
       "0                     5.42                     38.0   \n",
       "1                     5.85                     12.9   \n",
       "\n",
       "   Reduced Snoring-Post 12wks CPAP Use  Reduced Tiredness-Post 12wks CPAP Use  \\\n",
       "0                                    1                                      1   \n",
       "1                                    4                                      4   \n",
       "\n",
       "   Reduced Daytime Sleepiness-Post 12wks CPAP Use  \n",
       "0                                               1  \n",
       "1                                               3  \n",
       "\n",
       "[2 rows x 22 columns]"
      ]
     },
     "execution_count": 14,
     "metadata": {},
     "output_type": "execute_result"
    }
   ],
   "source": [
    "# renaming few columns to more readable and presentable format\n",
    "df=df.rename(columns={\"Exercise Duration(Minutes/day)\":\"Exercise Dur(Mins/day)\",\n",
    "                      \"Presence of OSA associated gene-Serotonin receptor encoding gene (HTR2A)\":\n",
    "                      \"Presence of HTR2A Gene\",\"Physical health Index(SF-36 Questionnaire)\":\"Phy Hlth Index\",\n",
    "                      \"Apnea Hypopnea Index (Severity of OSA)\":\"AHI\",\n",
    "                      \"Average Apnea Duration(seconds)- sleep apnea architecture\":\"Avg Apnea Dur(Secs)\",\n",
    "                      \"Arousal Index(Number of Arousals/Hour)- sleep fragmentation\":\"Arousal Index\",\n",
    "                      \"% NREM Sleep-Sleep Quality\":\"Percent NREM Sleep\",\n",
    "                      \"Average CPAP use(hours/night) -CPAP compliance/adherance\":\"Avg CPAP Use(hrs/night)\",\n",
    "                     \"Apnea Hypopnea Index AHI-After 12 weeks of CPAP Use\":\"AHI-Post 12wks CPAP Use\",\n",
    "                     \"Reduction in Snoring-After 12 weeks of CPAP Use\":\"Reduced Snoring-Post 12wks CPAP Use\",\n",
    "                     \"Reduction in Tiredness-After 12 weeks of CPAP Use\":\"Reduced Tiredness-Post 12wks CPAP Use\",\n",
    "                     \"Reduction in Daytime Sleepiness-After 12 weeks of CPAP Use\":\n",
    "                      \"Reduced Daytime Sleepiness-Post 12wks CPAP Use\"})\n",
    "df.head(2)"
   ]
  },
  {
   "cell_type": "markdown",
   "metadata": {},
   "source": [
    "> from the dataframe we can see Participant Coded, Diabetic, Smoking columns have been dropped and the Apnea Architecture/metrics related columns have been renamed"
   ]
  },
  {
   "cell_type": "code",
   "execution_count": 15,
   "metadata": {},
   "outputs": [
    {
     "data": {
      "text/plain": [
       "Middle    104\n",
       "Low        84\n",
       "High       20\n",
       "Name: Socio-Economic Status, dtype: int64"
      ]
     },
     "execution_count": 15,
     "metadata": {},
     "output_type": "execute_result"
    }
   ],
   "source": [
    "# Lets look at few column values\n",
    "df[\"Socio-Economic Status\"].value_counts()"
   ]
  },
  {
   "cell_type": "code",
   "execution_count": 16,
   "metadata": {},
   "outputs": [
    {
     "data": {
      "text/plain": [
       "HS    104\n",
       "UG     84\n",
       "PG     20\n",
       "Name: Education, dtype: int64"
      ]
     },
     "execution_count": 16,
     "metadata": {},
     "output_type": "execute_result"
    }
   ],
   "source": [
    "df[\"Education\"].value_counts()"
   ]
  },
  {
   "cell_type": "markdown",
   "metadata": {},
   "source": [
    "> As we can see there are just three categories, converting these columns to category datatype may save us memory"
   ]
  },
  {
   "cell_type": "code",
   "execution_count": 17,
   "metadata": {},
   "outputs": [],
   "source": [
    "# converting Race column's data type to category datatype\n",
    "df[\"Race\"]=df[\"Race\"].astype(\"category\")"
   ]
  },
  {
   "cell_type": "code",
   "execution_count": 18,
   "metadata": {},
   "outputs": [
    {
     "data": {
      "text/plain": [
       "S    110\n",
       "A     98\n",
       "Name: Lifestyle, dtype: int64"
      ]
     },
     "execution_count": 18,
     "metadata": {},
     "output_type": "execute_result"
    }
   ],
   "source": [
    "# lets look at the count of values in the Lifestyle column\n",
    "df[\"Lifestyle\"].value_counts()"
   ]
  },
  {
   "cell_type": "code",
   "execution_count": 19,
   "metadata": {},
   "outputs": [
    {
     "data": {
      "text/plain": [
       "P    122\n",
       "F     86\n",
       "Name: Type of Meals, dtype: int64"
      ]
     },
     "execution_count": 19,
     "metadata": {},
     "output_type": "execute_result"
    }
   ],
   "source": [
    "# lets look at the count of values in the Type of Meals column\n",
    "df[\"Type of Meals\"].value_counts()"
   ]
  },
  {
   "cell_type": "markdown",
   "metadata": {},
   "source": [
    "> We can see some single characters in the values of the Lifestyle,Type of meals columns. We need to convert all the values to a more readable format before we can actually make any use of them "
   ]
  },
  {
   "cell_type": "code",
   "execution_count": 20,
   "metadata": {},
   "outputs": [
    {
     "data": {
      "text/plain": [
       "Packed    122\n",
       "Fresh      86\n",
       "Name: Type of Meals, dtype: int64"
      ]
     },
     "execution_count": 20,
     "metadata": {},
     "output_type": "execute_result"
    }
   ],
   "source": [
    "# Replace all 'P' in the 'Type of Meals' column to the value 'Packed' and all 'F' to the value 'Fresh'\n",
    "df[\"Type of Meals\"] = df[\"Type of Meals\"].replace('P', 'Packed', regex=True)\n",
    "df[\"Type of Meals\"] = df[\"Type of Meals\"].replace('F', 'Fresh', regex=True)\n",
    "df[\"Type of Meals\"].value_counts()"
   ]
  },
  {
   "cell_type": "code",
   "execution_count": 21,
   "metadata": {},
   "outputs": [
    {
     "data": {
      "text/plain": [
       "Sedentary    110\n",
       "Active        98\n",
       "Name: Lifestyle, dtype: int64"
      ]
     },
     "execution_count": 21,
     "metadata": {},
     "output_type": "execute_result"
    }
   ],
   "source": [
    "# Replace all 'A' in the 'Lifestyle' column to the value 'Active' and all 'S' to the value 'Sedentary'\n",
    "df[\"Lifestyle\"] = df[\"Lifestyle\"].replace('A', 'Active', regex=True)\n",
    "df[\"Lifestyle\"] = df[\"Lifestyle\"].replace('S', 'Sedentary', regex=True)\n",
    "df[\"Lifestyle\"].value_counts()"
   ]
  },
  {
   "cell_type": "markdown",
   "metadata": {},
   "source": [
    "> We can see that value conversions took place with no errors, which is a sign that all the values in the columns are now updated to be more readable"
   ]
  },
  {
   "cell_type": "code",
   "execution_count": 22,
   "metadata": {},
   "outputs": [
    {
     "data": {
      "text/html": [
       "<div>\n",
       "<style scoped>\n",
       "    .dataframe tbody tr th:only-of-type {\n",
       "        vertical-align: middle;\n",
       "    }\n",
       "\n",
       "    .dataframe tbody tr th {\n",
       "        vertical-align: top;\n",
       "    }\n",
       "\n",
       "    .dataframe thead th {\n",
       "        text-align: right;\n",
       "    }\n",
       "</style>\n",
       "<table border=\"1\" class=\"dataframe\">\n",
       "  <thead>\n",
       "    <tr style=\"text-align: right;\">\n",
       "      <th></th>\n",
       "      <th>Age(Yrs)</th>\n",
       "      <th>Race</th>\n",
       "      <th>Socio-Economic Status</th>\n",
       "      <th>Presence of HTR2A Gene</th>\n",
       "      <th>BMI</th>\n",
       "      <th>Obesity</th>\n",
       "      <th>Education</th>\n",
       "      <th>Type of Meals</th>\n",
       "      <th>Exercise Dur(Mins/day)</th>\n",
       "      <th>Lifestyle</th>\n",
       "      <th>...</th>\n",
       "      <th>Hypertension</th>\n",
       "      <th>Lowest O2 Desaturation(%)</th>\n",
       "      <th>Avg Apnea Dur(Secs)</th>\n",
       "      <th>Arousal Index</th>\n",
       "      <th>Percent NREM Sleep</th>\n",
       "      <th>Avg CPAP Use(hrs/night)</th>\n",
       "      <th>AHI-Post 12wks CPAP Use</th>\n",
       "      <th>Reduced Snoring-Post 12wks CPAP Use</th>\n",
       "      <th>Reduced Tiredness-Post 12wks CPAP Use</th>\n",
       "      <th>Reduced Daytime Sleepiness-Post 12wks CPAP Use</th>\n",
       "    </tr>\n",
       "  </thead>\n",
       "  <tbody>\n",
       "    <tr>\n",
       "      <th>0</th>\n",
       "      <td>44</td>\n",
       "      <td>AA</td>\n",
       "      <td>Middle</td>\n",
       "      <td>Y</td>\n",
       "      <td>29.8</td>\n",
       "      <td>N</td>\n",
       "      <td>UG</td>\n",
       "      <td>Packed</td>\n",
       "      <td>56.4</td>\n",
       "      <td>Active</td>\n",
       "      <td>...</td>\n",
       "      <td>Y</td>\n",
       "      <td>81.3</td>\n",
       "      <td>25.4</td>\n",
       "      <td>27.40</td>\n",
       "      <td>0.95</td>\n",
       "      <td>5.42</td>\n",
       "      <td>38.0</td>\n",
       "      <td>1</td>\n",
       "      <td>1</td>\n",
       "      <td>1</td>\n",
       "    </tr>\n",
       "    <tr>\n",
       "      <th>1</th>\n",
       "      <td>57</td>\n",
       "      <td>Cauc</td>\n",
       "      <td>Middle</td>\n",
       "      <td>N</td>\n",
       "      <td>27.8</td>\n",
       "      <td>N</td>\n",
       "      <td>UG</td>\n",
       "      <td>Packed</td>\n",
       "      <td>24.0</td>\n",
       "      <td>Sedentary</td>\n",
       "      <td>...</td>\n",
       "      <td>N</td>\n",
       "      <td>90.9</td>\n",
       "      <td>14.4</td>\n",
       "      <td>14.77</td>\n",
       "      <td>0.97</td>\n",
       "      <td>5.85</td>\n",
       "      <td>12.9</td>\n",
       "      <td>4</td>\n",
       "      <td>4</td>\n",
       "      <td>3</td>\n",
       "    </tr>\n",
       "  </tbody>\n",
       "</table>\n",
       "<p>2 rows × 22 columns</p>\n",
       "</div>"
      ],
      "text/plain": [
       "   Age(Yrs)  Race Socio-Economic Status Presence of HTR2A Gene   BMI Obesity  \\\n",
       "0        44    AA                Middle                      Y  29.8       N   \n",
       "1        57  Cauc                Middle                      N  27.8       N   \n",
       "\n",
       "  Education Type of Meals  Exercise Dur(Mins/day)  Lifestyle  ...  \\\n",
       "0        UG        Packed                    56.4     Active  ...   \n",
       "1        UG        Packed                    24.0  Sedentary  ...   \n",
       "\n",
       "   Hypertension  Lowest O2 Desaturation(%) Avg Apnea Dur(Secs)  Arousal Index  \\\n",
       "0             Y                       81.3                25.4          27.40   \n",
       "1             N                       90.9                14.4          14.77   \n",
       "\n",
       "   Percent NREM Sleep  Avg CPAP Use(hrs/night)  AHI-Post 12wks CPAP Use  \\\n",
       "0                0.95                     5.42                     38.0   \n",
       "1                0.97                     5.85                     12.9   \n",
       "\n",
       "   Reduced Snoring-Post 12wks CPAP Use  Reduced Tiredness-Post 12wks CPAP Use  \\\n",
       "0                                    1                                      1   \n",
       "1                                    4                                      4   \n",
       "\n",
       "   Reduced Daytime Sleepiness-Post 12wks CPAP Use  \n",
       "0                                               1  \n",
       "1                                               3  \n",
       "\n",
       "[2 rows x 22 columns]"
      ]
     },
     "execution_count": 22,
     "metadata": {},
     "output_type": "execute_result"
    }
   ],
   "source": [
    "# lets now rename one more column before we see how the dataframe schema and stats looks now \n",
    "df=df.rename(columns={\"Lowest Oxygen Desaturation(%) -hypoxic burden/stress\":\"Lowest O2 Desaturation(%)\"})\n",
    "df.head(2)"
   ]
  },
  {
   "cell_type": "code",
   "execution_count": 23,
   "metadata": {},
   "outputs": [
    {
     "data": {
      "text/html": [
       "<div>\n",
       "<style scoped>\n",
       "    .dataframe tbody tr th:only-of-type {\n",
       "        vertical-align: middle;\n",
       "    }\n",
       "\n",
       "    .dataframe tbody tr th {\n",
       "        vertical-align: top;\n",
       "    }\n",
       "\n",
       "    .dataframe thead th {\n",
       "        text-align: right;\n",
       "    }\n",
       "</style>\n",
       "<table border=\"1\" class=\"dataframe\">\n",
       "  <thead>\n",
       "    <tr style=\"text-align: right;\">\n",
       "      <th></th>\n",
       "      <th>Age(Yrs)</th>\n",
       "      <th>Race</th>\n",
       "      <th>Socio-Economic Status</th>\n",
       "      <th>Presence of HTR2A Gene</th>\n",
       "      <th>BMI</th>\n",
       "      <th>Obesity</th>\n",
       "      <th>Education</th>\n",
       "      <th>Type of Meals</th>\n",
       "      <th>Exercise Dur(Mins/day)</th>\n",
       "      <th>Lifestyle</th>\n",
       "      <th>...</th>\n",
       "      <th>Hypertension</th>\n",
       "      <th>Lowest O2 Desaturation(%)</th>\n",
       "      <th>Avg Apnea Dur(Secs)</th>\n",
       "      <th>Arousal Index</th>\n",
       "      <th>Percent NREM Sleep</th>\n",
       "      <th>Avg CPAP Use(hrs/night)</th>\n",
       "      <th>AHI-Post 12wks CPAP Use</th>\n",
       "      <th>Reduced Snoring-Post 12wks CPAP Use</th>\n",
       "      <th>Reduced Tiredness-Post 12wks CPAP Use</th>\n",
       "      <th>Reduced Daytime Sleepiness-Post 12wks CPAP Use</th>\n",
       "    </tr>\n",
       "  </thead>\n",
       "  <tbody>\n",
       "    <tr>\n",
       "      <th>52</th>\n",
       "      <td>59</td>\n",
       "      <td>AA</td>\n",
       "      <td>Middle</td>\n",
       "      <td>Y</td>\n",
       "      <td>35.4</td>\n",
       "      <td>Y</td>\n",
       "      <td>UG</td>\n",
       "      <td>Fresh</td>\n",
       "      <td>30.0</td>\n",
       "      <td>Active</td>\n",
       "      <td>...</td>\n",
       "      <td>Y</td>\n",
       "      <td>82.9</td>\n",
       "      <td>27.8</td>\n",
       "      <td>23.08</td>\n",
       "      <td>0.83</td>\n",
       "      <td>4.55</td>\n",
       "      <td>72.4</td>\n",
       "      <td>2</td>\n",
       "      <td>1</td>\n",
       "      <td>2</td>\n",
       "    </tr>\n",
       "    <tr>\n",
       "      <th>66</th>\n",
       "      <td>59</td>\n",
       "      <td>AA</td>\n",
       "      <td>Low</td>\n",
       "      <td>Y</td>\n",
       "      <td>30.4</td>\n",
       "      <td>Y</td>\n",
       "      <td>HS</td>\n",
       "      <td>Packed</td>\n",
       "      <td>25.3</td>\n",
       "      <td>Sedentary</td>\n",
       "      <td>...</td>\n",
       "      <td>N</td>\n",
       "      <td>82.9</td>\n",
       "      <td>25.0</td>\n",
       "      <td>31.86</td>\n",
       "      <td>0.66</td>\n",
       "      <td>3.42</td>\n",
       "      <td>27.1</td>\n",
       "      <td>2</td>\n",
       "      <td>1</td>\n",
       "      <td>1</td>\n",
       "    </tr>\n",
       "    <tr>\n",
       "      <th>158</th>\n",
       "      <td>59</td>\n",
       "      <td>AA</td>\n",
       "      <td>Low</td>\n",
       "      <td>Y</td>\n",
       "      <td>34.8</td>\n",
       "      <td>Y</td>\n",
       "      <td>HS</td>\n",
       "      <td>Packed</td>\n",
       "      <td>21.9</td>\n",
       "      <td>Sedentary</td>\n",
       "      <td>...</td>\n",
       "      <td>Y</td>\n",
       "      <td>76.1</td>\n",
       "      <td>42.7</td>\n",
       "      <td>32.34</td>\n",
       "      <td>0.90</td>\n",
       "      <td>3.40</td>\n",
       "      <td>78.2</td>\n",
       "      <td>1</td>\n",
       "      <td>1</td>\n",
       "      <td>2</td>\n",
       "    </tr>\n",
       "    <tr>\n",
       "      <th>137</th>\n",
       "      <td>57</td>\n",
       "      <td>AA</td>\n",
       "      <td>Low</td>\n",
       "      <td>Y</td>\n",
       "      <td>28.4</td>\n",
       "      <td>N</td>\n",
       "      <td>HS</td>\n",
       "      <td>Packed</td>\n",
       "      <td>21.7</td>\n",
       "      <td>Sedentary</td>\n",
       "      <td>...</td>\n",
       "      <td>N</td>\n",
       "      <td>87.7</td>\n",
       "      <td>23.3</td>\n",
       "      <td>37.35</td>\n",
       "      <td>0.87</td>\n",
       "      <td>3.26</td>\n",
       "      <td>70.3</td>\n",
       "      <td>2</td>\n",
       "      <td>1</td>\n",
       "      <td>1</td>\n",
       "    </tr>\n",
       "    <tr>\n",
       "      <th>117</th>\n",
       "      <td>56</td>\n",
       "      <td>AA</td>\n",
       "      <td>Middle</td>\n",
       "      <td>Y</td>\n",
       "      <td>32.4</td>\n",
       "      <td>Y</td>\n",
       "      <td>UG</td>\n",
       "      <td>Packed</td>\n",
       "      <td>15.2</td>\n",
       "      <td>Sedentary</td>\n",
       "      <td>...</td>\n",
       "      <td>Y</td>\n",
       "      <td>86.9</td>\n",
       "      <td>17.8</td>\n",
       "      <td>25.53</td>\n",
       "      <td>0.94</td>\n",
       "      <td>3.54</td>\n",
       "      <td>33.5</td>\n",
       "      <td>1</td>\n",
       "      <td>1</td>\n",
       "      <td>2</td>\n",
       "    </tr>\n",
       "  </tbody>\n",
       "</table>\n",
       "<p>5 rows × 22 columns</p>\n",
       "</div>"
      ],
      "text/plain": [
       "     Age(Yrs) Race Socio-Economic Status Presence of HTR2A Gene   BMI Obesity  \\\n",
       "52         59   AA                Middle                      Y  35.4       Y   \n",
       "66         59   AA                   Low                      Y  30.4       Y   \n",
       "158        59   AA                   Low                      Y  34.8       Y   \n",
       "137        57   AA                   Low                      Y  28.4       N   \n",
       "117        56   AA                Middle                      Y  32.4       Y   \n",
       "\n",
       "    Education Type of Meals  Exercise Dur(Mins/day)  Lifestyle  ...  \\\n",
       "52         UG         Fresh                    30.0     Active  ...   \n",
       "66         HS        Packed                    25.3  Sedentary  ...   \n",
       "158        HS        Packed                    21.9  Sedentary  ...   \n",
       "137        HS        Packed                    21.7  Sedentary  ...   \n",
       "117        UG        Packed                    15.2  Sedentary  ...   \n",
       "\n",
       "     Hypertension  Lowest O2 Desaturation(%) Avg Apnea Dur(Secs)  \\\n",
       "52              Y                       82.9                27.8   \n",
       "66              N                       82.9                25.0   \n",
       "158             Y                       76.1                42.7   \n",
       "137             N                       87.7                23.3   \n",
       "117             Y                       86.9                17.8   \n",
       "\n",
       "     Arousal Index  Percent NREM Sleep  Avg CPAP Use(hrs/night)  \\\n",
       "52           23.08                0.83                     4.55   \n",
       "66           31.86                0.66                     3.42   \n",
       "158          32.34                0.90                     3.40   \n",
       "137          37.35                0.87                     3.26   \n",
       "117          25.53                0.94                     3.54   \n",
       "\n",
       "     AHI-Post 12wks CPAP Use  Reduced Snoring-Post 12wks CPAP Use  \\\n",
       "52                      72.4                                    2   \n",
       "66                      27.1                                    2   \n",
       "158                     78.2                                    1   \n",
       "137                     70.3                                    2   \n",
       "117                     33.5                                    1   \n",
       "\n",
       "     Reduced Tiredness-Post 12wks CPAP Use  \\\n",
       "52                                       1   \n",
       "66                                       1   \n",
       "158                                      1   \n",
       "137                                      1   \n",
       "117                                      1   \n",
       "\n",
       "     Reduced Daytime Sleepiness-Post 12wks CPAP Use  \n",
       "52                                                2  \n",
       "66                                                1  \n",
       "158                                               2  \n",
       "137                                               1  \n",
       "117                                               2  \n",
       "\n",
       "[5 rows x 22 columns]"
      ]
     },
     "execution_count": 23,
     "metadata": {},
     "output_type": "execute_result"
    }
   ],
   "source": [
    "# lets sort the dataframe so that the participants with specific Race are sorted as oldest at the top\n",
    "# Sort df by Age descending \n",
    "sorted_df = df.sort_values(by=[\"Race\",\"Age(Yrs)\"],ascending=[True,False])\n",
    "sorted_df.head()"
   ]
  },
  {
   "cell_type": "markdown",
   "metadata": {},
   "source": [
    "> Good! now we can see that the participants with higher age are on top and also categorized based on their Race"
   ]
  },
  {
   "cell_type": "code",
   "execution_count": 24,
   "metadata": {},
   "outputs": [],
   "source": [
    "#Update the df with the sorted df\n",
    "df=sorted_df"
   ]
  },
  {
   "cell_type": "code",
   "execution_count": 25,
   "metadata": {},
   "outputs": [
    {
     "name": "stdout",
     "output_type": "stream",
     "text": [
      "<class 'pandas.core.frame.DataFrame'>\n",
      "Int64Index: 208 entries, 52 to 177\n",
      "Data columns (total 22 columns):\n",
      " #   Column                                          Non-Null Count  Dtype   \n",
      "---  ------                                          --------------  -----   \n",
      " 0   Age(Yrs)                                        208 non-null    int64   \n",
      " 1   Race                                            208 non-null    category\n",
      " 2   Socio-Economic Status                           208 non-null    object  \n",
      " 3   Presence of HTR2A Gene                          208 non-null    object  \n",
      " 4   BMI                                             208 non-null    float64 \n",
      " 5   Obesity                                         208 non-null    object  \n",
      " 6   Education                                       208 non-null    object  \n",
      " 7   Type of Meals                                   208 non-null    object  \n",
      " 8   Exercise Dur(Mins/day)                          208 non-null    float64 \n",
      " 9   Lifestyle                                       208 non-null    object  \n",
      " 10  Phy Hlth Index                                  201 non-null    float64 \n",
      " 11  AHI                                             208 non-null    float64 \n",
      " 12  Hypertension                                    208 non-null    object  \n",
      " 13  Lowest O2 Desaturation(%)                       208 non-null    float64 \n",
      " 14  Avg Apnea Dur(Secs)                             208 non-null    float64 \n",
      " 15  Arousal Index                                   208 non-null    float64 \n",
      " 16  Percent NREM Sleep                              208 non-null    float64 \n",
      " 17  Avg CPAP Use(hrs/night)                         208 non-null    float64 \n",
      " 18  AHI-Post 12wks CPAP Use                         208 non-null    float64 \n",
      " 19  Reduced Snoring-Post 12wks CPAP Use             208 non-null    int64   \n",
      " 20  Reduced Tiredness-Post 12wks CPAP Use           208 non-null    int64   \n",
      " 21  Reduced Daytime Sleepiness-Post 12wks CPAP Use  208 non-null    int64   \n",
      "dtypes: category(1), float64(10), int64(4), object(7)\n",
      "memory usage: 36.1+ KB\n"
     ]
    }
   ],
   "source": [
    "# Lets again check to see how the dataframe schema and stats looks like \n",
    "df.info()"
   ]
  },
  {
   "cell_type": "markdown",
   "metadata": {},
   "source": [
    "> As we can see the columns now have the right data types and memory usage is reduced from 40.8+ KB to 36.1 KB, Column names have now been updated to more readable format and unnecessary columns have been dropped"
   ]
  },
  {
   "cell_type": "code",
   "execution_count": 26,
   "metadata": {},
   "outputs": [
    {
     "name": "stdout",
     "output_type": "stream",
     "text": [
      "<class 'pandas.core.frame.DataFrame'>\n",
      "Int64Index: 208 entries, 52 to 177\n",
      "Data columns (total 22 columns):\n",
      " #   Column                                          Non-Null Count  Dtype   \n",
      "---  ------                                          --------------  -----   \n",
      " 0   Age(Yrs)                                        208 non-null    int64   \n",
      " 1   Race                                            208 non-null    category\n",
      " 2   Socio-Economic Status                           208 non-null    object  \n",
      " 3   Presence of HTR2A Gene                          208 non-null    object  \n",
      " 4   BMI                                             208 non-null    float64 \n",
      " 5   Obesity                                         208 non-null    object  \n",
      " 6   Education                                       208 non-null    object  \n",
      " 7   Type of Meals                                   208 non-null    object  \n",
      " 8   Exercise Dur(Mins/day)                          208 non-null    float64 \n",
      " 9   Lifestyle                                       208 non-null    object  \n",
      " 10  Phy Hlth Index                                  201 non-null    float64 \n",
      " 11  AHI                                             208 non-null    float64 \n",
      " 12  Hypertension                                    208 non-null    object  \n",
      " 13  Lowest O2 Desaturation(%)                       208 non-null    float64 \n",
      " 14  Avg Apnea Dur(Secs)                             208 non-null    float64 \n",
      " 15  Arousal Index                                   208 non-null    float64 \n",
      " 16  Percent NREM Sleep                              208 non-null    float64 \n",
      " 17  Avg CPAP Use(hrs/night)                         208 non-null    float64 \n",
      " 18  AHI-Post 12wks CPAP Use                         208 non-null    float64 \n",
      " 19  Reduced Snoring-Post 12wks CPAP Use             208 non-null    int64   \n",
      " 20  Reduced Tiredness-Post 12wks CPAP Use           208 non-null    int64   \n",
      " 21  Reduced Daytime Sleepiness-Post 12wks CPAP Use  208 non-null    int64   \n",
      "dtypes: category(1), float64(10), int64(4), object(7)\n",
      "memory usage: 36.1+ KB\n"
     ]
    }
   ],
   "source": [
    "df[\"Education\"]=df[\"Education\"].astype(\"object\")\n",
    "df[\"Socio-Economic Status\"]=df[\"Socio-Economic Status\"].astype(\"object\")\n",
    "df[\"Lifestyle\"] =df[\"Lifestyle\"].astype(\"object\")\n",
    "df[\"Type of Meals\"] =df[\"Type of Meals\"].astype(\"object\")\n",
    "df.info()"
   ]
  },
  {
   "cell_type": "code",
   "execution_count": 27,
   "metadata": {},
   "outputs": [
    {
     "data": {
      "text/html": [
       "<div>\n",
       "<style scoped>\n",
       "    .dataframe tbody tr th:only-of-type {\n",
       "        vertical-align: middle;\n",
       "    }\n",
       "\n",
       "    .dataframe tbody tr th {\n",
       "        vertical-align: top;\n",
       "    }\n",
       "\n",
       "    .dataframe thead th {\n",
       "        text-align: right;\n",
       "    }\n",
       "</style>\n",
       "<table border=\"1\" class=\"dataframe\">\n",
       "  <thead>\n",
       "    <tr style=\"text-align: right;\">\n",
       "      <th></th>\n",
       "      <th>Age(Yrs)</th>\n",
       "      <th>Race</th>\n",
       "      <th>Socio-Economic Status</th>\n",
       "      <th>Presence of HTR2A Gene</th>\n",
       "      <th>BMI</th>\n",
       "      <th>Obesity</th>\n",
       "      <th>Education</th>\n",
       "      <th>Type of Meals</th>\n",
       "      <th>Exercise Dur(Mins/day)</th>\n",
       "      <th>Lifestyle</th>\n",
       "      <th>...</th>\n",
       "      <th>Hypertension</th>\n",
       "      <th>Lowest O2 Desaturation(%)</th>\n",
       "      <th>Avg Apnea Dur(Secs)</th>\n",
       "      <th>Arousal Index</th>\n",
       "      <th>Percent NREM Sleep</th>\n",
       "      <th>Avg CPAP Use(hrs/night)</th>\n",
       "      <th>AHI-Post 12wks CPAP Use</th>\n",
       "      <th>Reduced Snoring-Post 12wks CPAP Use</th>\n",
       "      <th>Reduced Tiredness-Post 12wks CPAP Use</th>\n",
       "      <th>Reduced Daytime Sleepiness-Post 12wks CPAP Use</th>\n",
       "    </tr>\n",
       "  </thead>\n",
       "  <tbody>\n",
       "    <tr>\n",
       "      <th>84</th>\n",
       "      <td>34</td>\n",
       "      <td>Cauc</td>\n",
       "      <td>Low</td>\n",
       "      <td>Y</td>\n",
       "      <td>34.8</td>\n",
       "      <td>Y</td>\n",
       "      <td>HS</td>\n",
       "      <td>Packed</td>\n",
       "      <td>24.8</td>\n",
       "      <td>Sedentary</td>\n",
       "      <td>...</td>\n",
       "      <td>Y</td>\n",
       "      <td>86.8</td>\n",
       "      <td>19.3</td>\n",
       "      <td>15.59</td>\n",
       "      <td>0.95</td>\n",
       "      <td>5.75</td>\n",
       "      <td>13.7</td>\n",
       "      <td>4</td>\n",
       "      <td>4</td>\n",
       "      <td>4</td>\n",
       "    </tr>\n",
       "    <tr>\n",
       "      <th>2</th>\n",
       "      <td>34</td>\n",
       "      <td>Cauc</td>\n",
       "      <td>Middle</td>\n",
       "      <td>N</td>\n",
       "      <td>28.8</td>\n",
       "      <td>N</td>\n",
       "      <td>UG</td>\n",
       "      <td>Packed</td>\n",
       "      <td>24.0</td>\n",
       "      <td>Sedentary</td>\n",
       "      <td>...</td>\n",
       "      <td>N</td>\n",
       "      <td>88.8</td>\n",
       "      <td>16.1</td>\n",
       "      <td>14.77</td>\n",
       "      <td>0.95</td>\n",
       "      <td>6.32</td>\n",
       "      <td>20.3</td>\n",
       "      <td>4</td>\n",
       "      <td>4</td>\n",
       "      <td>4</td>\n",
       "    </tr>\n",
       "    <tr>\n",
       "      <th>191</th>\n",
       "      <td>38</td>\n",
       "      <td>Cauc</td>\n",
       "      <td>Middle</td>\n",
       "      <td>N</td>\n",
       "      <td>30.4</td>\n",
       "      <td>Y</td>\n",
       "      <td>HS</td>\n",
       "      <td>Fresh</td>\n",
       "      <td>43.6</td>\n",
       "      <td>Active</td>\n",
       "      <td>...</td>\n",
       "      <td>Y</td>\n",
       "      <td>90.8</td>\n",
       "      <td>22.1</td>\n",
       "      <td>17.12</td>\n",
       "      <td>0.90</td>\n",
       "      <td>5.88</td>\n",
       "      <td>28.8</td>\n",
       "      <td>4</td>\n",
       "      <td>4</td>\n",
       "      <td>4</td>\n",
       "    </tr>\n",
       "    <tr>\n",
       "      <th>98</th>\n",
       "      <td>48</td>\n",
       "      <td>Cauc</td>\n",
       "      <td>High</td>\n",
       "      <td>N</td>\n",
       "      <td>30.4</td>\n",
       "      <td>Y</td>\n",
       "      <td>PG</td>\n",
       "      <td>Fresh</td>\n",
       "      <td>90.0</td>\n",
       "      <td>Active</td>\n",
       "      <td>...</td>\n",
       "      <td>N</td>\n",
       "      <td>90.9</td>\n",
       "      <td>21.8</td>\n",
       "      <td>16.54</td>\n",
       "      <td>0.90</td>\n",
       "      <td>5.87</td>\n",
       "      <td>20.2</td>\n",
       "      <td>4</td>\n",
       "      <td>4</td>\n",
       "      <td>4</td>\n",
       "    </tr>\n",
       "    <tr>\n",
       "      <th>179</th>\n",
       "      <td>24</td>\n",
       "      <td>Cauc</td>\n",
       "      <td>High</td>\n",
       "      <td>N</td>\n",
       "      <td>26.0</td>\n",
       "      <td>N</td>\n",
       "      <td>PG</td>\n",
       "      <td>Fresh</td>\n",
       "      <td>60.0</td>\n",
       "      <td>Active</td>\n",
       "      <td>...</td>\n",
       "      <td>N</td>\n",
       "      <td>86.3</td>\n",
       "      <td>15.3</td>\n",
       "      <td>13.77</td>\n",
       "      <td>0.90</td>\n",
       "      <td>6.29</td>\n",
       "      <td>35.4</td>\n",
       "      <td>4</td>\n",
       "      <td>4</td>\n",
       "      <td>4</td>\n",
       "    </tr>\n",
       "  </tbody>\n",
       "</table>\n",
       "<p>5 rows × 22 columns</p>\n",
       "</div>"
      ],
      "text/plain": [
       "     Age(Yrs)  Race Socio-Economic Status Presence of HTR2A Gene   BMI  \\\n",
       "84         34  Cauc                   Low                      Y  34.8   \n",
       "2          34  Cauc                Middle                      N  28.8   \n",
       "191        38  Cauc                Middle                      N  30.4   \n",
       "98         48  Cauc                  High                      N  30.4   \n",
       "179        24  Cauc                  High                      N  26.0   \n",
       "\n",
       "    Obesity Education Type of Meals  Exercise Dur(Mins/day)  Lifestyle  ...  \\\n",
       "84        Y        HS        Packed                    24.8  Sedentary  ...   \n",
       "2         N        UG        Packed                    24.0  Sedentary  ...   \n",
       "191       Y        HS         Fresh                    43.6     Active  ...   \n",
       "98        Y        PG         Fresh                    90.0     Active  ...   \n",
       "179       N        PG         Fresh                    60.0     Active  ...   \n",
       "\n",
       "     Hypertension  Lowest O2 Desaturation(%) Avg Apnea Dur(Secs)  \\\n",
       "84              Y                       86.8                19.3   \n",
       "2               N                       88.8                16.1   \n",
       "191             Y                       90.8                22.1   \n",
       "98              N                       90.9                21.8   \n",
       "179             N                       86.3                15.3   \n",
       "\n",
       "     Arousal Index  Percent NREM Sleep  Avg CPAP Use(hrs/night)  \\\n",
       "84           15.59                0.95                     5.75   \n",
       "2            14.77                0.95                     6.32   \n",
       "191          17.12                0.90                     5.88   \n",
       "98           16.54                0.90                     5.87   \n",
       "179          13.77                0.90                     6.29   \n",
       "\n",
       "     AHI-Post 12wks CPAP Use  Reduced Snoring-Post 12wks CPAP Use  \\\n",
       "84                      13.7                                    4   \n",
       "2                       20.3                                    4   \n",
       "191                     28.8                                    4   \n",
       "98                      20.2                                    4   \n",
       "179                     35.4                                    4   \n",
       "\n",
       "     Reduced Tiredness-Post 12wks CPAP Use  \\\n",
       "84                                       4   \n",
       "2                                        4   \n",
       "191                                      4   \n",
       "98                                       4   \n",
       "179                                      4   \n",
       "\n",
       "     Reduced Daytime Sleepiness-Post 12wks CPAP Use  \n",
       "84                                                4  \n",
       "2                                                 4  \n",
       "191                                               4  \n",
       "98                                                4  \n",
       "179                                               4  \n",
       "\n",
       "[5 rows x 22 columns]"
      ]
     },
     "execution_count": 27,
     "metadata": {},
     "output_type": "execute_result"
    }
   ],
   "source": [
    "# display a sample of 5 rows\n",
    "df.sample(5, random_state=8)"
   ]
  },
  {
   "cell_type": "markdown",
   "metadata": {},
   "source": [
    "> we can now see that Lifestyle, Type of Meals, SocioEconomic Status, Obesity, Hypertension columns all have the values populated correctly"
   ]
  },
  {
   "cell_type": "code",
   "execution_count": 28,
   "metadata": {},
   "outputs": [
    {
     "data": {
      "text/html": [
       "<div>\n",
       "<style scoped>\n",
       "    .dataframe tbody tr th:only-of-type {\n",
       "        vertical-align: middle;\n",
       "    }\n",
       "\n",
       "    .dataframe tbody tr th {\n",
       "        vertical-align: top;\n",
       "    }\n",
       "\n",
       "    .dataframe thead th {\n",
       "        text-align: right;\n",
       "    }\n",
       "</style>\n",
       "<table border=\"1\" class=\"dataframe\">\n",
       "  <thead>\n",
       "    <tr style=\"text-align: right;\">\n",
       "      <th></th>\n",
       "      <th>Age(Yrs)</th>\n",
       "      <th>Race</th>\n",
       "      <th>Socio-Economic Status</th>\n",
       "      <th>Presence of HTR2A Gene</th>\n",
       "      <th>BMI</th>\n",
       "      <th>Obesity</th>\n",
       "      <th>Education</th>\n",
       "      <th>Type of Meals</th>\n",
       "      <th>Exercise Dur(Mins/day)</th>\n",
       "      <th>Lifestyle</th>\n",
       "      <th>...</th>\n",
       "      <th>Hypertension</th>\n",
       "      <th>Lowest O2 Desaturation(%)</th>\n",
       "      <th>Avg Apnea Dur(Secs)</th>\n",
       "      <th>Arousal Index</th>\n",
       "      <th>Percent NREM Sleep</th>\n",
       "      <th>Avg CPAP Use(hrs/night)</th>\n",
       "      <th>AHI-Post 12wks CPAP Use</th>\n",
       "      <th>Reduced Snoring-Post 12wks CPAP Use</th>\n",
       "      <th>Reduced Tiredness-Post 12wks CPAP Use</th>\n",
       "      <th>Reduced Daytime Sleepiness-Post 12wks CPAP Use</th>\n",
       "    </tr>\n",
       "  </thead>\n",
       "  <tbody>\n",
       "    <tr>\n",
       "      <th>35</th>\n",
       "      <td>34</td>\n",
       "      <td>Cauc</td>\n",
       "      <td>Low</td>\n",
       "      <td>Y</td>\n",
       "      <td>32.4</td>\n",
       "      <td>Y</td>\n",
       "      <td>HS</td>\n",
       "      <td>Packed</td>\n",
       "      <td>19.8</td>\n",
       "      <td>Sedentary</td>\n",
       "      <td>...</td>\n",
       "      <td>Y</td>\n",
       "      <td>88.5</td>\n",
       "      <td>17.9</td>\n",
       "      <td>12.89</td>\n",
       "      <td>0.94</td>\n",
       "      <td>5.93</td>\n",
       "      <td>15.0</td>\n",
       "      <td>4</td>\n",
       "      <td>4</td>\n",
       "      <td>4</td>\n",
       "    </tr>\n",
       "    <tr>\n",
       "      <th>129</th>\n",
       "      <td>51</td>\n",
       "      <td>AA</td>\n",
       "      <td>Middle</td>\n",
       "      <td>Y</td>\n",
       "      <td>33.0</td>\n",
       "      <td>Y</td>\n",
       "      <td>UG</td>\n",
       "      <td>Packed</td>\n",
       "      <td>60.4</td>\n",
       "      <td>Active</td>\n",
       "      <td>...</td>\n",
       "      <td>Y</td>\n",
       "      <td>86.0</td>\n",
       "      <td>21.4</td>\n",
       "      <td>34.51</td>\n",
       "      <td>0.81</td>\n",
       "      <td>3.88</td>\n",
       "      <td>52.9</td>\n",
       "      <td>1</td>\n",
       "      <td>2</td>\n",
       "      <td>1</td>\n",
       "    </tr>\n",
       "    <tr>\n",
       "      <th>104</th>\n",
       "      <td>33</td>\n",
       "      <td>AA</td>\n",
       "      <td>Low</td>\n",
       "      <td>Y</td>\n",
       "      <td>32.0</td>\n",
       "      <td>Y</td>\n",
       "      <td>HS</td>\n",
       "      <td>Packed</td>\n",
       "      <td>19.1</td>\n",
       "      <td>Sedentary</td>\n",
       "      <td>...</td>\n",
       "      <td>Y</td>\n",
       "      <td>81.7</td>\n",
       "      <td>44.6</td>\n",
       "      <td>15.39</td>\n",
       "      <td>0.82</td>\n",
       "      <td>3.90</td>\n",
       "      <td>43.6</td>\n",
       "      <td>2</td>\n",
       "      <td>1</td>\n",
       "      <td>2</td>\n",
       "    </tr>\n",
       "    <tr>\n",
       "      <th>116</th>\n",
       "      <td>24</td>\n",
       "      <td>AA</td>\n",
       "      <td>Low</td>\n",
       "      <td>Y</td>\n",
       "      <td>28.0</td>\n",
       "      <td>N</td>\n",
       "      <td>HS</td>\n",
       "      <td>Packed</td>\n",
       "      <td>10.5</td>\n",
       "      <td>Sedentary</td>\n",
       "      <td>...</td>\n",
       "      <td>N</td>\n",
       "      <td>85.1</td>\n",
       "      <td>33.7</td>\n",
       "      <td>26.04</td>\n",
       "      <td>0.72</td>\n",
       "      <td>4.23</td>\n",
       "      <td>44.0</td>\n",
       "      <td>2</td>\n",
       "      <td>2</td>\n",
       "      <td>2</td>\n",
       "    </tr>\n",
       "    <tr>\n",
       "      <th>207</th>\n",
       "      <td>33</td>\n",
       "      <td>Cauc</td>\n",
       "      <td>Middle</td>\n",
       "      <td>Y</td>\n",
       "      <td>30.0</td>\n",
       "      <td>Y</td>\n",
       "      <td>PG</td>\n",
       "      <td>Packed</td>\n",
       "      <td>15.2</td>\n",
       "      <td>Sedentary</td>\n",
       "      <td>...</td>\n",
       "      <td>N</td>\n",
       "      <td>91.7</td>\n",
       "      <td>35.2</td>\n",
       "      <td>11.06</td>\n",
       "      <td>0.84</td>\n",
       "      <td>5.54</td>\n",
       "      <td>18.4</td>\n",
       "      <td>4</td>\n",
       "      <td>3</td>\n",
       "      <td>5</td>\n",
       "    </tr>\n",
       "    <tr>\n",
       "      <th>203</th>\n",
       "      <td>54</td>\n",
       "      <td>AA</td>\n",
       "      <td>Middle</td>\n",
       "      <td>Y</td>\n",
       "      <td>25.4</td>\n",
       "      <td>N</td>\n",
       "      <td>UG</td>\n",
       "      <td>Fresh</td>\n",
       "      <td>50.0</td>\n",
       "      <td>Active</td>\n",
       "      <td>...</td>\n",
       "      <td>Y</td>\n",
       "      <td>84.3</td>\n",
       "      <td>21.7</td>\n",
       "      <td>30.68</td>\n",
       "      <td>0.88</td>\n",
       "      <td>4.85</td>\n",
       "      <td>37.9</td>\n",
       "      <td>1</td>\n",
       "      <td>1</td>\n",
       "      <td>1</td>\n",
       "    </tr>\n",
       "  </tbody>\n",
       "</table>\n",
       "<p>6 rows × 22 columns</p>\n",
       "</div>"
      ],
      "text/plain": [
       "     Age(Yrs)  Race Socio-Economic Status Presence of HTR2A Gene   BMI  \\\n",
       "35         34  Cauc                   Low                      Y  32.4   \n",
       "129        51    AA                Middle                      Y  33.0   \n",
       "104        33    AA                   Low                      Y  32.0   \n",
       "116        24    AA                   Low                      Y  28.0   \n",
       "207        33  Cauc                Middle                      Y  30.0   \n",
       "203        54    AA                Middle                      Y  25.4   \n",
       "\n",
       "    Obesity Education Type of Meals  Exercise Dur(Mins/day)  Lifestyle  ...  \\\n",
       "35        Y        HS        Packed                    19.8  Sedentary  ...   \n",
       "129       Y        UG        Packed                    60.4     Active  ...   \n",
       "104       Y        HS        Packed                    19.1  Sedentary  ...   \n",
       "116       N        HS        Packed                    10.5  Sedentary  ...   \n",
       "207       Y        PG        Packed                    15.2  Sedentary  ...   \n",
       "203       N        UG         Fresh                    50.0     Active  ...   \n",
       "\n",
       "     Hypertension  Lowest O2 Desaturation(%) Avg Apnea Dur(Secs)  \\\n",
       "35              Y                       88.5                17.9   \n",
       "129             Y                       86.0                21.4   \n",
       "104             Y                       81.7                44.6   \n",
       "116             N                       85.1                33.7   \n",
       "207             N                       91.7                35.2   \n",
       "203             Y                       84.3                21.7   \n",
       "\n",
       "     Arousal Index  Percent NREM Sleep  Avg CPAP Use(hrs/night)  \\\n",
       "35           12.89                0.94                     5.93   \n",
       "129          34.51                0.81                     3.88   \n",
       "104          15.39                0.82                     3.90   \n",
       "116          26.04                0.72                     4.23   \n",
       "207          11.06                0.84                     5.54   \n",
       "203          30.68                0.88                     4.85   \n",
       "\n",
       "     AHI-Post 12wks CPAP Use  Reduced Snoring-Post 12wks CPAP Use  \\\n",
       "35                      15.0                                    4   \n",
       "129                     52.9                                    1   \n",
       "104                     43.6                                    2   \n",
       "116                     44.0                                    2   \n",
       "207                     18.4                                    4   \n",
       "203                     37.9                                    1   \n",
       "\n",
       "     Reduced Tiredness-Post 12wks CPAP Use  \\\n",
       "35                                       4   \n",
       "129                                      2   \n",
       "104                                      1   \n",
       "116                                      2   \n",
       "207                                      3   \n",
       "203                                      1   \n",
       "\n",
       "     Reduced Daytime Sleepiness-Post 12wks CPAP Use  \n",
       "35                                                4  \n",
       "129                                               1  \n",
       "104                                               2  \n",
       "116                                               2  \n",
       "207                                               5  \n",
       "203                                               1  \n",
       "\n",
       "[6 rows x 22 columns]"
      ]
     },
     "execution_count": 28,
     "metadata": {},
     "output_type": "execute_result"
    }
   ],
   "source": [
    "# Lets check a sample size of even number of records\n",
    "df.sample(6, random_state=42)"
   ]
  },
  {
   "cell_type": "markdown",
   "metadata": {},
   "source": [
    "> As we can see we now have an even distribution of the column values amongst the columns to get better understanding of the data here in our df"
   ]
  },
  {
   "cell_type": "code",
   "execution_count": 29,
   "metadata": {},
   "outputs": [
    {
     "data": {
      "text/html": [
       "<div>\n",
       "<style scoped>\n",
       "    .dataframe tbody tr th:only-of-type {\n",
       "        vertical-align: middle;\n",
       "    }\n",
       "\n",
       "    .dataframe tbody tr th {\n",
       "        vertical-align: top;\n",
       "    }\n",
       "\n",
       "    .dataframe thead th {\n",
       "        text-align: right;\n",
       "    }\n",
       "</style>\n",
       "<table border=\"1\" class=\"dataframe\">\n",
       "  <thead>\n",
       "    <tr style=\"text-align: right;\">\n",
       "      <th></th>\n",
       "      <th>Race</th>\n",
       "      <th>Age(Yrs)</th>\n",
       "      <th>Socio-Economic Status</th>\n",
       "      <th>Presence of HTR2A Gene</th>\n",
       "      <th>Education</th>\n",
       "      <th>BMI</th>\n",
       "      <th>Obesity</th>\n",
       "      <th>Type of Meals</th>\n",
       "      <th>Exercise Dur(Mins/day)</th>\n",
       "      <th>Lifestyle</th>\n",
       "      <th>...</th>\n",
       "      <th>Hypertension</th>\n",
       "      <th>Lowest O2 Desaturation(%)</th>\n",
       "      <th>Avg Apnea Dur(Secs)</th>\n",
       "      <th>Arousal Index</th>\n",
       "      <th>Percent NREM Sleep</th>\n",
       "      <th>Avg CPAP Use(hrs/night)</th>\n",
       "      <th>AHI-Post 12wks CPAP Use</th>\n",
       "      <th>Reduced Snoring-Post 12wks CPAP Use</th>\n",
       "      <th>Reduced Tiredness-Post 12wks CPAP Use</th>\n",
       "      <th>Reduced Daytime Sleepiness-Post 12wks CPAP Use</th>\n",
       "    </tr>\n",
       "  </thead>\n",
       "  <tbody>\n",
       "    <tr>\n",
       "      <th>52</th>\n",
       "      <td>AA</td>\n",
       "      <td>59</td>\n",
       "      <td>Middle</td>\n",
       "      <td>Y</td>\n",
       "      <td>UG</td>\n",
       "      <td>35.4</td>\n",
       "      <td>Y</td>\n",
       "      <td>Fresh</td>\n",
       "      <td>30.0</td>\n",
       "      <td>Active</td>\n",
       "      <td>...</td>\n",
       "      <td>Y</td>\n",
       "      <td>82.9</td>\n",
       "      <td>27.8</td>\n",
       "      <td>23.08</td>\n",
       "      <td>0.83</td>\n",
       "      <td>4.55</td>\n",
       "      <td>72.4</td>\n",
       "      <td>2</td>\n",
       "      <td>1</td>\n",
       "      <td>2</td>\n",
       "    </tr>\n",
       "    <tr>\n",
       "      <th>66</th>\n",
       "      <td>AA</td>\n",
       "      <td>59</td>\n",
       "      <td>Low</td>\n",
       "      <td>Y</td>\n",
       "      <td>HS</td>\n",
       "      <td>30.4</td>\n",
       "      <td>Y</td>\n",
       "      <td>Packed</td>\n",
       "      <td>25.3</td>\n",
       "      <td>Sedentary</td>\n",
       "      <td>...</td>\n",
       "      <td>N</td>\n",
       "      <td>82.9</td>\n",
       "      <td>25.0</td>\n",
       "      <td>31.86</td>\n",
       "      <td>0.66</td>\n",
       "      <td>3.42</td>\n",
       "      <td>27.1</td>\n",
       "      <td>2</td>\n",
       "      <td>1</td>\n",
       "      <td>1</td>\n",
       "    </tr>\n",
       "  </tbody>\n",
       "</table>\n",
       "<p>2 rows × 22 columns</p>\n",
       "</div>"
      ],
      "text/plain": [
       "   Race  Age(Yrs) Socio-Economic Status Presence of HTR2A Gene Education  \\\n",
       "52   AA        59                Middle                      Y        UG   \n",
       "66   AA        59                   Low                      Y        HS   \n",
       "\n",
       "     BMI Obesity Type of Meals  Exercise Dur(Mins/day)  Lifestyle  ...  \\\n",
       "52  35.4       Y         Fresh                    30.0     Active  ...   \n",
       "66  30.4       Y        Packed                    25.3  Sedentary  ...   \n",
       "\n",
       "    Hypertension  Lowest O2 Desaturation(%) Avg Apnea Dur(Secs)  \\\n",
       "52             Y                       82.9                27.8   \n",
       "66             N                       82.9                25.0   \n",
       "\n",
       "    Arousal Index  Percent NREM Sleep  Avg CPAP Use(hrs/night)  \\\n",
       "52          23.08                0.83                     4.55   \n",
       "66          31.86                0.66                     3.42   \n",
       "\n",
       "    AHI-Post 12wks CPAP Use  Reduced Snoring-Post 12wks CPAP Use  \\\n",
       "52                     72.4                                    2   \n",
       "66                     27.1                                    2   \n",
       "\n",
       "    Reduced Tiredness-Post 12wks CPAP Use  \\\n",
       "52                                      1   \n",
       "66                                      1   \n",
       "\n",
       "    Reduced Daytime Sleepiness-Post 12wks CPAP Use  \n",
       "52                                               2  \n",
       "66                                               1  \n",
       "\n",
       "[2 rows x 22 columns]"
      ]
     },
     "execution_count": 29,
     "metadata": {},
     "output_type": "execute_result"
    }
   ],
   "source": [
    "# After the update to the column names, the vlues in few of them and also to the types of the few columns \n",
    "# lets rearrange the columns position inside the new dataframe\n",
    "df=df[[\"Race\",\"Age(Yrs)\",\"Socio-Economic Status\",\"Presence of HTR2A Gene\",\"Education\",\"BMI\",\"Obesity\",\n",
    "\"Type of Meals\",\"Exercise Dur(Mins/day)\",\"Lifestyle\",\"Phy Hlth Index\",\"AHI\",\"Hypertension\",\"Lowest O2 Desaturation(%)\"\n",
    ",\"Avg Apnea Dur(Secs)\",\"Arousal Index\",\"Percent NREM Sleep\",\"Avg CPAP Use(hrs/night)\",\"AHI-Post 12wks CPAP Use\",\n",
    "\"Reduced Snoring-Post 12wks CPAP Use\",\"Reduced Tiredness-Post 12wks CPAP Use\",\n",
    "       \"Reduced Daytime Sleepiness-Post 12wks CPAP Use\"]]\n",
    "df.head(2)"
   ]
  },
  {
   "cell_type": "markdown",
   "metadata": {},
   "source": [
    "> As we can see we now have the Race column as our first column which we would be using as a categorical elements and also other column positions have been rearranged "
   ]
  },
  {
   "cell_type": "code",
   "execution_count": 30,
   "metadata": {},
   "outputs": [
    {
     "name": "stdout",
     "output_type": "stream",
     "text": [
      "<class 'pandas.core.frame.DataFrame'>\n",
      "Int64Index: 208 entries, 52 to 177\n",
      "Data columns (total 22 columns):\n",
      " #   Column                                          Non-Null Count  Dtype   \n",
      "---  ------                                          --------------  -----   \n",
      " 0   Race                                            208 non-null    category\n",
      " 1   Age(Yrs)                                        208 non-null    int64   \n",
      " 2   Socio-Economic Status                           208 non-null    object  \n",
      " 3   Presence of HTR2A Gene                          208 non-null    object  \n",
      " 4   Education                                       208 non-null    object  \n",
      " 5   BMI                                             208 non-null    float64 \n",
      " 6   Obesity                                         208 non-null    object  \n",
      " 7   Type of Meals                                   208 non-null    object  \n",
      " 8   Exercise Dur(Mins/day)                          208 non-null    float64 \n",
      " 9   Lifestyle                                       208 non-null    object  \n",
      " 10  Phy Hlth Index                                  201 non-null    float64 \n",
      " 11  AHI                                             208 non-null    float64 \n",
      " 12  Hypertension                                    208 non-null    object  \n",
      " 13  Lowest O2 Desaturation(%)                       208 non-null    float64 \n",
      " 14  Avg Apnea Dur(Secs)                             208 non-null    float64 \n",
      " 15  Arousal Index                                   208 non-null    float64 \n",
      " 16  Percent NREM Sleep                              208 non-null    float64 \n",
      " 17  Avg CPAP Use(hrs/night)                         208 non-null    float64 \n",
      " 18  AHI-Post 12wks CPAP Use                         208 non-null    float64 \n",
      " 19  Reduced Snoring-Post 12wks CPAP Use             208 non-null    int64   \n",
      " 20  Reduced Tiredness-Post 12wks CPAP Use           208 non-null    int64   \n",
      " 21  Reduced Daytime Sleepiness-Post 12wks CPAP Use  208 non-null    int64   \n",
      "dtypes: category(1), float64(10), int64(4), object(7)\n",
      "memory usage: 36.1+ KB\n"
     ]
    }
   ],
   "source": [
    "# With the sorting, rearrangement, column updates in the df covered, \n",
    "# lets now concentrate on the columns that have missing (null) values \n",
    "# lets take another look at the new dataframe\n",
    "df.info()"
   ]
  },
  {
   "cell_type": "markdown",
   "metadata": {},
   "source": [
    "> We see that Phy Health Index column which is important for a part of data analysis has null values.\n",
    "> One way of the handling the null values for Phy Hlth Index column is by finding the mean, mode and mode of Phy Health Index values for each category of Race (African-American, Caucasian).Then use the appropriate value to fill the missing Phy Health Index values in each category\n",
    "> But before deciding on using the mean or mode or median values to fill null Phy Health Index values, we need to check if there are too many outliers in each category"
   ]
  },
  {
   "cell_type": "code",
   "execution_count": 31,
   "metadata": {},
   "outputs": [],
   "source": [
    "# group the dataset using the Race (category) column\n",
    "category_group=df.groupby(by=\"Race\")"
   ]
  },
  {
   "cell_type": "code",
   "execution_count": 32,
   "metadata": {},
   "outputs": [
    {
     "data": {
      "text/plain": [
       "3"
      ]
     },
     "execution_count": 32,
     "metadata": {},
     "output_type": "execute_result"
    }
   ],
   "source": [
    "# find null values for Physical Health Index in each group\n",
    "category_group.get_group(\"AA\")[\"Phy Hlth Index\"].isnull().sum()"
   ]
  },
  {
   "cell_type": "markdown",
   "metadata": {},
   "source": [
    "> We have 3 null Phy Health Index values in \"AA\" Race category"
   ]
  },
  {
   "cell_type": "code",
   "execution_count": 33,
   "metadata": {},
   "outputs": [
    {
     "data": {
      "text/plain": [
       "7"
      ]
     },
     "execution_count": 33,
     "metadata": {},
     "output_type": "execute_result"
    }
   ],
   "source": [
    "# the total null values for Physical Health Index in the dataframe\n",
    "df[\"Phy Hlth Index\"].isnull().sum()"
   ]
  },
  {
   "cell_type": "markdown",
   "metadata": {},
   "source": [
    "> We have a total 7 null Phy Health Index values in the whole dataset. So we do have some missing Phy Health Index values belonging to \"CAUC\" Race too. Lets see what the distribution of the Phy Health Index in each category looks like."
   ]
  },
  {
   "cell_type": "code",
   "execution_count": 34,
   "metadata": {},
   "outputs": [],
   "source": [
    "# lets create a function that takes group name and the column name as arguments and returns a hist chart \n",
    "# with the value counts\n",
    "\n",
    "def histplot(group_name,column_name):\n",
    "    '''\n",
    "    This function provides the counts of values in a column of a specific group and plot it in hist plot\n",
    "    Inputs: group_name, column_name\n",
    "    Output: plot a hist plot of value counts of a column in a specific group\n",
    "    '''\n",
    "    category_group.get_group(group_name)[column_name].plot(kind=\"hist\")\n",
    "    plt.title(column_name)"
   ]
  },
  {
   "cell_type": "code",
   "execution_count": 35,
   "metadata": {},
   "outputs": [
    {
     "data": {
      "image/png": "[encoded data removed]",
      "text/plain": [
       "<Figure size 432x288 with 1 Axes>"
      ]
     },
     "metadata": {
      "needs_background": "light"
     },
     "output_type": "display_data"
    }
   ],
   "source": [
    "# lets call the histplot function and pass \"AA\",\"Phy Hlth Index\" as its first arguments for group and column names\n",
    "histplot(\"AA\",\"Phy Hlth Index\")"
   ]
  },
  {
   "cell_type": "markdown",
   "metadata": {},
   "source": [
    "> As we can see the histrogram is being skewed by two large values (shows presence of outliers).Therefore, in this situation, we would like to have a better measure of central tendency. We can use either the mean or median value to fill the missing values in Physical Health Index column "
   ]
  },
  {
   "cell_type": "code",
   "execution_count": 36,
   "metadata": {},
   "outputs": [
    {
     "data": {
      "image/png": "[encoded data removed]",
      "text/plain": [
       "<Figure size 432x288 with 1 Axes>"
      ]
     },
     "metadata": {
      "needs_background": "light"
     },
     "output_type": "display_data"
    }
   ],
   "source": [
    "# lets call the histplot function and pass \"Cauc\",\"Phy Hlth Index\" as its Second arguments for group and column names\n",
    "histplot(\"Cauc\",\"Phy Hlth Index\")"
   ]
  },
  {
   "cell_type": "markdown",
   "metadata": {},
   "source": [
    "> As we can see the histrogram is somewhat right skewed (but not completely). We can again use either the mean or median value to fill the missing values in Physical Health Index column "
   ]
  },
  {
   "cell_type": "code",
   "execution_count": 37,
   "metadata": {},
   "outputs": [
    {
     "data": {
      "text/plain": [
       "2.12"
      ]
     },
     "execution_count": 37,
     "metadata": {},
     "output_type": "execute_result"
    }
   ],
   "source": [
    "# calculate the mode for \"AA\" Physical Health Index\n",
    "category_group.get_group(\"AA\")[\"Phy Hlth Index\"].mode()[0]"
   ]
  },
  {
   "cell_type": "code",
   "execution_count": 38,
   "metadata": {},
   "outputs": [
    {
     "data": {
      "text/plain": [
       "1.43"
      ]
     },
     "execution_count": 38,
     "metadata": {},
     "output_type": "execute_result"
    }
   ],
   "source": [
    "# calculate the median for \"AA\" Physical Health Index\n",
    "category_group.get_group(\"AA\")[\"Phy Hlth Index\"].median()"
   ]
  },
  {
   "cell_type": "code",
   "execution_count": 39,
   "metadata": {},
   "outputs": [
    {
     "data": {
      "text/plain": [
       "1.553861386138614"
      ]
     },
     "execution_count": 39,
     "metadata": {},
     "output_type": "execute_result"
    }
   ],
   "source": [
    "# calculate the mean for \"AA\" Physical Health Index\n",
    "category_group.get_group(\"AA\")[\"Phy Hlth Index\"].mean()"
   ]
  },
  {
   "cell_type": "markdown",
   "metadata": {},
   "source": [
    "> The mean and median for Physical Health Index in AA group is 1.554,1.43"
   ]
  },
  {
   "cell_type": "code",
   "execution_count": 40,
   "metadata": {},
   "outputs": [
    {
     "data": {
      "text/plain": [
       "1.39"
      ]
     },
     "execution_count": 40,
     "metadata": {},
     "output_type": "execute_result"
    }
   ],
   "source": [
    "# calculate the mode for \"Cauc\" Physical Health Index\n",
    "category_group.get_group(\"Cauc\")[\"Phy Hlth Index\"].mode()[0]"
   ]
  },
  {
   "cell_type": "code",
   "execution_count": 41,
   "metadata": {},
   "outputs": [
    {
     "data": {
      "text/plain": [
       "2.115"
      ]
     },
     "execution_count": 41,
     "metadata": {},
     "output_type": "execute_result"
    }
   ],
   "source": [
    "# calculate the median for \"Cauc\" Physical Health Index\n",
    "category_group.get_group(\"Cauc\")[\"Phy Hlth Index\"].median()"
   ]
  },
  {
   "cell_type": "code",
   "execution_count": 42,
   "metadata": {},
   "outputs": [
    {
     "data": {
      "text/plain": [
       "2.0305"
      ]
     },
     "execution_count": 42,
     "metadata": {},
     "output_type": "execute_result"
    }
   ],
   "source": [
    "# calculate the mean for \"Cauc\" Physical Health Index\n",
    "category_group.get_group(\"Cauc\")[\"Phy Hlth Index\"].mean()"
   ]
  },
  {
   "cell_type": "markdown",
   "metadata": {},
   "source": [
    "> The mean and median for Physical Health Index in Cauc group is 2.0305,2.115"
   ]
  },
  {
   "cell_type": "markdown",
   "metadata": {},
   "source": [
    "> We see that the median and mean value is pretty close by for each of these categories. So we can just use the mean values to fill the missing values in Phy Hlth Index "
   ]
  },
  {
   "cell_type": "code",
   "execution_count": 43,
   "metadata": {},
   "outputs": [],
   "source": [
    "# fill the null values in Phy Hlth Index using the mean value of each category\n",
    "df[\"Phy Hlth Index\"]=df.groupby(\"Race\")[\"Phy Hlth Index\"].apply(lambda x: x.fillna(x.mean()))"
   ]
  },
  {
   "cell_type": "code",
   "execution_count": 44,
   "metadata": {},
   "outputs": [
    {
     "name": "stdout",
     "output_type": "stream",
     "text": [
      "<class 'pandas.core.series.Series'>\n",
      "Int64Index: 208 entries, 52 to 177\n",
      "Series name: Phy Hlth Index\n",
      "Non-Null Count  Dtype  \n",
      "--------------  -----  \n",
      "208 non-null    float64\n",
      "dtypes: float64(1)\n",
      "memory usage: 3.2 KB\n"
     ]
    }
   ],
   "source": [
    "# check to see if there are any null valuesleft after fillna() operation to our column\n",
    "df[\"Phy Hlth Index\"].info()"
   ]
  },
  {
   "cell_type": "markdown",
   "metadata": {},
   "source": [
    ">Good! There are no more missing values in Phy Hlth Index column"
   ]
  },
  {
   "cell_type": "markdown",
   "metadata": {},
   "source": [
    "#### Section 4. Evaluation"
   ]
  },
  {
   "cell_type": "markdown",
   "metadata": {},
   "source": [
    "Question 1:  What are the impacts of the Preventable Factors over Sleep Apnea amongst different races?"
   ]
  },
  {
   "cell_type": "code",
   "execution_count": 45,
   "metadata": {
    "scrolled": false
   },
   "outputs": [
    {
     "data": {
      "text/html": [
       "<div>\n",
       "<style scoped>\n",
       "    .dataframe tbody tr th:only-of-type {\n",
       "        vertical-align: middle;\n",
       "    }\n",
       "\n",
       "    .dataframe tbody tr th {\n",
       "        vertical-align: top;\n",
       "    }\n",
       "\n",
       "    .dataframe thead th {\n",
       "        text-align: right;\n",
       "    }\n",
       "</style>\n",
       "<table border=\"1\" class=\"dataframe\">\n",
       "  <thead>\n",
       "    <tr style=\"text-align: right;\">\n",
       "      <th></th>\n",
       "      <th>Race</th>\n",
       "      <th>Education</th>\n",
       "      <th>BMI</th>\n",
       "      <th>Obesity</th>\n",
       "      <th>Type of Meals</th>\n",
       "      <th>Exercise Dur(Mins/day)</th>\n",
       "      <th>Lifestyle</th>\n",
       "      <th>Phy Hlth Index</th>\n",
       "      <th>Avg CPAP Use(hrs/night)</th>\n",
       "    </tr>\n",
       "  </thead>\n",
       "  <tbody>\n",
       "    <tr>\n",
       "      <th>52</th>\n",
       "      <td>AA</td>\n",
       "      <td>UG</td>\n",
       "      <td>35.4</td>\n",
       "      <td>Y</td>\n",
       "      <td>Fresh</td>\n",
       "      <td>30.0</td>\n",
       "      <td>Active</td>\n",
       "      <td>0.87</td>\n",
       "      <td>4.55</td>\n",
       "    </tr>\n",
       "    <tr>\n",
       "      <th>66</th>\n",
       "      <td>AA</td>\n",
       "      <td>HS</td>\n",
       "      <td>30.4</td>\n",
       "      <td>Y</td>\n",
       "      <td>Packed</td>\n",
       "      <td>25.3</td>\n",
       "      <td>Sedentary</td>\n",
       "      <td>1.42</td>\n",
       "      <td>3.42</td>\n",
       "    </tr>\n",
       "    <tr>\n",
       "      <th>158</th>\n",
       "      <td>AA</td>\n",
       "      <td>HS</td>\n",
       "      <td>34.8</td>\n",
       "      <td>Y</td>\n",
       "      <td>Packed</td>\n",
       "      <td>21.9</td>\n",
       "      <td>Sedentary</td>\n",
       "      <td>1.23</td>\n",
       "      <td>3.40</td>\n",
       "    </tr>\n",
       "    <tr>\n",
       "      <th>137</th>\n",
       "      <td>AA</td>\n",
       "      <td>HS</td>\n",
       "      <td>28.4</td>\n",
       "      <td>N</td>\n",
       "      <td>Packed</td>\n",
       "      <td>21.7</td>\n",
       "      <td>Sedentary</td>\n",
       "      <td>0.99</td>\n",
       "      <td>3.26</td>\n",
       "    </tr>\n",
       "    <tr>\n",
       "      <th>117</th>\n",
       "      <td>AA</td>\n",
       "      <td>UG</td>\n",
       "      <td>32.4</td>\n",
       "      <td>Y</td>\n",
       "      <td>Packed</td>\n",
       "      <td>15.2</td>\n",
       "      <td>Sedentary</td>\n",
       "      <td>1.05</td>\n",
       "      <td>3.54</td>\n",
       "    </tr>\n",
       "    <tr>\n",
       "      <th>...</th>\n",
       "      <td>...</td>\n",
       "      <td>...</td>\n",
       "      <td>...</td>\n",
       "      <td>...</td>\n",
       "      <td>...</td>\n",
       "      <td>...</td>\n",
       "      <td>...</td>\n",
       "      <td>...</td>\n",
       "      <td>...</td>\n",
       "    </tr>\n",
       "    <tr>\n",
       "      <th>85</th>\n",
       "      <td>Cauc</td>\n",
       "      <td>UG</td>\n",
       "      <td>25.4</td>\n",
       "      <td>N</td>\n",
       "      <td>Packed</td>\n",
       "      <td>19.0</td>\n",
       "      <td>Sedentary</td>\n",
       "      <td>1.26</td>\n",
       "      <td>6.03</td>\n",
       "    </tr>\n",
       "    <tr>\n",
       "      <th>163</th>\n",
       "      <td>Cauc</td>\n",
       "      <td>UG</td>\n",
       "      <td>26.0</td>\n",
       "      <td>N</td>\n",
       "      <td>Packed</td>\n",
       "      <td>15.6</td>\n",
       "      <td>Sedentary</td>\n",
       "      <td>1.31</td>\n",
       "      <td>5.69</td>\n",
       "    </tr>\n",
       "    <tr>\n",
       "      <th>51</th>\n",
       "      <td>Cauc</td>\n",
       "      <td>PG</td>\n",
       "      <td>29.0</td>\n",
       "      <td>N</td>\n",
       "      <td>Fresh</td>\n",
       "      <td>44.0</td>\n",
       "      <td>Active</td>\n",
       "      <td>1.36</td>\n",
       "      <td>5.84</td>\n",
       "    </tr>\n",
       "    <tr>\n",
       "      <th>56</th>\n",
       "      <td>Cauc</td>\n",
       "      <td>UG</td>\n",
       "      <td>31.7</td>\n",
       "      <td>Y</td>\n",
       "      <td>Fresh</td>\n",
       "      <td>45.0</td>\n",
       "      <td>Active</td>\n",
       "      <td>2.47</td>\n",
       "      <td>6.08</td>\n",
       "    </tr>\n",
       "    <tr>\n",
       "      <th>177</th>\n",
       "      <td>Cauc</td>\n",
       "      <td>HS</td>\n",
       "      <td>23.0</td>\n",
       "      <td>N</td>\n",
       "      <td>Packed</td>\n",
       "      <td>25.0</td>\n",
       "      <td>Sedentary</td>\n",
       "      <td>1.61</td>\n",
       "      <td>5.72</td>\n",
       "    </tr>\n",
       "  </tbody>\n",
       "</table>\n",
       "<p>208 rows × 9 columns</p>\n",
       "</div>"
      ],
      "text/plain": [
       "     Race Education   BMI Obesity Type of Meals  Exercise Dur(Mins/day)  \\\n",
       "52     AA        UG  35.4       Y         Fresh                    30.0   \n",
       "66     AA        HS  30.4       Y        Packed                    25.3   \n",
       "158    AA        HS  34.8       Y        Packed                    21.9   \n",
       "137    AA        HS  28.4       N        Packed                    21.7   \n",
       "117    AA        UG  32.4       Y        Packed                    15.2   \n",
       "..    ...       ...   ...     ...           ...                     ...   \n",
       "85   Cauc        UG  25.4       N        Packed                    19.0   \n",
       "163  Cauc        UG  26.0       N        Packed                    15.6   \n",
       "51   Cauc        PG  29.0       N         Fresh                    44.0   \n",
       "56   Cauc        UG  31.7       Y         Fresh                    45.0   \n",
       "177  Cauc        HS  23.0       N        Packed                    25.0   \n",
       "\n",
       "     Lifestyle  Phy Hlth Index  Avg CPAP Use(hrs/night)  \n",
       "52      Active            0.87                     4.55  \n",
       "66   Sedentary            1.42                     3.42  \n",
       "158  Sedentary            1.23                     3.40  \n",
       "137  Sedentary            0.99                     3.26  \n",
       "117  Sedentary            1.05                     3.54  \n",
       "..         ...             ...                      ...  \n",
       "85   Sedentary            1.26                     6.03  \n",
       "163  Sedentary            1.31                     5.69  \n",
       "51      Active            1.36                     5.84  \n",
       "56      Active            2.47                     6.08  \n",
       "177  Sedentary            1.61                     5.72  \n",
       "\n",
       "[208 rows x 9 columns]"
      ]
     },
     "execution_count": 45,
     "metadata": {},
     "output_type": "execute_result"
    }
   ],
   "source": [
    "#Preventable Factors \n",
    "#Lets first pick the columns with values for the Preventable factors for each Race Category\n",
    "df[[\"Race\",\"Education\",\"BMI\",\"Obesity\",\"Type of Meals\",\"Exercise Dur(Mins/day)\",\"Lifestyle\",\n",
    "    \"Phy Hlth Index\",\"Avg CPAP Use(hrs/night)\"]]"
   ]
  },
  {
   "cell_type": "code",
   "execution_count": 67,
   "metadata": {
    "scrolled": false
   },
   "outputs": [
    {
     "data": {
      "text/plain": [
       "array([<AxesSubplot:title={'center':'AA'}, ylabel='Frequency'>,\n",
       "       <AxesSubplot:title={'center':'Cauc'}, ylabel='Frequency'>],\n",
       "      dtype=object)"
      ]
     },
     "execution_count": 67,
     "metadata": {},
     "output_type": "execute_result"
    },
    {
     "data": {
      "image/png": "[encoded data removed]",
      "text/plain": [
       "<Figure size 576x576 with 2 Axes>"
      ]
     },
     "metadata": {
      "needs_background": "light"
     },
     "output_type": "display_data"
    }
   ],
   "source": [
    "#\"Race\",\"Education\",\"BMI\",\"Obesity\",\"Type of Meals\",\"Exercise Dur(Mins/day)\",\"Lifestyle\",\n",
    "# \"Phy Hlth Index\",\"Avg CPAP Use(hrs/night)\"\n",
    "#df.hist(column=[\"BMI\"],by=\"Race\", figsize=(8,8))\n",
    "df.plot.hist(column=[\"BMI\"],by=\"Race\", figsize=(8,8))"
   ]
  },
  {
   "cell_type": "markdown",
   "metadata": {},
   "source": [
    "> Based on the width of the above histograms, it is suggested that larger number of participants from African-American Race has higher BMIs than their counter parts of Caucasian decent."
   ]
  },
  {
   "cell_type": "code",
   "execution_count": 71,
   "metadata": {
    "scrolled": false
   },
   "outputs": [
    {
     "data": {
      "text/plain": [
       "array([<AxesSubplot:title={'center':'AA'}, ylabel='Frequency'>,\n",
       "       <AxesSubplot:title={'center':'Cauc'}, ylabel='Frequency'>],\n",
       "      dtype=object)"
      ]
     },
     "execution_count": 71,
     "metadata": {},
     "output_type": "execute_result"
    },
    {
     "data": {
      "image/png": "[encoded data removed]",
      "text/plain": [
       "<Figure size 576x576 with 2 Axes>"
      ]
     },
     "metadata": {
      "needs_background": "light"
     },
     "output_type": "display_data"
    }
   ],
   "source": [
    "#\"Race\",\"Education\",\"BMI\",\"Obesity\",\"Type of Meals\",\"Exercise Dur(Mins/day)\",\"Lifestyle\",\n",
    "# \"Phy Hlth Index\",\"Avg CPAP Use(hrs/night)\"\n",
    "df.plot.hist(column=[\"Exercise Dur(Mins/day)\"],by=\"Race\", figsize=(8,8))"
   ]
  },
  {
   "cell_type": "markdown",
   "metadata": {},
   "source": [
    "> Again based on the above histograms, it could be deduced that more partipants of Caucasian decent spent consistent amount of time exercising/day. Also the partipants from Cauc group had higher mins/day spent exercising than those from AA group."
   ]
  },
  {
   "cell_type": "code",
   "execution_count": 72,
   "metadata": {
    "scrolled": false
   },
   "outputs": [
    {
     "data": {
      "text/plain": [
       "array([<AxesSubplot:title={'center':'AA'}, ylabel='Frequency'>,\n",
       "       <AxesSubplot:title={'center':'Cauc'}, ylabel='Frequency'>],\n",
       "      dtype=object)"
      ]
     },
     "execution_count": 72,
     "metadata": {},
     "output_type": "execute_result"
    },
    {
     "data": {
      "image/png": "[encoded data removed]",
      "text/plain": [
       "<Figure size 576x576 with 2 Axes>"
      ]
     },
     "metadata": {
      "needs_background": "light"
     },
     "output_type": "display_data"
    }
   ],
   "source": [
    "#\"Race\",\"Education\",\"BMI\",\"Obesity\",\"Type of Meals\",\"Exercise Dur(Mins/day)\",\"Lifestyle\",\n",
    "# \"Phy Hlth Index\",\"Avg CPAP Use(hrs/night)\"\n",
    "df.plot.hist(column=[\"Phy Hlth Index\"],by=\"Race\", figsize=(8,8))"
   ]
  },
  {
   "cell_type": "markdown",
   "metadata": {},
   "source": [
    "> Based on the above histograms we could see that max PHI for participants from AA group was <=2.5, whereas the max PHI for their Cauc counterparts ranged upto 3 and higher number of them peaked between 2-2.5."
   ]
  },
  {
   "cell_type": "code",
   "execution_count": 73,
   "metadata": {
    "scrolled": false
   },
   "outputs": [
    {
     "data": {
      "text/plain": [
       "array([<AxesSubplot:title={'center':'AA'}, ylabel='Frequency'>,\n",
       "       <AxesSubplot:title={'center':'Cauc'}, ylabel='Frequency'>],\n",
       "      dtype=object)"
      ]
     },
     "execution_count": 73,
     "metadata": {},
     "output_type": "execute_result"
    },
    {
     "data": {
      "image/png": "[encoded data removed]",
      "text/plain": [
       "<Figure size 576x576 with 2 Axes>"
      ]
     },
     "metadata": {
      "needs_background": "light"
     },
     "output_type": "display_data"
    }
   ],
   "source": [
    "#\"Race\",\"Education\",\"BMI\",\"Obesity\",\"Type of Meals\",\"Exercise Dur(Mins/day)\",\"Lifestyle\",\n",
    "# \"Phy Hlth Index\",\"Avg CPAP Use(hrs/night)\"\n",
    "df.plot.hist(column=[\"Avg CPAP Use(hrs/night)\"],by=\"Race\", figsize=(8,8))"
   ]
  },
  {
   "cell_type": "markdown",
   "metadata": {},
   "source": [
    "> Based on the above histograms we could see that participants from AA group CPAP(a therapuetic device to cure Sleep Apnea) for lesser number of hours as compared to the participants from the Cauc group."
   ]
  },
  {
   "cell_type": "code",
   "execution_count": 70,
   "metadata": {},
   "outputs": [
    {
     "data": {
      "text/plain": [
       "<AxesSubplot:xlabel='Race,Education'>"
      ]
     },
     "execution_count": 70,
     "metadata": {},
     "output_type": "execute_result"
    },
    {
     "data": {
      "image/png": "[encoded data removed]",
      "text/plain": [
       "<Figure size 432x288 with 1 Axes>"
      ]
     },
     "metadata": {
      "needs_background": "light"
     },
     "output_type": "display_data"
    }
   ],
   "source": [
    "df.groupby(by=\"Race\")[\"Education\"].value_counts().plot.bar(rot=45)"
   ]
  },
  {
   "cell_type": "code",
   "execution_count": 51,
   "metadata": {},
   "outputs": [
    {
     "data": {
      "text/plain": [
       "<AxesSubplot:xlabel='Race,Lifestyle'>"
      ]
     },
     "execution_count": 51,
     "metadata": {},
     "output_type": "execute_result"
    },
    {
     "data": {
      "image/png": "[encoded data removed]",
      "text/plain": [
       "<Figure size 432x288 with 1 Axes>"
      ]
     },
     "metadata": {
      "needs_background": "light"
     },
     "output_type": "display_data"
    }
   ],
   "source": [
    "df.groupby(by=\"Race\")[\"Lifestyle\"].value_counts().plot.bar(rot=45)"
   ]
  },
  {
   "cell_type": "code",
   "execution_count": 52,
   "metadata": {},
   "outputs": [
    {
     "data": {
      "text/plain": [
       "<AxesSubplot:xlabel='Race,Type of Meals'>"
      ]
     },
     "execution_count": 52,
     "metadata": {},
     "output_type": "execute_result"
    },
    {
     "data": {
      "image/png": "[encoded data removed]",
      "text/plain": [
       "<Figure size 432x288 with 1 Axes>"
      ]
     },
     "metadata": {
      "needs_background": "light"
     },
     "output_type": "display_data"
    }
   ],
   "source": [
    "df.groupby(by=\"Race\")[\"Type of Meals\"].value_counts().plot.bar(rot=45)"
   ]
  },
  {
   "cell_type": "code",
   "execution_count": 53,
   "metadata": {
    "scrolled": true
   },
   "outputs": [
    {
     "data": {
      "text/plain": [
       "<AxesSubplot:xlabel='Race,Obesity'>"
      ]
     },
     "execution_count": 53,
     "metadata": {},
     "output_type": "execute_result"
    },
    {
     "data": {
      "image/png": "[encoded data removed]",
      "text/plain": [
       "<Figure size 432x288 with 1 Axes>"
      ]
     },
     "metadata": {
      "needs_background": "light"
     },
     "output_type": "display_data"
    }
   ],
   "source": [
    "df.groupby(by=\"Race\")[\"Obesity\"].value_counts().plot.bar(rot=45)"
   ]
  },
  {
   "cell_type": "markdown",
   "metadata": {},
   "source": [
    "> As we can see based on the above data analysis of the remaining columns in this question; the participants in the AA group scored higher points in all the negative sects of the Preventable factors influencing Sleep Apnea."
   ]
  },
  {
   "cell_type": "markdown",
   "metadata": {},
   "source": [
    "Question 2:  What are the impacts of the Non-Preventable Factors over Sleep Apnea amongst different races?"
   ]
  },
  {
   "cell_type": "code",
   "execution_count": 54,
   "metadata": {
    "scrolled": false
   },
   "outputs": [
    {
     "data": {
      "text/html": [
       "<div>\n",
       "<style scoped>\n",
       "    .dataframe tbody tr th:only-of-type {\n",
       "        vertical-align: middle;\n",
       "    }\n",
       "\n",
       "    .dataframe tbody tr th {\n",
       "        vertical-align: top;\n",
       "    }\n",
       "\n",
       "    .dataframe thead th {\n",
       "        text-align: right;\n",
       "    }\n",
       "</style>\n",
       "<table border=\"1\" class=\"dataframe\">\n",
       "  <thead>\n",
       "    <tr style=\"text-align: right;\">\n",
       "      <th></th>\n",
       "      <th>Race</th>\n",
       "      <th>Age(Yrs)</th>\n",
       "      <th>Socio-Economic Status</th>\n",
       "      <th>Presence of HTR2A Gene</th>\n",
       "      <th>AHI</th>\n",
       "      <th>Hypertension</th>\n",
       "      <th>Education</th>\n",
       "    </tr>\n",
       "  </thead>\n",
       "  <tbody>\n",
       "    <tr>\n",
       "      <th>52</th>\n",
       "      <td>AA</td>\n",
       "      <td>59</td>\n",
       "      <td>Middle</td>\n",
       "      <td>Y</td>\n",
       "      <td>76.1</td>\n",
       "      <td>Y</td>\n",
       "      <td>UG</td>\n",
       "    </tr>\n",
       "    <tr>\n",
       "      <th>66</th>\n",
       "      <td>AA</td>\n",
       "      <td>59</td>\n",
       "      <td>Low</td>\n",
       "      <td>Y</td>\n",
       "      <td>33.7</td>\n",
       "      <td>N</td>\n",
       "      <td>HS</td>\n",
       "    </tr>\n",
       "    <tr>\n",
       "      <th>158</th>\n",
       "      <td>AA</td>\n",
       "      <td>59</td>\n",
       "      <td>Low</td>\n",
       "      <td>Y</td>\n",
       "      <td>84.8</td>\n",
       "      <td>Y</td>\n",
       "      <td>HS</td>\n",
       "    </tr>\n",
       "    <tr>\n",
       "      <th>137</th>\n",
       "      <td>AA</td>\n",
       "      <td>57</td>\n",
       "      <td>Low</td>\n",
       "      <td>Y</td>\n",
       "      <td>82.7</td>\n",
       "      <td>N</td>\n",
       "      <td>HS</td>\n",
       "    </tr>\n",
       "    <tr>\n",
       "      <th>117</th>\n",
       "      <td>AA</td>\n",
       "      <td>56</td>\n",
       "      <td>Middle</td>\n",
       "      <td>Y</td>\n",
       "      <td>37.2</td>\n",
       "      <td>Y</td>\n",
       "      <td>UG</td>\n",
       "    </tr>\n",
       "    <tr>\n",
       "      <th>...</th>\n",
       "      <td>...</td>\n",
       "      <td>...</td>\n",
       "      <td>...</td>\n",
       "      <td>...</td>\n",
       "      <td>...</td>\n",
       "      <td>...</td>\n",
       "      <td>...</td>\n",
       "    </tr>\n",
       "    <tr>\n",
       "      <th>85</th>\n",
       "      <td>Cauc</td>\n",
       "      <td>22</td>\n",
       "      <td>Middle</td>\n",
       "      <td>N</td>\n",
       "      <td>22.4</td>\n",
       "      <td>N</td>\n",
       "      <td>UG</td>\n",
       "    </tr>\n",
       "    <tr>\n",
       "      <th>163</th>\n",
       "      <td>Cauc</td>\n",
       "      <td>22</td>\n",
       "      <td>Middle</td>\n",
       "      <td>N</td>\n",
       "      <td>18.9</td>\n",
       "      <td>N</td>\n",
       "      <td>UG</td>\n",
       "    </tr>\n",
       "    <tr>\n",
       "      <th>51</th>\n",
       "      <td>Cauc</td>\n",
       "      <td>21</td>\n",
       "      <td>High</td>\n",
       "      <td>N</td>\n",
       "      <td>19.7</td>\n",
       "      <td>N</td>\n",
       "      <td>PG</td>\n",
       "    </tr>\n",
       "    <tr>\n",
       "      <th>56</th>\n",
       "      <td>Cauc</td>\n",
       "      <td>21</td>\n",
       "      <td>High</td>\n",
       "      <td>N</td>\n",
       "      <td>30.6</td>\n",
       "      <td>Y</td>\n",
       "      <td>UG</td>\n",
       "    </tr>\n",
       "    <tr>\n",
       "      <th>177</th>\n",
       "      <td>Cauc</td>\n",
       "      <td>20</td>\n",
       "      <td>Low</td>\n",
       "      <td>N</td>\n",
       "      <td>21.5</td>\n",
       "      <td>N</td>\n",
       "      <td>HS</td>\n",
       "    </tr>\n",
       "  </tbody>\n",
       "</table>\n",
       "<p>208 rows × 7 columns</p>\n",
       "</div>"
      ],
      "text/plain": [
       "     Race  Age(Yrs) Socio-Economic Status Presence of HTR2A Gene   AHI  \\\n",
       "52     AA        59                Middle                      Y  76.1   \n",
       "66     AA        59                   Low                      Y  33.7   \n",
       "158    AA        59                   Low                      Y  84.8   \n",
       "137    AA        57                   Low                      Y  82.7   \n",
       "117    AA        56                Middle                      Y  37.2   \n",
       "..    ...       ...                   ...                    ...   ...   \n",
       "85   Cauc        22                Middle                      N  22.4   \n",
       "163  Cauc        22                Middle                      N  18.9   \n",
       "51   Cauc        21                  High                      N  19.7   \n",
       "56   Cauc        21                  High                      N  30.6   \n",
       "177  Cauc        20                   Low                      N  21.5   \n",
       "\n",
       "    Hypertension Education  \n",
       "52             Y        UG  \n",
       "66             N        HS  \n",
       "158            Y        HS  \n",
       "137            N        HS  \n",
       "117            Y        UG  \n",
       "..           ...       ...  \n",
       "85             N        UG  \n",
       "163            N        UG  \n",
       "51             N        PG  \n",
       "56             Y        UG  \n",
       "177            N        HS  \n",
       "\n",
       "[208 rows x 7 columns]"
      ]
     },
     "execution_count": 54,
     "metadata": {},
     "output_type": "execute_result"
    }
   ],
   "source": [
    "#Non-Preventable Factors \n",
    "# Again Lets first pick the columns with values for the Non-Preventable factors for each Race Category\n",
    "df[[\"Race\",\"Age(Yrs)\",\"Socio-Economic Status\",\"Presence of HTR2A Gene\",\"AHI\",\"Hypertension\",\"Education\"]]"
   ]
  },
  {
   "cell_type": "code",
   "execution_count": 74,
   "metadata": {
    "scrolled": false
   },
   "outputs": [
    {
     "data": {
      "text/plain": [
       "array([<AxesSubplot:title={'center':'AA'}, ylabel='Frequency'>,\n",
       "       <AxesSubplot:title={'center':'Cauc'}, ylabel='Frequency'>],\n",
       "      dtype=object)"
      ]
     },
     "execution_count": 74,
     "metadata": {},
     "output_type": "execute_result"
    },
    {
     "data": {
      "image/png": "[encoded data removed]",
      "text/plain": [
       "<Figure size 576x576 with 2 Axes>"
      ]
     },
     "metadata": {
      "needs_background": "light"
     },
     "output_type": "display_data"
    }
   ],
   "source": [
    "#\"Race\",\"Age(Yrs)\",\"Socio-Economic Status\",\"Presence of HTR2A Gene\",\"AHI\",\"Hypertension\",\"Education\"\n",
    "df.plot.hist(column=[\"Age(Yrs)\"],by=\"Race\", figsize=(8,8))"
   ]
  },
  {
   "cell_type": "markdown",
   "metadata": {},
   "source": [
    "> Based on the width of the above histograms, it is deduced that larger number of participants from African-American Race have Sleep Apnea in the Age group 35-45 and also had a spike in the Age group of around 55. Whereas for the participants from Caucasian group, majority of them have Sleep Apnea between the Age group of 25-42.5."
   ]
  },
  {
   "cell_type": "code",
   "execution_count": 77,
   "metadata": {
    "scrolled": false
   },
   "outputs": [
    {
     "data": {
      "text/plain": [
       "array([<AxesSubplot:title={'center':'AA'}, ylabel='Frequency'>,\n",
       "       <AxesSubplot:title={'center':'Cauc'}, ylabel='Frequency'>],\n",
       "      dtype=object)"
      ]
     },
     "execution_count": 77,
     "metadata": {},
     "output_type": "execute_result"
    },
    {
     "data": {
      "image/png": "[encoded data removed]",
      "text/plain": [
       "<Figure size 576x576 with 2 Axes>"
      ]
     },
     "metadata": {
      "needs_background": "light"
     },
     "output_type": "display_data"
    }
   ],
   "source": [
    "#\"Race\",\"Age(Yrs)\",\"Socio-Economic Status\",\"Presence of HTR2A Gene\",\"AHI\",\"Hypertension\",\"Education\"\n",
    "df.plot.hist(column=[\"AHI\"],by=\"Race\", figsize=(8,8))"
   ]
  },
  {
   "cell_type": "markdown",
   "metadata": {},
   "source": [
    "> Based on the above histogram, it can deduced again that the participants of AA group had higher AHI than the participants in the Cauc group. AHI is basically a measure of the severity of OSA (Obstructive Sleep Apnea). "
   ]
  },
  {
   "cell_type": "code",
   "execution_count": 57,
   "metadata": {
    "scrolled": false
   },
   "outputs": [
    {
     "data": {
      "text/plain": [
       "<AxesSubplot:xlabel='Race,Education'>"
      ]
     },
     "execution_count": 57,
     "metadata": {},
     "output_type": "execute_result"
    },
    {
     "data": {
      "image/png": "[encoded data removed]",
      "text/plain": [
       "<Figure size 432x288 with 1 Axes>"
      ]
     },
     "metadata": {
      "needs_background": "light"
     },
     "output_type": "display_data"
    }
   ],
   "source": [
    "df.groupby(by=\"Race\")[\"Education\"].value_counts().plot.bar(rot=45)"
   ]
  },
  {
   "cell_type": "markdown",
   "metadata": {},
   "source": [
    "Education in my opinion is something that could be treated both ways as Preventable Factor and/or Non-Preventable Factor. So I decided to put it here as well."
   ]
  },
  {
   "cell_type": "code",
   "execution_count": 58,
   "metadata": {},
   "outputs": [
    {
     "data": {
      "text/plain": [
       "<AxesSubplot:xlabel='Race,Socio-Economic Status'>"
      ]
     },
     "execution_count": 58,
     "metadata": {},
     "output_type": "execute_result"
    },
    {
     "data": {
      "image/png": "[encoded data removed]",
      "text/plain": [
       "<Figure size 432x288 with 1 Axes>"
      ]
     },
     "metadata": {
      "needs_background": "light"
     },
     "output_type": "display_data"
    }
   ],
   "source": [
    "df.groupby(by=\"Race\")[\"Socio-Economic Status\"].value_counts().plot.bar(rot=45)"
   ]
  },
  {
   "cell_type": "markdown",
   "metadata": {},
   "source": [
    "> The above results show that the participants of AA group were only on the first two levels of the Socio Economic status. Whereas the participants of the Cauc group were on all three levels of the SES group."
   ]
  },
  {
   "cell_type": "code",
   "execution_count": 59,
   "metadata": {},
   "outputs": [
    {
     "data": {
      "text/plain": [
       "<AxesSubplot:xlabel='Race,Presence of HTR2A Gene'>"
      ]
     },
     "execution_count": 59,
     "metadata": {},
     "output_type": "execute_result"
    },
    {
     "data": {
      "image/png": "[encoded data removed]",
      "text/plain": [
       "<Figure size 432x288 with 1 Axes>"
      ]
     },
     "metadata": {
      "needs_background": "light"
     },
     "output_type": "display_data"
    }
   ],
   "source": [
    "df.groupby(by=\"Race\")[\"Presence of HTR2A Gene\"].value_counts().plot.bar(rot=45)"
   ]
  },
  {
   "cell_type": "code",
   "execution_count": 60,
   "metadata": {},
   "outputs": [
    {
     "data": {
      "text/plain": [
       "<AxesSubplot:xlabel='Race,Hypertension'>"
      ]
     },
     "execution_count": 60,
     "metadata": {},
     "output_type": "execute_result"
    },
    {
     "data": {
      "image/png": "[encoded data removed]",
      "text/plain": [
       "<Figure size 432x288 with 1 Axes>"
      ]
     },
     "metadata": {
      "needs_background": "light"
     },
     "output_type": "display_data"
    }
   ],
   "source": [
    "df.groupby(by=\"Race\")[\"Hypertension\"].value_counts().plot.bar(rot=45)"
   ]
  },
  {
   "cell_type": "markdown",
   "metadata": {},
   "source": [
    "> The above two result sets again show that the participants from the AA group were more likely to have the Presence of HTR2A Gene(OSA Associated - Seratonin receptor enoding Gene) in them and were also the ones with higher numbers of Hypertensive cases."
   ]
  },
  {
   "cell_type": "markdown",
   "metadata": {},
   "source": [
    "Question 3:  Can it be cured or even controlled over time by proper therapy(CPAP Use)?"
   ]
  },
  {
   "cell_type": "markdown",
   "metadata": {},
   "source": [
    "> To answer this question we need to analyze the dataset for the Quality of Sleep, participants from both the Race had, again what was their Avg use of CPAP device, and how well they were able to reduce the most common symptoms of Sleep Apnea."
   ]
  },
  {
   "cell_type": "code",
   "execution_count": 78,
   "metadata": {
    "scrolled": false
   },
   "outputs": [
    {
     "data": {
      "text/plain": [
       "array([<AxesSubplot:title={'center':'AA'}, ylabel='Frequency'>,\n",
       "       <AxesSubplot:title={'center':'Cauc'}, ylabel='Frequency'>],\n",
       "      dtype=object)"
      ]
     },
     "execution_count": 78,
     "metadata": {},
     "output_type": "execute_result"
    },
    {
     "data": {
      "image/png": "[encoded data removed]",
      "text/plain": [
       "<Figure size 576x576 with 2 Axes>"
      ]
     },
     "metadata": {
      "needs_background": "light"
     },
     "output_type": "display_data"
    }
   ],
   "source": [
    "#\"Race\", \"Percent NREM Sleep\"\n",
    "df.plot.hist(column=[\"Percent NREM Sleep\"],by=\"Race\", figsize=(8,8))"
   ]
  },
  {
   "cell_type": "code",
   "execution_count": 79,
   "metadata": {
    "scrolled": false
   },
   "outputs": [
    {
     "data": {
      "text/plain": [
       "array([<AxesSubplot:title={'center':'AA'}, ylabel='Frequency'>,\n",
       "       <AxesSubplot:title={'center':'Cauc'}, ylabel='Frequency'>],\n",
       "      dtype=object)"
      ]
     },
     "execution_count": 79,
     "metadata": {},
     "output_type": "execute_result"
    },
    {
     "data": {
      "image/png": "[encoded data removed]",
      "text/plain": [
       "<Figure size 576x576 with 2 Axes>"
      ]
     },
     "metadata": {
      "needs_background": "light"
     },
     "output_type": "display_data"
    }
   ],
   "source": [
    "#\"Race\", \"Avg CPAP Use(hrs/night)\"\n",
    "df.plot.hist(column=[\"Avg CPAP Use(hrs/night)\"],by=\"Race\", figsize=(8,8))"
   ]
  },
  {
   "cell_type": "markdown",
   "metadata": {},
   "source": [
    "> The Above two sets of Histograms show that among the two Race groups participants, Caucasians had better quality sleep than the participants of AA group. Which upon comparing their number of hours/night use of CPAP device, show that Cauc group participants had higher values than the AA group. This could help us clearly predict the fact that OSA could be cured/controlled by longer use of CPAP device."
   ]
  },
  {
   "cell_type": "code",
   "execution_count": 63,
   "metadata": {},
   "outputs": [
    {
     "data": {
      "text/plain": [
       "<AxesSubplot:xlabel='Race,Reduced Snoring-Post 12wks CPAP Use'>"
      ]
     },
     "execution_count": 63,
     "metadata": {},
     "output_type": "execute_result"
    },
    {
     "data": {
      "image/png": "[encoded data removed]",
      "text/plain": [
       "<Figure size 432x288 with 1 Axes>"
      ]
     },
     "metadata": {
      "needs_background": "light"
     },
     "output_type": "display_data"
    }
   ],
   "source": [
    "df.groupby(by=\"Race\")[\"Reduced Snoring-Post 12wks CPAP Use\"].value_counts().plot.bar(rot=45)"
   ]
  },
  {
   "cell_type": "code",
   "execution_count": 64,
   "metadata": {},
   "outputs": [
    {
     "data": {
      "text/plain": [
       "<AxesSubplot:xlabel='Race,Reduced Tiredness-Post 12wks CPAP Use'>"
      ]
     },
     "execution_count": 64,
     "metadata": {},
     "output_type": "execute_result"
    },
    {
     "data": {
      "image/png": "[encoded data removed]",
      "text/plain": [
       "<Figure size 432x288 with 1 Axes>"
      ]
     },
     "metadata": {
      "needs_background": "light"
     },
     "output_type": "display_data"
    }
   ],
   "source": [
    "df.groupby(by=\"Race\")[\"Reduced Tiredness-Post 12wks CPAP Use\"].value_counts().plot.bar(rot=45)"
   ]
  },
  {
   "cell_type": "code",
   "execution_count": 65,
   "metadata": {},
   "outputs": [
    {
     "data": {
      "text/plain": [
       "<AxesSubplot:xlabel='Race,Reduced Daytime Sleepiness-Post 12wks CPAP Use'>"
      ]
     },
     "execution_count": 65,
     "metadata": {},
     "output_type": "execute_result"
    },
    {
     "data": {
      "image/png": "[encoded data removed]",
      "text/plain": [
       "<Figure size 432x288 with 1 Axes>"
      ]
     },
     "metadata": {
      "needs_background": "light"
     },
     "output_type": "display_data"
    }
   ],
   "source": [
    "df.groupby(by=\"Race\")[\"Reduced Daytime Sleepiness-Post 12wks CPAP Use\"].value_counts().plot.bar(rot=45)"
   ]
  },
  {
   "cell_type": "markdown",
   "metadata": {},
   "source": [
    "> Finally the Above sets of Histograms show that among the two Race groups participants, Caucasians had better responses than the participants of AA group, for all the syptoms of Sleep Apnea. Which again can be directly related to the number of hours/night use of CPAP device among the two groups. The histograms clearly show that Cauc group participants had higher values than the AA group, since their reponses on the Likert Scale were always higher for Post 12 weeks CPAP use review. This could help us clearly answer the question, that OSA could be cured or at the least controlled by longer use of CPAP device."
   ]
  },
  {
   "cell_type": "code",
   "execution_count": 80,
   "metadata": {},
   "outputs": [
    {
     "data": {
      "text/plain": [
       "array([<AxesSubplot:title={'center':'AA'}, ylabel='Frequency'>,\n",
       "       <AxesSubplot:title={'center':'Cauc'}, ylabel='Frequency'>],\n",
       "      dtype=object)"
      ]
     },
     "execution_count": 80,
     "metadata": {},
     "output_type": "execute_result"
    },
    {
     "data": {
      "image/png": "[encoded data removed]",
      "text/plain": [
       "<Figure size 720x576 with 2 Axes>"
      ]
     },
     "metadata": {
      "needs_background": "light"
     },
     "output_type": "display_data"
    }
   ],
   "source": [
    "#df.plot.hist(column=[\"AHI\",\"AHI-Post 12wks CPAP Use\"], figsize=(10,8))\n",
    "df.plot.hist(column=[\"AHI\",\"AHI-Post 12wks CPAP Use\"],by=\"Race\", figsize=(10,8))"
   ]
  },
  {
   "cell_type": "markdown",
   "metadata": {},
   "source": [
    "> As a final visualization for the entire data set comparisons for the Pre and Post 12 weeks AHI values, we can see that for sure there is some reduction in the AHi values post proper and regular use of CPAP devices."
   ]
  }
 ],
 "metadata": {
  "interpreter": {
   "hash": "26de051ba29f2982a8de78e945f0abaf191376122a1563185a90213a26c5da77"
  },
  "kernelspec": {
   "display_name": "Python 3 (ipykernel)",
   "language": "python",
   "name": "python3"
  },
  "language_info": {
   "codemirror_mode": {
    "name": "ipython",
    "version": 3
   },
   "file_extension": ".py",
   "mimetype": "text/x-python",
   "name": "python",
   "nbconvert_exporter": "python",
   "pygments_lexer": "ipython3",
   "version": "3.10.5"
  }
 },
 "nbformat": 4,
 "nbformat_minor": 2
}
